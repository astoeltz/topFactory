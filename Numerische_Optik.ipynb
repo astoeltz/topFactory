{
 "cells": [
  {
   "cell_type": "markdown",
   "metadata": {},
   "source": [
    "# Numerische Berechnung der Beta, Dispersionsfunktionen\n",
    "\n",
    "Da der Matrixformalismus eine numerische Berechnung der relevanten Funktionen ermoeglicht soll dies im Folgenden gemacht werden.\n",
    "\n",
    "Dazu wird zunaechst der Ring des Ringbeschleunigers in seine Komponenten, also primaer FODO-Zellen zerlegt und dann die Beta und Dispersionsfunktion mithilfe der zugehoerigen Transfermatrizen durch die FODO-Zelle propagiert. Dazu sollen zunaechst alle relevanten Transportmatrizen aufgelistet werden.\n",
    "\n",
    "Der allgemeine Formalismus fuer eine einzige Teilchenbahn ist:\n",
    "\n",
    "$ \\begin{pmatrix}\n",
    "u_1 \\\\\n",
    "u'_1 \n",
    "\\end{pmatrix} = M_{01} \n",
    "\\begin{pmatrix}\n",
    "u_0 \\\\\n",
    "u'_0\n",
    "\\end{pmatrix}$\n",
    "\n",
    "Da wir jedoch nicht direkt an der Bahn eines einzelnen Teilchens interressiert sind, sondern an dem Verhalten des Ganzen Teilchenpacketes muss anstelle des Teilchenvektors die Betamatrix gestellt werden. Fuer eine Transportmatrix $M_{01}$ gilt:\n",
    "\n",
    "$ B_1 = M_{01} B_0 M_{01}^T $\n",
    "\n",
    "mit\n",
    "\n",
    "$ B_0 = \\begin{pmatrix} \\beta_0 & -\\alpha_0 \\\\ -\\alpha_0 & \\gamma_0 \\end{pmatrix}$\n",
    "\n",
    "wobei $ \\beta_0 = \\beta(s_0)$ und $\\beta(s)$ die Betafunktion und $\\beta'(s)$ deren ableitung nach s ist.\n",
    "Es gilt weiterhin: $\\alpha_0 = \\alpha(s) = -\\frac{\\beta'(s)}{2} $ und $\\gamma_0 = \\frac{1+\\alpha^2(s)}{\\beta(s)}$\n",
    "\n",
    "#### Transformationsmatrix fuer eine Driftstrecke\n",
    "Die Driftstrecke wirkt in gleichem masse auf Auslenkungen in x und in y richtung einer Teilchenbahn und ist definiert als:\n",
    "\n",
    "$ M_{Dr}(s) = \\begin{pmatrix} 1 & s & 0 & 0 \\\\ 0 & 1 & 0 & 0 \\\\ 0 & 0 & 1 & s \\\\ 0 & 0 & 0 & 1 \\end{pmatrix} $\n",
    "\n",
    "Da es im allgemeinen auch interressant ist die Betafunktion sowohl fuer die x als auch die y komponente zu berechnen kann auch die Betamatrix auf eine 4x4 Matrix erweitert werden."
   ]
  },
  {
   "cell_type": "code",
   "execution_count": 39,
   "metadata": {},
   "outputs": [],
   "source": [
    "# we are doing matrix multiplication so we are going to need numpy\n",
    "import numpy as np\n",
    "import matplotlib.pyplot as plt\n",
    "\n",
    "def drift_space_transport_matrix(s):\n",
    "    return np.array([[1, s, 0, 0],\n",
    "                     [0, 1, 0, 0],\n",
    "                     [0, 0, 1, s],\n",
    "                     [0, 0, 0, 1]])\n",
    "\n",
    "def drift_space_particle_transport(x_0, s):\n",
    "    m = drift_space_transport_matrix(s)\n",
    "    return m @ x_0\n",
    "\n",
    "\n",
    "def drift_space_betamatrix_transport(B_0, s):\n",
    "    m = drift_space_transport_matrix(s)\n",
    "    return m @ B_0 @ m.T"
   ]
  },
  {
   "cell_type": "markdown",
   "metadata": {},
   "source": [
    "#### Transportmatrix fuer einen Quadrupol\n",
    "Die Quadrupoltransportmatrix ist je nach Quadrupolstaerke in einer der beiden Ebenen fokussierend, waerend es in der anderen ebene defokussierend ist.\n",
    "Daher auch die etwas kompliziertere Struktur. Alle Matrizen sind so geschrieben, sodass sie fuer alle $s$ gueltig sind, da es dank der in grossen Mengen zur verfuegung stehenden Rechenleistung nicht noetig ist vereinfachungen zu verwenden.\n",
    "\n",
    "Horizontal fokussierender Quadrupol $k < 0$ mit $\\Omega = \\sqrt{\\lvert k\\rvert}s$:\n",
    "\n",
    "$ M_{QF} = \\begin{pmatrix} \\cos{\\Omega} & \\frac{1}{\\sqrt{\\lvert k \\rvert}}\\sin{\\Omega} & 0 & 0 \\\\\n",
    "-\\sqrt{\\lvert k \\rvert} \\sin{\\Omega} & \\cos{\\Omega} & 0 & 0 \\\\\n",
    "0 & 0 & \\cosh{\\Omega} & \\frac{1}{\\sqrt{\\lvert k \\rvert}} \\sinh{\\Omega} \\\\\n",
    "0 & 0 & \\sqrt{\\lvert k \\rvert} \\sinh{\\Omega} & \\cosh{\\Omega} \\end{pmatrix} $\n",
    "\n",
    "Vertikal fokussierender Quadrupol $k > 0$:\n",
    "\n",
    "$ M_{QD} = \\begin{pmatrix} \\cosh{\\Omega} & \\frac{1}{\\sqrt{k}}\\sinh{\\Omega} & 0 & 0 \\\\\n",
    "\\sqrt{k} \\sinh{\\Omega} & \\cosh{\\Omega} & 0 & 0 \\\\\n",
    "0 & 0 & \\cos{\\Omega} & \\frac{1}{\\sqrt{k}} \\sin{\\Omega} \\\\\n",
    "0 & 0 & -\\sqrt{k} \\sin{\\Omega} & \\cos{\\Omega} \\end{pmatrix} $"
   ]
  },
  {
   "cell_type": "code",
   "execution_count": 28,
   "metadata": {},
   "outputs": [],
   "source": [
    "def quad_transport_matrix(s, k):\n",
    "    sk = np.sqrt(np.abs(k))\n",
    "    a = np.array([[np.cos(sk*s), 1/sk*np.sin(sk*s)],\n",
    "                  [-sk*np.sin(sk*s), np.cos(sk*s)]])\n",
    "    b = np.array([[np.cosh(sk*s), 1/sk*np.sinh(sk*s)],\n",
    "                  [sk*np.sinh(sk*s), np.cosh(sk*s)]])\n",
    "    # horizontal fokussierend\n",
    "    \n",
    "    if k < 0:\n",
    "        mat = np.block([[a, np.zeros((2, 2))],\n",
    "                        [np.zeros((2, 2)), b],\n",
    "                       ])\n",
    "    # vertikal fokussierend\n",
    "    else:\n",
    "        mat = np.block([[b, np.zeros((2, 2))],\n",
    "                        [np.zeros((2, 2)), a],\n",
    "                       ])\n",
    "    return mat\n",
    "\n",
    "def quad_particle_transport(x_0, s, k):\n",
    "    m = quad_transport_matrix(s,k)\n",
    "    return m @ x_0\n",
    "\n",
    "def quad_betamatrix_transport(B_0, s, k):\n",
    "    m = quad_transport_matrix(s, k)\n",
    "    return m @ B_0 @ m.T"
   ]
  },
  {
   "cell_type": "markdown",
   "metadata": {},
   "source": [
    "#### Transportmatrix fuer einen Dipol\n",
    "Bei der Transportmatrix eines Dipols muss noch der ablenkwinkel aus der Laenge und dem Ablenkradius errechnet werden.\n",
    "Es gilt\n",
    "$ \\theta = \\frac{s}{\\rho} $ wobei $s$ die strecke des Teilchens entlang des Dipols ist.\n",
    "\n",
    "Ein Dipol wirkt prinzipiell nur auf die Horizontale Bahn des Teilchens, wesshalb die Dipolmatrix asymmetrisch aussieht, wenn sie als 4 x 4 matrix geschrieben wird.\n",
    "\n",
    "$ M_{Dipol} = \\begin{pmatrix} \\cos{\\theta} & \\rho \\sin{\\theta} & 0 & 0 \\\\ -\\frac{1}{\\rho}\\sin{\\theta} & \\cos{\\theta} & 0 & 0 \\\\ 0 & 0 & 1 & s \\\\ 0 & 0 & 0 & 1\\end{pmatrix} $"
   ]
  },
  {
   "cell_type": "code",
   "execution_count": 19,
   "metadata": {},
   "outputs": [],
   "source": [
    "def dipol_transport_matrix(s, r):\n",
    "    x = np.array([[np.cos(s/r), r*np.sin(s/r)],\n",
    "                   [-1/r*np.sin(s/r), np.cos(s/r)]])\n",
    "    y = np.array([[1, s],\n",
    "                  [0, 1]])\n",
    "    return np.block([[x, np.zeros((2, 2))],\n",
    "                     [np.zeros((2, 2)), y]])\n",
    "\n",
    "def dipol_particle_transport(x_0, s, r):\n",
    "    m = dipol_transport_matrix(s, r)\n",
    "    return m @ x_0\n",
    "\n",
    "def dipol_betamatrix_transport(B_0, s, r):\n",
    "    m = dipol_transport_matrix(s, r)\n",
    "    return m @ B_0 @ m.T"
   ]
  },
  {
   "cell_type": "markdown",
   "metadata": {},
   "source": [
    "## Berechnung der Dispersionsfunktion\n",
    "Die Dispersion kann ebenfalls als Matrix formuliert werden. Da die Dispersion in erster linie vom kruemungsradius der Bahn beeinflusst wird, koennen alle magnete ausser der Dipole vernachlaessigt werden. Die Dispersionsmatrizen sind folglich fuer alle strecken identisch zu einer Driftstrecke, ausser beim dipol.\n",
    "\n",
    "Die Dipol Dispersionsmatrix ist wie folgt definiert.\n",
    "\n",
    "$ MD = \\begin{pmatrix} \\cos{\\theta} & \\rho\\sin{\\theta} & \\rho \\left(1-\\cos{\\theta}\\right) \\\\\n",
    "-\\frac{1}{\\rho}\\sin{\\theta} & \\cos{\\theta} & \\sin{\\theta} \\\\\n",
    "0 & 0 & 1 \\end{pmatrix}$\n",
    "\n",
    "Sie transportiert den Dispersionsvector\n",
    "\n",
    "$\\vec{D} = \\begin{pmatrix} D_0 \\\\ D'_0 \\\\ \\frac{\\Delta p}{p_0} \\end{pmatrix}$ \n",
    "\n",
    "entlang des Maschinenorbits"
   ]
  },
  {
   "cell_type": "code",
   "execution_count": 20,
   "metadata": {},
   "outputs": [],
   "source": [
    "def dipol_dispersion_transport(d_0, s, r):\n",
    "    m = np.array([[np.cos(s/r), r*np.sin(s/r), r*(1-np.cos(s/r))],\n",
    "                     [-(1/r)*np.sin(s/r), np.cos(s/r), np.sin(s/r)],\n",
    "                     [0, 0, 1]\n",
    "                    ])\n",
    "    return m @ d_0\n",
    "\n",
    "def quad_dispersion_transport(d_0, s):\n",
    "    m = np.array([[1, s, 0],\n",
    "                  [0, 1, 0],\n",
    "                  [0, 0, 1]])\n",
    "    return m @ d_0\n",
    "\n",
    "def drift_dispersion_transport(d_0, s):\n",
    "    return quad_dispersion_transport(d_0, s)"
   ]
  },
  {
   "cell_type": "markdown",
   "metadata": {},
   "source": [
    "## Test der Funktionen\n",
    "Im Folgenden sollen die oben beschriebenen Funktionen getestet werden.\n",
    "Zunaechst soll eine bahnkurve fuer einen Dipol berechnet werden, wobei eine 180 grad wende gemacht werden soll. Das Teilchen soll dabei lediglich ein klein wenig von der sollbahn versetzt sein und parallel zur sollbahn fliegen"
   ]
  },
  {
   "cell_type": "code",
   "execution_count": 25,
   "metadata": {},
   "outputs": [
    {
     "data": {
      "text/plain": [
       "[<matplotlib.lines.Line2D at 0x7fb7f2da70d0>]"
      ]
     },
     "execution_count": 25,
     "metadata": {},
     "output_type": "execute_result"
    },
    {
     "data": {
      "image/png": "[encoded data removed]",
      "text/plain": [
       "<Figure size 432x288 with 1 Axes>"
      ]
     },
     "metadata": {
      "needs_background": "light"
     },
     "output_type": "display_data"
    }
   ],
   "source": [
    "r = 10\n",
    "s_max = np.pi * r\n",
    "s = np.linspace(0, s_max, 1000)\n",
    "x_0 = [0.1, 0, 0, 0] \n",
    "\n",
    "x_s = [dipol_particle_transport(x_0, s_i, r)[0] for s_i in s]\n",
    "plt.plot(s, x_s)"
   ]
  },
  {
   "cell_type": "markdown",
   "metadata": {},
   "source": [
    "wie wir sehen hat die abweichung gerade das vorzeichen gewechselt, genau wie erwartet\n",
    "fuer den quadrupol kann nun geprueft werden, ob zwei parallele strahlen vor dem quadrupol nach dem quadrupol in der einen ebene zusammenlaufen waehrend sie in der anderen ebene gestreut werden. Es soll daran erinnert werden, dass $\\frac{1}{f} = -kl$"
   ]
  },
  {
   "cell_type": "code",
   "execution_count": 40,
   "metadata": {},
   "outputs": [
    {
     "name": "stdout",
     "output_type": "stream",
     "text": [
      "[ 0.09016556 -0.00966998  0.          0.        ]\n",
      "[-0.09016556  0.00966998  0.          0.        ]\n",
      "[0.         0.         0.11016778 0.01033668]\n",
      "[ 0.          0.         -0.11016778 -0.01033668]\n"
     ]
    },
    {
     "data": {
      "image/png": "[encoded data removed]",
      "text/plain": [
       "<Figure size 432x288 with 1 Axes>"
      ]
     },
     "metadata": {
      "needs_background": "light"
     },
     "output_type": "display_data"
    }
   ],
   "source": [
    "# horizontal fokussierend, vertikal defokussierend\n",
    "k = -0.05\n",
    "l = 1\n",
    "s_max = -1/(k*l) + l\n",
    "s_in_quad = np.linspace(0, l, 1000)\n",
    "s_outside_quad = np.linspace(0, s_max, 1000)\n",
    "x = [[0.1, 0, 0, 0], [-0.1, 0, 0, 0]]\n",
    "y = [[0, 0, 0.1, 0], [0, 0, -0.1, 0]]\n",
    "tracks = [[], [], [], []]\n",
    "\n",
    "for i, particle in enumerate(x):\n",
    "    for s_i in s_in_quad:\n",
    "        tracks[i].append(quad_particle_transport(particle, s_i, k)[0])\n",
    "    x[i] = quad_particle_transport(particle, l, k)\n",
    "\n",
    "for i, particle in enumerate(y):\n",
    "    for s_i in s_in_quad:\n",
    "        tracks[i+len(x)].append(quad_particle_transport(particle, s_i, k)[2])\n",
    "    y[i] = quad_particle_transport(particle, l, k)\n",
    "    \n",
    "print(quad_particle_transport(x[0], l, k))\n",
    "print(quad_particle_transport(x[1], l, k))\n",
    "print(quad_particle_transport(y[0], l, k))\n",
    "print(quad_particle_transport(y[1], l, k))\n",
    "\n",
    "for i, particle in enumerate(x):\n",
    "    for s_i in s_outside_quad:\n",
    "        x_i = drift_space_particle_transport(particle, s_i)\n",
    "        tracks[i].append(x_i[0])\n",
    "        #print(x_i)\n",
    "\n",
    "for i, particle in enumerate(y):\n",
    "    for s_i in s_outside_quad:\n",
    "        x_i = drift_space_particle_transport(particle, s_i)\n",
    "        tracks[i+len(x)].append(x_i[2])\n",
    "        #print(x_i[2])\n",
    "\n",
    "s_outside_quad += l\n",
    "s = np.concatenate((s_in_quad, s_outside_quad), axis=0)\n",
    "for track in tracks:\n",
    "    plt.plot(s, track)\n",
    "plt.show()"
   ]
  },
  {
   "cell_type": "markdown",
   "metadata": {},
   "source": [
    "jetzt wo wir wissen, dass die entsprechenden Funktionen auch das tun was sie sollen, koennen wir inzwischen bereits Teilchenbahnen durch den Beschleuniger verfolgen. Als letztes muss noch die  Dispersionsfunktion getestet werden. Wir nehmen an, dass die Dispersionsfunktion nur in Dipolen eine evolution erfaehrt\n",
    "Es soll also jetzt die dispersionsentwicklung in einem Dipol betrachtet werden."
   ]
  },
  {
   "cell_type": "code",
   "execution_count": 50,
   "metadata": {},
   "outputs": [
    {
     "data": {
      "image/png": "[encoded data removed]",
      "text/plain": [
       "<Figure size 432x288 with 1 Axes>"
      ]
     },
     "metadata": {
      "needs_background": "light"
     },
     "output_type": "display_data"
    }
   ],
   "source": [
    "r = 10\n",
    "s_max = np.pi * r\n",
    "s = np.linspace(0, s_max, 1000)\n",
    "d_0 = [0.00, 0.00, 1] \n",
    "\n",
    "d_s = [dipol_dispersion_transport(d_0, s_i, r) for s_i in s]\n",
    "plt.plot(s, d_s)\n",
    "plt.show()"
   ]
  },
  {
   "cell_type": "markdown",
   "metadata": {},
   "source": [
    "Wie man sehen kann ist die Dispersionsabweichung periodisch ist was zumindest fuer den Fall einer Kreisbahn immerhin sinnvoll erscheint."
   ]
  },
  {
   "cell_type": "markdown",
   "metadata": {},
   "source": []
  }
 ],
 "metadata": {
  "kernelspec": {
   "display_name": "Python 3",
   "language": "python",
   "name": "python3"
  },
  "language_info": {
   "codemirror_mode": {
    "name": "ipython",
    "version": 3
   },
   "file_extension": ".py",
   "mimetype": "text/x-python",
   "name": "python",
   "nbconvert_exporter": "python",
   "pygments_lexer": "ipython3",
   "version": "3.7.8"
  }
 },
 "nbformat": 4,
 "nbformat_minor": 4
}
