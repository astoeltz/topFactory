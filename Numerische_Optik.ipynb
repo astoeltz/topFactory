{
 "cells": [
  {
   "cell_type": "markdown",
   "metadata": {},
   "source": [
    "# Numerische Berechnung der Beta- und Dispersionsfunktionen\n",
    "\n",
    "Da der Matrixformalismus eine numerische Berechnung der relevanten Funktionen ermoeglicht soll dies im Folgenden gemacht werden.\n",
    "\n",
    "Dazu wird zunaechst der Ring des Ringbeschleunigers in seine Komponenten, also primaer FODO-Zellen zerlegt und dann die Beta und Dispersionsfunktion mithilfe der zugehoerigen Transfermatrizen durch die FODO-Zelle propagiert. Dazu sollen zunaechst alle relevanten Transportmatrizen aufgelistet werden.\n",
    "\n",
    "Der allgemeine Formalismus fuer eine einzige Teilchenbahn ist:\n",
    "\n",
    "$ \\begin{pmatrix}\n",
    "u_1 \\\\\n",
    "u'_1 \n",
    "\\end{pmatrix} = M_{01} \n",
    "\\begin{pmatrix}\n",
    "u_0 \\\\\n",
    "u'_0\n",
    "\\end{pmatrix}$\n",
    "\n",
    "Da wir jedoch nicht direkt an der Bahn eines einzelnen Teilchens interressiert sind, sondern an dem Verhalten des Ganzen Teilchenpacketes muss anstelle des Teilchenvektors die Betamatrix gestellt werden. Fuer eine Transportmatrix $M_{01}$ gilt:\n",
    "\n",
    "$ B_1 = M_{01} B_0 M_{01}^T $\n",
    "\n",
    "mit\n",
    "\n",
    "$ B_0 = \\begin{pmatrix} \\beta_0 & -\\alpha_0 \\\\ -\\alpha_0 & \\gamma_0 \\end{pmatrix}$\n",
    "\n",
    "wobei $ \\beta_0 = \\beta(s_0)$ und $\\beta(s)$ die Betafunktion und $\\beta'(s)$ deren ableitung nach s ist.\n",
    "Es gilt weiterhin: $\\alpha_0 = \\alpha(s) = -\\frac{\\beta'(s)}{2} $ und $\\gamma_0 = \\frac{1+\\alpha^2(s)}{\\beta(s)}$\n",
    "\n",
    "#### Transformationsmatrix fuer eine Driftstrecke\n",
    "Die Driftstrecke wirkt in gleichem masse auf Auslenkungen in x und in y richtung einer Teilchenbahn und ist definiert als:\n",
    "\n",
    "$ M_{Dr}(s) = \\begin{pmatrix} 1 & s & 0 & 0 \\\\ 0 & 1 & 0 & 0 \\\\ 0 & 0 & 1 & s \\\\ 0 & 0 & 0 & 1 \\end{pmatrix} $\n",
    "\n",
    "Da es im allgemeinen auch interressant ist die Betafunktion sowohl fuer die x als auch die y komponente zu berechnen kann auch die Betamatrix auf eine 4x4 Matrix erweitert werden."
   ]
  },
  {
   "cell_type": "code",
   "execution_count": 1,
   "metadata": {},
   "outputs": [],
   "source": [
    "# we are doing matrix multiplication so we are going to need numpy\n",
    "import numpy as np\n",
    "import matplotlib.pyplot as plt\n",
    "\n",
    "def drift_space_transport_matrix(s):\n",
    "    return np.array([[1, s, 0, 0],\n",
    "                     [0, 1, 0, 0],\n",
    "                     [0, 0, 1, s],\n",
    "                     [0, 0, 0, 1]])\n",
    "\n",
    "def drift_space_particle_transport(x_0, s):\n",
    "    m = drift_space_transport_matrix(s)\n",
    "    return m @ x_0\n",
    "\n",
    "\n",
    "def drift_space_betamatrix_transport(B_0, s):\n",
    "    m = drift_space_transport_matrix(s)\n",
    "    return m @ B_0 @ m.T"
   ]
  },
  {
   "cell_type": "markdown",
   "metadata": {},
   "source": [
    "#### Transportmatrix fuer einen Quadrupol\n",
    "Die Quadrupoltransportmatrix ist je nach Quadrupolstaerke in einer der beiden Ebenen fokussierend, waerend es in der anderen ebene defokussierend ist.\n",
    "Daher auch die etwas kompliziertere Struktur. Alle Matrizen sind so geschrieben, sodass sie fuer alle $s$ gueltig sind, da es dank der in grossen Mengen zur verfuegung stehenden Rechenleistung nicht noetig ist vereinfachungen zu verwenden.\n",
    "\n",
    "Horizontal fokussierender Quadrupol $k < 0$ mit $\\Omega = \\sqrt{\\lvert k\\rvert}s$:\n",
    "\n",
    "$ M_{QF} = \\begin{pmatrix} \\cos{\\Omega} & \\frac{1}{\\sqrt{\\lvert k \\rvert}}\\sin{\\Omega} & 0 & 0 \\\\\n",
    "-\\sqrt{\\lvert k \\rvert} \\sin{\\Omega} & \\cos{\\Omega} & 0 & 0 \\\\\n",
    "0 & 0 & \\cosh{\\Omega} & \\frac{1}{\\sqrt{\\lvert k \\rvert}} \\sinh{\\Omega} \\\\\n",
    "0 & 0 & \\sqrt{\\lvert k \\rvert} \\sinh{\\Omega} & \\cosh{\\Omega} \\end{pmatrix} $\n",
    "\n",
    "Vertikal fokussierender Quadrupol $k > 0$:\n",
    "\n",
    "$ M_{QD} = \\begin{pmatrix} \\cosh{\\Omega} & \\frac{1}{\\sqrt{k}}\\sinh{\\Omega} & 0 & 0 \\\\\n",
    "\\sqrt{k} \\sinh{\\Omega} & \\cosh{\\Omega} & 0 & 0 \\\\\n",
    "0 & 0 & \\cos{\\Omega} & \\frac{1}{\\sqrt{k}} \\sin{\\Omega} \\\\\n",
    "0 & 0 & -\\sqrt{k} \\sin{\\Omega} & \\cos{\\Omega} \\end{pmatrix} $"
   ]
  },
  {
   "cell_type": "code",
   "execution_count": 2,
   "metadata": {},
   "outputs": [],
   "source": [
    "def quad_transport_matrix(s, k):\n",
    "    sk = np.sqrt(np.abs(k))\n",
    "    a = np.array([[np.cos(sk*s), 1/sk*np.sin(sk*s)],\n",
    "                  [-sk*np.sin(sk*s), np.cos(sk*s)]])\n",
    "    b = np.array([[np.cosh(sk*s), 1/sk*np.sinh(sk*s)],\n",
    "                  [sk*np.sinh(sk*s), np.cosh(sk*s)]])\n",
    "    # horizontal fokussierend\n",
    "    \n",
    "    if k < 0:\n",
    "        mat = np.block([[a, np.zeros((2, 2))],\n",
    "                        [np.zeros((2, 2)), b],\n",
    "                       ])\n",
    "    # vertikal fokussierend\n",
    "    else:\n",
    "        mat = np.block([[b, np.zeros((2, 2))],\n",
    "                        [np.zeros((2, 2)), a],\n",
    "                       ])\n",
    "    return mat\n",
    "\n",
    "def quad_particle_transport(x_0, s, k):\n",
    "    m = quad_transport_matrix(s,k)\n",
    "    return m @ x_0\n",
    "\n",
    "def quad_betamatrix_transport(B_0, s, k):\n",
    "    m = quad_transport_matrix(s, k)\n",
    "    return m @ B_0 @ m.T"
   ]
  },
  {
   "cell_type": "markdown",
   "metadata": {},
   "source": [
    "#### Transportmatrix fuer einen Dipol\n",
    "Bei der Transportmatrix eines Dipols muss noch der ablenkwinkel aus der Laenge und dem Ablenkradius errechnet werden.\n",
    "Es gilt\n",
    "$ \\theta = \\frac{s}{\\rho} $ wobei $s$ die strecke des Teilchens entlang des Dipols ist.\n",
    "\n",
    "Ein Dipol wirkt prinzipiell nur auf die Horizontale Bahn des Teilchens, wesshalb die Dipolmatrix asymmetrisch aussieht, wenn sie als 4 x 4 matrix geschrieben wird.\n",
    "\n",
    "$ M_{Dipol} = \\begin{pmatrix} \\cos{\\theta} & \\rho \\sin{\\theta} & 0 & 0 \\\\ -\\frac{1}{\\rho}\\sin{\\theta} & \\cos{\\theta} & 0 & 0 \\\\ 0 & 0 & 1 & s \\\\ 0 & 0 & 0 & 1\\end{pmatrix} $"
   ]
  },
  {
   "cell_type": "code",
   "execution_count": 3,
   "metadata": {},
   "outputs": [],
   "source": [
    "def dipol_transport_matrix(s, r):\n",
    "    x = np.array([[np.cos(s/r), r*np.sin(s/r)],\n",
    "                   [-1/r*np.sin(s/r), np.cos(s/r)]])\n",
    "    y = np.array([[1, s],\n",
    "                  [0, 1]])\n",
    "    return np.block([[x, np.zeros((2, 2))],\n",
    "                     [np.zeros((2, 2)), y]])\n",
    "\n",
    "def dipol_particle_transport(x_0, s, r):\n",
    "    m = dipol_transport_matrix(s, r)\n",
    "    return m @ x_0\n",
    "\n",
    "def dipol_betamatrix_transport(B_0, s, r):\n",
    "    m = dipol_transport_matrix(s, r)\n",
    "    return m @ B_0 @ m.T"
   ]
  },
  {
   "cell_type": "markdown",
   "metadata": {},
   "source": [
    "## Berechnung der Dispersionsfunktion\n",
    "Die Dispersion kann ebenfalls als Matrix formuliert werden. Da die Dispersion in erster linie vom kruemungsradius der Bahn beeinflusst wird, koennen alle magnete ausser der Dipole vernachlaessigt werden. Die Dispersionsmatrizen sind folglich fuer alle strecken identisch zu einer Driftstrecke, ausser beim dipol.\n",
    "\n",
    "Die Dipol Dispersionsmatrix ist wie folgt definiert.\n",
    "\n",
    "$ MD = \\begin{pmatrix} \\cos{\\theta} & \\rho\\sin{\\theta} & \\rho \\left(1-\\cos{\\theta}\\right) \\\\\n",
    "-\\frac{1}{\\rho}\\sin{\\theta} & \\cos{\\theta} & \\sin{\\theta} \\\\\n",
    "0 & 0 & 1 \\end{pmatrix}$\n",
    "\n",
    "Sie transportiert den Dispersionsvector\n",
    "\n",
    "$\\vec{D} = \\begin{pmatrix} D_0 \\\\ D'_0 \\\\ \\frac{\\Delta p}{p_0} \\end{pmatrix}$ \n",
    "\n",
    "entlang des Maschinenorbits"
   ]
  },
  {
   "cell_type": "code",
   "execution_count": 4,
   "metadata": {},
   "outputs": [],
   "source": [
    "def dipol_dispersion_transport(d_0, s, r):\n",
    "    m = np.array([[np.cos(s/r), r*np.sin(s/r), r*(1-np.cos(s/r))],\n",
    "                     [-(1/r)*np.sin(s/r), np.cos(s/r), np.sin(s/r)],\n",
    "                     [0, 0, 1]\n",
    "                    ])\n",
    "    return m @ d_0\n",
    "\n",
    "def quad_dispersion_transport(d_0, s):\n",
    "    m = np.array([[1, s, 0],\n",
    "                  [0, 1, 0],\n",
    "                  [0, 0, 1]])\n",
    "    return m @ d_0\n",
    "\n",
    "def drift_dispersion_transport(d_0, s):\n",
    "    return quad_dispersion_transport(d_0, s)"
   ]
  },
  {
   "cell_type": "markdown",
   "metadata": {},
   "source": [
    "## Test der Funktionen\n",
    "Im Folgenden sollen die oben beschriebenen Funktionen getestet werden.\n",
    "Zunaechst soll eine bahnkurve fuer einen Dipol berechnet werden, wobei eine 180 grad wende gemacht werden soll. Das Teilchen soll dabei lediglich ein klein wenig von der sollbahn versetzt sein und parallel zur sollbahn fliegen"
   ]
  },
  {
   "cell_type": "code",
   "execution_count": 5,
   "metadata": {},
   "outputs": [
    {
     "data": {
      "text/plain": [
       "[<matplotlib.lines.Line2D at 0x7f582f30c890>]"
      ]
     },
     "execution_count": 5,
     "metadata": {},
     "output_type": "execute_result"
    },
    {
     "data": {
      "image/png": "[encoded data removed]",
      "text/plain": [
       "<Figure size 432x288 with 1 Axes>"
      ]
     },
     "metadata": {
      "needs_background": "light"
     },
     "output_type": "display_data"
    }
   ],
   "source": [
    "r = 10\n",
    "s_max = np.pi * r\n",
    "s = np.linspace(0, s_max, 1000)\n",
    "x_0 = [0.1, 0, 0, 0] \n",
    "\n",
    "x_s = [dipol_particle_transport(x_0, s_i, r)[0] for s_i in s]\n",
    "plt.plot(s, x_s)"
   ]
  },
  {
   "cell_type": "markdown",
   "metadata": {},
   "source": [
    "wie wir sehen hat die abweichung gerade das vorzeichen gewechselt, genau wie erwartet\n",
    "fuer den quadrupol kann nun geprueft werden, ob zwei parallele strahlen vor dem quadrupol nach dem quadrupol in der einen ebene zusammenlaufen waehrend sie in der anderen ebene gestreut werden. Es soll daran erinnert werden, dass $\\frac{1}{f} = -kl$"
   ]
  },
  {
   "cell_type": "code",
   "execution_count": 6,
   "metadata": {},
   "outputs": [
    {
     "name": "stdout",
     "output_type": "stream",
     "text": [
      "[ 0.09016556 -0.00966998  0.          0.        ]\n",
      "[-0.09016556  0.00966998  0.          0.        ]\n",
      "[0.         0.         0.11016778 0.01033668]\n",
      "[ 0.          0.         -0.11016778 -0.01033668]\n"
     ]
    },
    {
     "data": {
      "image/png": "[encoded data removed]",
      "text/plain": [
       "<Figure size 432x288 with 1 Axes>"
      ]
     },
     "metadata": {
      "needs_background": "light"
     },
     "output_type": "display_data"
    }
   ],
   "source": [
    "# horizontal fokussierend, vertikal defokussierend\n",
    "k = -0.05\n",
    "l = 1\n",
    "s_max = -1/(k*l) + l\n",
    "s_in_quad = np.linspace(0, l, 1000)\n",
    "s_outside_quad = np.linspace(0, s_max, 1000)\n",
    "x = [[0.1, 0, 0, 0], [-0.1, 0, 0, 0]]\n",
    "y = [[0, 0, 0.1, 0], [0, 0, -0.1, 0]]\n",
    "tracks = [[], [], [], []]\n",
    "\n",
    "for i, particle in enumerate(x):\n",
    "    for s_i in s_in_quad:\n",
    "        tracks[i].append(quad_particle_transport(particle, s_i, k)[0])\n",
    "    x[i] = quad_particle_transport(particle, l, k)\n",
    "\n",
    "for i, particle in enumerate(y):\n",
    "    for s_i in s_in_quad:\n",
    "        tracks[i+len(x)].append(quad_particle_transport(particle, s_i, k)[2])\n",
    "    y[i] = quad_particle_transport(particle, l, k)\n",
    "    \n",
    "print(quad_particle_transport(x[0], l, k))\n",
    "print(quad_particle_transport(x[1], l, k))\n",
    "print(quad_particle_transport(y[0], l, k))\n",
    "print(quad_particle_transport(y[1], l, k))\n",
    "\n",
    "for i, particle in enumerate(x):\n",
    "    for s_i in s_outside_quad:\n",
    "        x_i = drift_space_particle_transport(particle, s_i)\n",
    "        tracks[i].append(x_i[0])\n",
    "        #print(x_i)\n",
    "\n",
    "for i, particle in enumerate(y):\n",
    "    for s_i in s_outside_quad:\n",
    "        x_i = drift_space_particle_transport(particle, s_i)\n",
    "        tracks[i+len(x)].append(x_i[2])\n",
    "        #print(x_i[2])\n",
    "\n",
    "s_outside_quad += l\n",
    "s = np.concatenate((s_in_quad, s_outside_quad), axis=0)\n",
    "for track in tracks:\n",
    "    plt.plot(s, track)\n",
    "plt.show()"
   ]
  },
  {
   "cell_type": "markdown",
   "metadata": {},
   "source": [
    "jetzt wo wir wissen, dass die entsprechenden Funktionen auch das tun was sie sollen, koennen wir inzwischen bereits Teilchenbahnen durch den Beschleuniger verfolgen. Als letztes muss noch die  Dispersionsfunktion getestet werden. Wir nehmen an, dass die Dispersionsfunktion nur in Dipolen eine evolution erfaehrt\n",
    "Es soll also jetzt die dispersionsentwicklung in einem Dipol betrachtet werden."
   ]
  },
  {
   "cell_type": "code",
   "execution_count": 7,
   "metadata": {},
   "outputs": [
    {
     "data": {
      "image/png": "[encoded data removed]",
      "text/plain": [
       "<Figure size 432x288 with 1 Axes>"
      ]
     },
     "metadata": {
      "needs_background": "light"
     },
     "output_type": "display_data"
    }
   ],
   "source": [
    "r = 10\n",
    "s_max = np.pi * r\n",
    "s = np.linspace(0, s_max, 1000)\n",
    "d_0 = [0.00, 0.00, 1] \n",
    "\n",
    "d_s = [dipol_dispersion_transport(d_0, s_i, r) for s_i in s]\n",
    "plt.plot(s, d_s)\n",
    "plt.show()"
   ]
  },
  {
   "cell_type": "markdown",
   "metadata": {},
   "source": [
    "Wie man sehen kann ist die Dispersionsabweichung periodisch ist was zumindest fuer den Fall einer Kreisbahn immerhin sinnvoll erscheint."
   ]
  },
  {
   "cell_type": "markdown",
   "metadata": {},
   "source": [
    "## Die Fodo zelle\n",
    "Aus dem Lattice Design soll nun die Fodo zelle extrahiert und als \"proof of concept\" durchgerechnet und die resultierende Betafunktion graphisch dargestellt werden.\n",
    "Fuer die FODO Zelle wurden folgende Parameter bestimmt"
   ]
  },
  {
   "cell_type": "code",
   "execution_count": 8,
   "metadata": {},
   "outputs": [],
   "source": [
    "quad_strength = 0.01414213562373095 # abs(k)\n",
    "quad_length = 1 # l\n",
    "bending_radius = 639.8028712294193\n",
    "dipole_length = 14\n",
    "cell_dipole_count = 6\n",
    "fodo_length = 100"
   ]
  },
  {
   "cell_type": "markdown",
   "metadata": {},
   "source": [
    "with these numbers and a few assumptions on the part of the layout it is possible to calculate either the individual particle track or the beta function for the cell. From the Betafunction the other relevant quantities can be derived.\n",
    "\n",
    "It makes sense here to define classes representing the different magnet types. So before being properly able to model the FODO cell it seems reasonable to first write the classes."
   ]
  },
  {
   "cell_type": "code",
   "execution_count": 169,
   "metadata": {},
   "outputs": [],
   "source": [
    "class Quadrupole():\n",
    "    def __init__(self, k, l):\n",
    "        self.strength = k\n",
    "        self.length = l\n",
    "    \n",
    "    def __call__(self, x_0, s):\n",
    "        #print(x_0, type(x_0))\n",
    "        if s > self.length:\n",
    "            raise ValueError(\"distance outside of quad\")\n",
    "        if x_0.shape == (4, 4):\n",
    "            return quad_betamatrix_transport(x_0, self.length, self.strength)\n",
    "        elif x_0.shape == (4,):\n",
    "            return quad_particle_transport(x_0, self.length, self.strength)\n",
    "        else:\n",
    "            raise ValueError(\"wrong shape of input vector. Neither particle vector nor Beta-matrix\")\n",
    "    \n",
    "    def propagate(self, x_0):\n",
    "        return self(x_0, self.length)"
   ]
  },
  {
   "cell_type": "code",
   "execution_count": 157,
   "metadata": {},
   "outputs": [],
   "source": [
    "# I am assuming sector magnets here so that l is the distance that the beam travels through the dipole, not its actual length\n",
    "class Dipole():\n",
    "    def __init__(self, r, l):\n",
    "        self.bending_radius = r\n",
    "        self.length = l\n",
    "        \n",
    "    def __call__(self, x_0, s):\n",
    "        if s > self.length:\n",
    "            raise ValueError(\"distance outside of dipole\")\n",
    "        if x_0.shape == (4, 4):\n",
    "            return dipol_betamatrix_transport(x_0, s, self.bending_radius)\n",
    "        elif x_0.shape == (4,):\n",
    "            return dipol_particle_transport(x_0, s, self.bending_radius)\n",
    "        else:\n",
    "            raise ValueError(\"wrong shape of input vector. Neither particle vector nor Beta-matrix\")\n",
    "\n",
    "    def propagate(self, x_0):\n",
    "        return self(x_0, self.length)"
   ]
  },
  {
   "cell_type": "code",
   "execution_count": 158,
   "metadata": {},
   "outputs": [],
   "source": [
    "class Driftspace():\n",
    "    def __init__(self, l):\n",
    "        self.length = l\n",
    "        print(self.length)\n",
    "    \n",
    "    def __call__(self, x_0, s):\n",
    "        if s > self.length:\n",
    "            raise ValueError(\"distance outside of driftspace\")\n",
    "        if x_0.shape == (4, 4):\n",
    "            return drift_space_betamatrix_transport(x_0, s)\n",
    "        elif x_0.shape == (4,):\n",
    "            return drift_space_particle_transport(x_0, s)\n",
    "        else:\n",
    "            raise ValueError(\"wrong shape of input vector. Neither particle vector nor Beta-matrix\")\n",
    "    \n",
    "    def propagate(self, x_0):\n",
    "        return self(x_0, self.length)"
   ]
  },
  {
   "cell_type": "markdown",
   "metadata": {},
   "source": [
    "With the three primary components abstracted into classes the class representing the FODO cell can be somewhat elegantly defined.\n",
    "As the basic structure is known it should only be neccessary to define the length of the cell, the length of the quadrupole and the length and position of the dipoles in the structure as well as the strengts/bending radii of the magnets.\n",
    "\n",
    "As this is not a finished library I will not include usability features like bounds checks and similar things but only implement the bare funktionality."
   ]
  },
  {
   "cell_type": "code",
   "execution_count": 196,
   "metadata": {},
   "outputs": [],
   "source": [
    "import itertools as it\n",
    "\n",
    "class FODOCell():\n",
    "    def __init__(self, cell_length, quad_length, dipole_starting_positions, dipole_lengths, k, r):\n",
    "        self.length = cell_length\n",
    "        self.elements = []\n",
    "        try:\n",
    "            q1 = Quadrupole(k[0], quad_length)\n",
    "            q2 = Quadrupole(k[1], quad_length)\n",
    "        except TypeError:\n",
    "            q1 = Quadrupole(-k, quad_length)\n",
    "            q2 = Quadrupole(k, quad_length)\n",
    "        self.elements.append((0, q1))\n",
    "        self.elements.append((cell_length/2, q2))\n",
    "        try:\n",
    "            dipole_vals = zip(dipole_starting_positions, dipole_lengths, r)\n",
    "        except TypeError:\n",
    "            dipole_vals = zip(dipole_starting_positions, dipole_lengths, it.repeat(r, len(dipole_starting_positions)))\n",
    "        for dv in dipole_vals:\n",
    "            d = Dipole(dv[2], dv[1])\n",
    "            self.elements.append((dv[0], d))\n",
    "        self.elements = sorted(self.elements, key=lambda d: d[0])\n",
    "        neighboring_magnets = zip(self.elements[:-1], self.elements[1:])\n",
    "        drift_spaces = []\n",
    "        for nm in neighboring_magnets:\n",
    "            end_of_first_magnet = nm[0][0] + nm[0][1].length\n",
    "            start_of_second_magnet = nm[1][0]\n",
    "            drift_spaces.append((end_of_first_magnet, Driftspace(start_of_second_magnet - end_of_first_magnet)))\n",
    "        for d in drift_spaces:\n",
    "            self.elements.append(d)\n",
    "        self.elements = sorted(self.elements, key=lambda m: m[0])\n",
    "        end_of_last_cell = self.elements[-1][0] + self.elements[-1][1].length\n",
    "        if end_of_last_cell < self.length:\n",
    "            self.elements.append((end_of_last_cell, Driftspace(self.length - end_of_last_cell)))\n",
    "        \n",
    "    def propagate(self, x_0):\n",
    "        x = x_0\n",
    "        v = [x_0]\n",
    "        for elem in self.elements:\n",
    "            x = elem[1].propagate(x)\n",
    "            v.append(x)\n",
    "        return v\n",
    "\n",
    "    def __call__(self, x_0, s):\n",
    "        boundary_particle_state_vectors = self.propagate(x_0)\n",
    "        cell_idx = 0\n",
    "        while s > self.elements[cell_idx][0] + self.elements[cell_idx][1].length:\n",
    "            cell_idx += 1\n",
    "            #print(cell_idx)\n",
    "        s = s - self.elements[cell_idx][0]\n",
    "        return self.elements[cell_idx][1](boundary_particle_state_vectors[cell_idx], s)\n",
    "    \n",
    "    def eval_at_points(self, x_0, points):\n",
    "        boundary_particle_state_vectors = self.propagate(x_0)\n",
    "        x_vs = []\n",
    "        for p in points:\n",
    "            x_vs.append(self(x_0, p))\n",
    "        return x_vs\n",
    "\n",
    "    def plot(self, x_0, plot_points):\n",
    "        xv = self.eval_at_points(x_0, plot_points)\n",
    "        if x_0.shape == (4,):\n",
    "            xx, xy = list(zip(*[(x[0], x[2]) for x in xv]))\n",
    "        elif x_0.shape == (4, 4):\n",
    "            xx, xy = list(zip(*[(x[0,0], x[2, 2]) for x in xv]))\n",
    "        else:\n",
    "            raise ValueError(\"wrong shape of input vector. Neither particle vector nor Beta-matrix\")\n",
    "        plt.plot(plot_points, xx)\n",
    "        plt.plot(plot_points, xy)\n",
    "        plt.show()"
   ]
  },
  {
   "cell_type": "code",
   "execution_count": 197,
   "metadata": {},
   "outputs": [
    {
     "name": "stdout",
     "output_type": "stream",
     "text": [
      "1.75\n",
      "1.75\n",
      "1.75\n",
      "1.75\n",
      "1.75\n",
      "1.75\n",
      "1.75\n",
      "1.75\n"
     ]
    },
    {
     "data": {
      "text/plain": [
       "[(0, <__main__.Quadrupole at 0x7f58251df210>),\n",
       " (1, <__main__.Driftspace at 0x7f5826602390>),\n",
       " (2.75, <__main__.Dipole at 0x7f5824d8b210>),\n",
       " (16.75, <__main__.Driftspace at 0x7f5826602f90>),\n",
       " (18.5, <__main__.Dipole at 0x7f5824d8b4d0>),\n",
       " (32.5, <__main__.Driftspace at 0x7f5826602a10>),\n",
       " (34.25, <__main__.Dipole at 0x7f5824d8b290>),\n",
       " (48.25, <__main__.Driftspace at 0x7f5826602e10>),\n",
       " (50.0, <__main__.Quadrupole at 0x7f58251dfb50>),\n",
       " (51.0, <__main__.Driftspace at 0x7f5826602690>),\n",
       " (52.75, <__main__.Dipole at 0x7f5825371b10>),\n",
       " (66.75, <__main__.Driftspace at 0x7f5826602090>),\n",
       " (68.5, <__main__.Dipole at 0x7f5830a5f7d0>),\n",
       " (82.5, <__main__.Driftspace at 0x7f5830a63110>),\n",
       " (84.25, <__main__.Dipole at 0x7f5830a5f050>),\n",
       " (98.25, <__main__.Driftspace at 0x7f58267c3d90>)]"
      ]
     },
     "execution_count": 197,
     "metadata": {},
     "output_type": "execute_result"
    }
   ],
   "source": [
    "fdc = FODOCell(100, 1, [2+3/4, 17+6/4, 32+9/4, 52+3/4, 67+6/4, 82+9/4], [14, 14, 14, 14, 14, 14], quad_strength, bending_radius)\n",
    "fdc.elements"
   ]
  },
  {
   "cell_type": "code",
   "execution_count": 198,
   "metadata": {},
   "outputs": [
    {
     "data": {
      "image/png": "[encoded data removed]",
      "text/plain": [
       "<Figure size 432x288 with 1 Axes>"
      ]
     },
     "metadata": {
      "needs_background": "light"
     },
     "output_type": "display_data"
    }
   ],
   "source": [
    "s = np.linspace(0, 100, 10000)\n",
    "fdc.plot(np.array([.1, 0, .1, 0]), s)"
   ]
  },
  {
   "cell_type": "markdown",
   "metadata": {},
   "source": [
    "So now that it seems that the tracking simulation works we can focus our attention on the Beta matrix. First we need a way to constuct the beta matix from an initial \"Beta-track\" given by $\\beta(s_0)$ and $\\beta'(s_0)$."
   ]
  },
  {
   "cell_type": "code",
   "execution_count": 172,
   "metadata": {},
   "outputs": [],
   "source": [
    "def construct_beta_matrix(bv):\n",
    "    bx = bv[0]\n",
    "    by = bv[2]\n",
    "    dbx_ds = bv[1]\n",
    "    dby_ds = bv[3]\n",
    "    ax = -dbx_ds/2\n",
    "    gx = (1+ax**2)/bx\n",
    "    ay = -dby_ds/2\n",
    "    gy = (1+ay**2)/by\n",
    "    return np.array([[bx, -ax, 0, 0], [-ax, gx, 0, 0], [0, 0, by, -ay], [0, 0, -ay, gy]])"
   ]
  },
  {
   "cell_type": "markdown",
   "metadata": {},
   "source": [
    "now we have a description for the betamatrix and only need to plug in values for the Betafunction at a specifc point in the accellerator. Let's first run the betamatrix through the FODO cell that we have created."
   ]
  },
  {
   "cell_type": "code",
   "execution_count": 173,
   "metadata": {},
   "outputs": [
    {
     "data": {
      "image/png": "[encoded data removed]",
      "text/plain": [
       "<Figure size 432x288 with 1 Axes>"
      ]
     },
     "metadata": {
      "needs_background": "light"
     },
     "output_type": "display_data"
    }
   ],
   "source": [
    "# at the beginning of the FODO cell the betafunction does not diverge or converge\n",
    "fdc.plot(construct_beta_matrix([30, 0, 10, 0]), s)"
   ]
  },
  {
   "cell_type": "markdown",
   "metadata": {},
   "source": [
    "looks sensible and we definitely see the dipoles\n",
    "\n",
    "## Putting it together to a multi cell structure\n",
    "now that we have the fodo cells down and they seem to be working we need to build a structure that contains them. As we are definitely modelilg real world things I think that modeling these things as classes is a good idea. So like with the quadrupoles and the FODO cell I'll define a class to contain the entire accelerator"
   ]
  },
  {
   "cell_type": "code",
   "execution_count": 204,
   "metadata": {},
   "outputs": [],
   "source": [
    "class Accelerator():\n",
    "    def __init__(self, cells, ring=True):\n",
    "        self.ring = ring\n",
    "        cell_with_dist = []\n",
    "        c = 0\n",
    "        for cell in cells:\n",
    "            cell_with_dist.append((c, cell))\n",
    "            c += cell.length\n",
    "        self.elements = cell_with_dist\n",
    "        self.length = sum([cell.length for cell in cells])\n",
    "    \n",
    "    def propagate(self, x_0):\n",
    "        xv = [x_0]\n",
    "        x = x_0\n",
    "        for cell in self.elements:\n",
    "            x = cell[1].propagate(x)[-1]\n",
    "            xv.append(x)\n",
    "        return xv\n",
    "    \n",
    "    def eval_at_points(self, x_0, points):\n",
    "        boundary_particle_state_vectors = self.propagate(x_0)\n",
    "        x_vs = []\n",
    "        for p in points:\n",
    "            cell_idx = 0\n",
    "            while p > self.elements[cell_idx][0] + self.elements[cell_idx][1].length:\n",
    "                cell_idx += 1\n",
    "                #print(cell_idx)\n",
    "            s = p - self.elements[cell_idx][0]\n",
    "            x_vs.append(self.elements[cell_idx][1](boundary_particle_state_vectors[cell_idx], s))\n",
    "        return x_vs\n",
    "    \n",
    "    def plot(self, x_0, plot_points):\n",
    "        xv = self.eval_at_points(x_0, plot_points)\n",
    "        if x_0.shape == (4,):\n",
    "            xx, xy = list(zip(*[(x[0], x[2]) for x in xv]))\n",
    "        elif x_0.shape == (4, 4):\n",
    "            xx, xy = list(zip(*[(x[0,0], x[2, 2]) for x in xv]))\n",
    "        else:\n",
    "            raise ValueError(\"wrong shape of input vector. Neither particle vector nor Beta-matrix\")\n",
    "        plt.plot(plot_points, xx)\n",
    "        plt.plot(plot_points, xy)\n",
    "        plt.show()"
   ]
  },
  {
   "cell_type": "code",
   "execution_count": 205,
   "metadata": {},
   "outputs": [],
   "source": [
    "acc = Accelerator([fdc, fdc, fdc, fdc])"
   ]
  },
  {
   "cell_type": "code",
   "execution_count": 206,
   "metadata": {},
   "outputs": [
    {
     "data": {
      "text/plain": [
       "400"
      ]
     },
     "execution_count": 206,
     "metadata": {},
     "output_type": "execute_result"
    }
   ],
   "source": [
    "acc.length"
   ]
  },
  {
   "cell_type": "code",
   "execution_count": 207,
   "metadata": {},
   "outputs": [],
   "source": [
    "s = np.linspace(0, 400, 400000)"
   ]
  },
  {
   "cell_type": "code",
   "execution_count": 208,
   "metadata": {},
   "outputs": [
    {
     "data": {
      "image/png": "[encoded data removed]",
      "text/plain": [
       "<Figure size 432x288 with 1 Axes>"
      ]
     },
     "metadata": {
      "needs_background": "light"
     },
     "output_type": "display_data"
    }
   ],
   "source": [
    "acc.plot(construct_beta_matrix([30, 0, 10, 0]), s)"
   ]
  },
  {
   "cell_type": "code",
   "execution_count": null,
   "metadata": {},
   "outputs": [],
   "source": []
  }
 ],
 "metadata": {
  "kernelspec": {
   "display_name": "Python 3",
   "language": "python",
   "name": "python3"
  },
  "language_info": {
   "codemirror_mode": {
    "name": "ipython",
    "version": 3
   },
   "file_extension": ".py",
   "mimetype": "text/x-python",
   "name": "python",
   "nbconvert_exporter": "python",
   "pygments_lexer": "ipython3",
   "version": "3.7.8"
  }
 },
 "nbformat": 4,
 "nbformat_minor": 4
}
