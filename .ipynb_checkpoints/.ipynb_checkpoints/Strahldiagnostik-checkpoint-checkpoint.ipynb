{
 "cells": [
  {
   "cell_type": "markdown",
   "metadata": {},
   "source": [
    "# Strahldiagnostik "
   ]
  },
  {
   "cell_type": "markdown",
   "metadata": {},
   "source": [
    "Verwendete bzw. benötigte Strahldiagnostik ist abh. vom Betriebsmodus.  \n",
    "  \n",
    "#### Inbetriebnahme: \n",
    "- Einstellen des Strahltransports durch den Beschleuniger \n",
    "- Charakterisierung des Strahls hinter jedem Sektor \n",
    "- hohe Sensitivität da nicht unbedingt vollst. Strahl \n",
    "- strahlstörende und destruktive Methoden akzeptabel   \n",
    "\n",
    "#### Messbetrieb: \n",
    "- Verwendung zur Kontrolle und Verbesserung\n",
    "- Fehlersuche\n",
    "- Anspruch an hohe Genauigkeit\n",
    "- Keine strahlstörenden Instrumente"
   ]
  },
  {
   "cell_type": "markdown",
   "metadata": {},
   "source": [
    "### Aspekte der Supraleitung  \n",
    "  \n",
    "- Teile der Diagnostik müssen bei den Temperaturen der Magnete arbeiten\n",
    "- Erreiche minimalen Wärmeeintrag durch die Diagnostik\n",
    "- Innerhalb oder auch nahe an der Supraleitungsumgebung kann keine störende Diagnostik eingesetzt werden -> Teilchenschauer könne zu Quenching führen (Temperatureintrag)\n",
    "- Integration der Diagnostik in die Sicherungssysteme"
   ]
  },
  {
   "cell_type": "markdown",
   "metadata": {},
   "source": [
    "### Art der Strahldiagnostik  \n",
    " \n",
    "- Destruktive Verfahren: Strahl wird unbrauchbar bzw. vollst. absorbiert, z.B. Faraday-Tasse, Fluoreszenzschirm\n",
    "- Störende Verfahren: Strahl wird zwar nicht vollst. verschwinden aber gestört, z.B. Draht-Scanner\n",
    "- Nicht störende Verfahren: Der Strahl wird durch die DDiagnostik nicht (oder nur minimla) beeinflusst, z.B. BPM"
   ]
  },
  {
   "cell_type": "markdown",
   "metadata": {},
   "source": [
    "### Betrachte hier die folgenden Parameter:  \n",
    "  \n",
    "- Strahlintensität (# Teilchen in Bunch/Maschine)\n",
    "- Beam orbit\n",
    "- Tune\n",
    "- Chromatizität\n",
    "- Emittanz\n",
    "- Strahlposition\n",
    "- Strahlprofil\n",
    "- Strahlenergie\n",
    "- Luminosität\n",
    "- Strahlverluste\n",
    "- Sicherheit"
   ]
  },
  {
   "cell_type": "markdown",
   "metadata": {},
   "source": [
    "**Grundsätzlich stehen die Diagnostiksysteme nicht für sich allein. Vers. Instrumente tragen zur Messung unterschiedlicher Diagnostik-Parameter bei. Es werden zudem alle Diagnostiksysteme zur Optimierung des Betriebs verwendet.**"
   ]
  },
  {
   "cell_type": "markdown",
   "metadata": {},
   "source": [
    "### Strahlintensität  \n",
    " \n",
    "- **Warum:** \n",
    "  + Relevant für Experimente\n",
    "  + Strahlladung erlaubt Rückschluss auf Lebenszeit des Strahls durch abnehmenden Strom\n",
    "  + In Kombination von Strahl- und Bunchladung kann die Anzahl Teilchen, die aus dem RF-Bucket herauslecken bestimmt werden (Coasting beam contribution)\n",
    "  + Daher auch für Strahlverlustdiagnostik (Sicherheit)  \n",
    "  \n",
    "    \n",
    "- **Wie:**\n",
    "  + Bunchladung: AC-Stromwandler\n",
    "  + Strahlladung: DC-Stromwandler (Parametrischer Stromwandler)  -> schwieriger zu messen (CERN: DCCT)\n",
    "  + Wirkungweise: Strahlmagnetfeld induziert Strom in Wicklung um Strahlrohr  \n",
    "  \n",
    "  \n",
    "- **Wieviele, Wo:**\n",
    "  + Je ein AC-, ein DC-Wandler\n",
    "  + Außerhalb der Magnete, wegen Funktionsprinzip (insbes. DCCT braucht starke Abschirmung)\n",
    "  + LHC: 2 DCCT, 2 fast  beam  current  transformers (FBCT) für Bunch und Strahlladung"
   ]
  },
  {
   "cell_type": "markdown",
   "metadata": {},
   "source": [
    "### Strahlposition  \n",
    "\n",
    "- **Warum:**\n",
    "  + Kontrolle des Strahls\n",
    "  + Strahlverlust \n",
    "  + Vgl. Maschinendesign mit tatsächlicher Maschine\n",
    "  + Bunchweise\n",
    "  + Orbit\n",
    " \n",
    " \n",
    "- **Wie:**\n",
    "  + Strahlposition mit BPM (beam position monitor) -> misst Strahlschwerpunkt und \n",
    "  + BPM auch für longitudinale Form des Strahls\n",
    "  + z.B. Button BPM wie am LHC: einfach zu installieren, günstiger\n",
    "  + Zu unterscheiden: Bunch für Bunch oder Turn für Turn\n",
    "  + Messung des Strahlschwerpunkts\n",
    "  \n",
    "  \n",
    "- **Wieviele, Wo:**\n",
    "  + In kalter und warmer Umgebung\n",
    "  + Installation nahe Quadropal (max. beta-Fkt. führt zu max. Sensitivität für die Strahlabweichung) für Orbit Messung\n",
    "  + Bunchform: Ein BPM ausreichend, da Veränderungen i.R. nur über einen ganzen Umlauf des Bunches -> nutze hier wall current monitor wegen Bandbreite\n",
    "  + LHC: 1070 Stück\n"
   ]
  },
  {
   "cell_type": "markdown",
   "metadata": {},
   "source": [
    "### Longitudinales Strahlprofil  \n",
    "\n",
    "- **Warum:**\n",
    "  + Kontrolle Bunchlänge: durchdringen sich die Bunche schnell genug\n",
    "  + Wichtig, um die Rampingzeit des beamdump kickers freizuhalten, sollte der Strahl gedumpt werden müssen\n",
    "  + Auch zum Auffinden von Geisterbunchen: Teilchen, die sich ungewollt in als leer angenommenen Buckets sammeln (Gefahr bei beam dump und störende Effekte auf Diagnostik und im Interactionpoint)\n",
    "  \n",
    " \n",
    "- **Wie:**\n",
    "  + Wall current monitor\n",
    "  + Synchrotronstrahlung (LHC)\n",
    "  \n",
    "  \n",
    "- **Wieviele, Wo:**\n",
    "  + k.A., s. Strahlposition"
   ]
  },
  {
   "cell_type": "markdown",
   "metadata": {},
   "source": [
    "### Transversales Strahlprofil\n",
    "\n",
    "- **Warum:**\n",
    "  + S. (longitudinales) Strahlprofil\n",
    "  + Emitanzdiagnostik\n",
    "  \n",
    "\n",
    "- **Wie:**\n",
    "  + Drahtscanner (Strahlstörend, für Inbetriebnahme)\n",
    "  + Synchrotronstrahlung (ggf. in Kombination mit Ablenkdipol und Undulator)\n",
    "  + Restgasmonitor\n",
    "  \n",
    "\n",
    "- **Wieviele, Wo:**\n",
    "  + k.A., s. Strahlposition"
   ]
  },
  {
   "cell_type": "markdown",
   "metadata": {},
   "source": [
    "### Tune  \n",
    "\n",
    "- **Warum:**\n",
    "  + Tune definiert den Arbeitspunkt des Beschleunigers\n",
    "  + Gefahr von sich selbst verstärkenden Instabilitäten (Strahlaufweitung, Chaotische Teilchenbewegung)\n",
    "  + Können sehr genau gemessen werden und sind folgich gut, weiter ableitbare Parameter zu überwachen\n",
    "  + Tune-Störungen z.B. durch Magnetfeldfehler der Quadropole, besonders final focus Magnete wegen hoher Betatron-Fkt. und großem Quadropolgradient\n",
    "  \n",
    "  \n",
    "- **Wie:**\n",
    "  + Nutzung aller BPMs für einen Turn\n",
    "  + Kicker-Methode: Kicker-Magnet regt Oszillationen an, die mit BPM an fester Stelle gemessen werden, aus den turn-by-turn Messungen ergibt sich mit FFT der Tune\n",
    "  + Ggf. Kicker-Methode nicht permanent, sondern nur vorab zur Maschinenkonfiguration ermittelt (Inbetriebnahmephase)\n",
    "  + Schottky-Monitor (ohne Strahlstörung)\n",
    "  \n",
    "  \n",
    "- **Wieviele, Wo:**\n",
    "  + Je Strahlrohr ein Schottky-Monitor horizontal/vertikal\n",
    "  + Vorhandene BPMs"
   ]
  },
  {
   "cell_type": "markdown",
   "metadata": {},
   "source": [
    "### Chromatizität  \n",
    "  \n",
    "- **Warum:**\n",
    "  + Analog zum Tune\n",
    "  \n",
    "  \n",
    "- **Wie:**\n",
    "  + Impulsabweichungen durch Variation der RF und Einfluss auf Tune \n",
    "  + Auch auch nicht-invasiv aus Tune-Spektrum und Seitenbändern bestimmt werden\n",
    "  \n",
    "  \n",
    "- **Wieviele, Wo:**\n",
    "  + Siehe Tune"
   ]
  },
  {
   "cell_type": "markdown",
   "metadata": {},
   "source": [
    "### Luminosität  \n",
    "\n",
    "- **Warum:**  \n",
    "  + Relevant für Experiment (Genug Luminosität für beobachteten Prozess)\n",
    "  \n",
    "  \n",
    "- **Wie:**  \n",
    "  + Beobachtung der Eventrate eines bestimmten Prozesses mit bekanntem Wirkungsquerschnitt ($L = \\frac{\\dot{N}}{\\sigma}$)\n",
    "  + ABER: Bei Hadron-Kollidern ist der Wirkungsquerschnitt i.R. schwer zu berechnen (Ziel des Experiment ist oft die Bestimmung des Wirkungsquerschnitts) -> Eventrate eher zur Optimierung verwendenbar, nicht zur Luminositätsbestimmung\n",
    "  + Da **hier** der Wirkungsquerschnitt als gegeben angenommen werden kann, ist eine Luminositätsbestimmung auf diese Weise möglich (für den $t\\bar{t}$-Prozess)\n",
    "  \n",
    "    \n",
    "- **Wieviele, Wo:**\n",
    "  + Weil einfacher: Teilchenrate nur in kleinem Winkel messen -> Vorwärtsrichtung des Detektors\n",
    "  + Zwischen den Dipolen, die die Strahlen separieren/kollidieren\n",
    "  + Fast ionisation chambers"
   ]
  },
  {
   "cell_type": "markdown",
   "metadata": {},
   "source": [
    "### Energiemessung  \n",
    "\n",
    "- **Warum:**\n",
    "  + Relevant für Experimente\n",
    "  + Wegen der Substruktur der Protonen weniger genau benötigt, da tatsächliches Event (underlying event) unbekannte Impulsverteilung hat  \n",
    "  \n",
    "  \n",
    "- **Wie:**\n",
    "  + Energiemessung kann über den Strom in den Magneten bestimmt werden (welches Feld wird benötigt, um Protonen auf ihrer Bahn zu halten), $E \\approx rqcB$ \n",
    "  + Rückzurechnen aus Ereignissen im Detektor (als cross-check)  \n",
    "  \n",
    "  \n",
    "- **Wieviele, Wo:**\n",
    "  + s.o."
   ]
  },
  {
   "cell_type": "markdown",
   "metadata": {},
   "source": [
    "### Strahlverlustdiangostik  \n",
    "\n",
    "- **Warum**:\n",
    "  + Gewisser Strahlverlust ist immer da (Kolimatoren, Restgas, ...)\n",
    "  + Versorgung der Experimente (Effizienz)\n",
    "  + Sicherheit (Quenching, hohe Energie im Strahl, all. Zerstörung der Maschine, ...) -> beam dump\n",
    "  + Fehlersuche (Auflösung wie viele Teilchen und wo diese verloren gehen (Fehlersuche, Grenzwert für beam dump))\n",
    "  + Untergrundunterdrückung\n",
    "  + Informationen über Strahlenbelastung der Maschinenkomponenten\n",
    "  \n",
    "  \n",
    "- **Wie:**\n",
    "  + Ionisationskammern entlang des Strahlrohres\n",
    "  + PIN-Dioden an den Magneten (wenig Beeinflussung durch Magnetfeld)\n",
    "  + Szintillationsdetektor (sensitiv und schnell -> zeigt Richtung des Strahlverlusts an)\n",
    "  + Letztlich Kombination dieser Instrumente und auch der übrigen Diagnostik\n",
    "  + Vers. Grenzwerte, je nach Region der Strahlverlustdiagnostik\n",
    "  \n",
    "  \n",
    "- **Wieviele, Wo:**\n",
    "  + Ca. 900 Ionisationskammern an möglichen Verluststellen\n",
    "  + Speziell an den Magneten (Quenching vermeiden, hier sehr schnelles Ansprechen nötig)\n",
    "  + An Kollimatoren\n",
    "  + Am Kicker für Tunemessung\n"
   ]
  },
  {
   "cell_type": "markdown",
   "metadata": {},
   "source": [
    "### Weiterführende Betrachtungen  \n",
    "  \n",
    "- Vorbeschleuniger: benötigen ebenfalls Strahldiagnostik, z.B. Emittanz bei Hadronmaschinen in Vorbeschleuniger festgelegt\n",
    "- Hohe Energieabgabe bei Teilchen mit geringer Energie (Vorbeschleuniger): Zerstörungsgefahr der Diagnostik\n",
    "- Bei Vorbschleunigern: vers. Beschleunigertypen im Einsatz -> vers. Diagnostik\n",
    "- Allg. angepasste Strahlenhärte der verwendeten Diagnostik\n",
    "- Kosten/Nutzen\n",
    "- Platz"
   ]
  },
  {
   "cell_type": "markdown",
   "metadata": {},
   "source": [
    "### Abschließende Bemerkung  \n",
    "  \n",
    "Die oben aufgeführten Diagnostiken geben eine grobe Übersicht über Parameter, die kontrolliert werden können/müssen. Letztlich muss für jeden Beschleuniger und jedes eventuelle Upgrade geschaut werden, welche Diagnostik mit welcher Genauigkeit und Sensitivität benötigt wird und wo diese zu installieren ist. Die Diagnostik muss aber definitiv von Planungsbeginn an betrachtet werden."
   ]
  },
  {
   "cell_type": "markdown",
   "metadata": {},
   "source": [
    "### Weitere Informationen:\n",
    "- Vorlesung zur Strahldiagnostik\n",
    "- https://cds.cern.ch/record/2131858/files/Beam%20Instrumentation%20and%20Diagnostics%20for%20the%20LHC%20Upgrade.pdf\n",
    "- http://cdsweb.cern.ch/record/1071486/files/cern-2009-005.pdf\n",
    "- https://accelconf.web.cern.ch/IPAC2011/papers/tupc155.pdf\n",
    "- file:///C:/Users/Student/AppData/Local/Temp/1-s2.0-S0168900217309452-main.pdf"
   ]
  },
  {
   "cell_type": "code",
   "execution_count": null,
   "metadata": {},
   "outputs": [],
   "source": []
  }
 ],
 "metadata": {
  "kernelspec": {
   "display_name": "Python 3",
   "language": "python",
   "name": "python3"
  },
  "language_info": {
   "codemirror_mode": {
    "name": "ipython",
    "version": 3
   },
   "file_extension": ".py",
   "mimetype": "text/x-python",
   "name": "python",
   "nbconvert_exporter": "python",
   "pygments_lexer": "ipython3",
   "version": "3.7.8"
  }
 },
 "nbformat": 4,
 "nbformat_minor": 4
}
