{
 "cells": [
  {
   "cell_type": "code",
   "execution_count": 11,
   "metadata": {},
   "outputs": [],
   "source": [
    "import numpy as np\n",
    "from scipy import constants "
   ]
  },
  {
   "cell_type": "code",
   "execution_count": 12,
   "metadata": {},
   "outputs": [],
   "source": [
    "c=constants.c\n",
    "e=constants.e"
   ]
  },
  {
   "cell_type": "code",
   "execution_count": 13,
   "metadata": {},
   "outputs": [],
   "source": [
    "energy=1500 #GeV"
   ]
  },
  {
   "cell_type": "code",
   "execution_count": 14,
   "metadata": {},
   "outputs": [
    {
     "data": {
      "text/plain": [
       "309.2307692307693"
      ]
     },
     "execution_count": 14,
     "metadata": {},
     "output_type": "execute_result"
    }
   ],
   "source": [
    "length=6000 #meters\n",
    "dipole_length=13 #meters\n",
    "fill_factor=0.67\n",
    "number_dipols=length*0.67/dipole_length\n",
    "number_dipols"
   ]
  },
  {
   "cell_type": "markdown",
   "metadata": {},
   "source": [
    "### Quadrupole\n",
    "Gradient: $g=\\frac{2\\mu_0 n I}{R^2}$\n",
    "\n",
    "Strength: $k=\\frac{e}{p}g=0.2998\\frac{g[\\mathrm{T/m}]}{p[\\mathrm{Gev/c}]}$"
   ]
  },
  {
   "cell_type": "code",
   "execution_count": 25,
   "metadata": {},
   "outputs": [],
   "source": [
    "quad_gradient=120 #T/m (LHC: 220 T/m)\n",
    "quad_length= 1 # meter (LHC: 3.1 meter magnetic length)\n",
    "quad_strength=0.2998*quad_gradient/energy # m^-2"
   ]
  },
  {
   "cell_type": "code",
   "execution_count": 26,
   "metadata": {},
   "outputs": [
    {
     "data": {
      "text/plain": [
       "0.023984"
      ]
     },
     "execution_count": 26,
     "metadata": {},
     "output_type": "execute_result"
    }
   ],
   "source": [
    "quad_strength"
   ]
  },
  {
   "cell_type": "code",
   "execution_count": 27,
   "metadata": {},
   "outputs": [],
   "source": [
    "quad_coil_current = 10000 # Ampere (LHC: 11470A)\n",
    "quad_n_turns = 20"
   ]
  },
  {
   "cell_type": "code",
   "execution_count": 28,
   "metadata": {},
   "outputs": [
    {
     "data": {
      "text/plain": [
       "0.06472086376947288"
      ]
     },
     "execution_count": 28,
     "metadata": {},
     "output_type": "execute_result"
    }
   ],
   "source": [
    "quad_aperture=np.sqrt(2*constants.mu_0*quad_n_turns*quad_coil_current/quad_gradient)\n",
    "quad_aperture #(LHC: 56mm)"
   ]
  },
  {
   "cell_type": "code",
   "execution_count": 29,
   "metadata": {},
   "outputs": [
    {
     "data": {
      "text/plain": [
       "41.69446297531688"
      ]
     },
     "execution_count": 29,
     "metadata": {},
     "output_type": "execute_result"
    }
   ],
   "source": [
    "focal_length=1./(quad_length*quad_strength) # meters\n",
    "focal_length #f =f_focus=-f_defocus"
   ]
  },
  {
   "cell_type": "markdown",
   "metadata": {},
   "source": [
    "<img src=\"./figures/LHC_cell.jpeg\" width=\"700\">\n",
    "<img src=\"./figures/fodo_wiedemann.jpeg\" width=\"700\">"
   ]
  },
  {
   "cell_type": "markdown",
   "metadata": {},
   "source": [
    "Stability: $|f|> \\frac{L}{2}$ with $L$ the drift space between two quads "
   ]
  },
  {
   "cell_type": "markdown",
   "metadata": {},
   "source": [
    "Optimal phase advance for : 90 degrees"
   ]
  },
  {
   "cell_type": "code",
   "execution_count": 31,
   "metadata": {},
   "outputs": [
    {
     "data": {
      "text/plain": [
       "29.482437507778"
      ]
     },
     "execution_count": 31,
     "metadata": {},
     "output_type": "execute_result"
    }
   ],
   "source": [
    "quad_driftspace=1/np.sqrt(2)*focal_length\n",
    "quad_driftspace # --> 3 Dipole"
   ]
  },
  {
   "cell_type": "code",
   "execution_count": 32,
   "metadata": {},
   "outputs": [],
   "source": [
    "phase_advance=np.arccos(1-2*quad_driftspace**2/focal_length**2)"
   ]
  },
  {
   "cell_type": "code",
   "execution_count": 33,
   "metadata": {},
   "outputs": [
    {
     "data": {
      "text/plain": [
       "90.0"
      ]
     },
     "execution_count": 33,
     "metadata": {},
     "output_type": "execute_result"
    }
   ],
   "source": [
    "phase_advance/(2*np.pi)*360"
   ]
  },
  {
   "cell_type": "code",
   "execution_count": 34,
   "metadata": {},
   "outputs": [
    {
     "data": {
      "text/plain": [
       "matrix([[ 0.00000000e+00,  1.00659338e+02],\n",
       "        [-9.93449808e-03,  0.00000000e+00]])"
      ]
     },
     "execution_count": 34,
     "metadata": {},
     "output_type": "execute_result"
    }
   ],
   "source": [
    "mat_fodo=np.matrix([[0,2*quad_driftspace*(1+quad_driftspace/focal_length)],[-2*(1-quad_driftspace/focal_length)*quad_driftspace/(focal_length**2),0]])\n",
    "mat_fodo"
   ]
  },
  {
   "cell_type": "markdown",
   "metadata": {},
   "source": [
    "$\\beta=\\beta^+$ in centre of the (horizontally) focusing quadrupole\n",
    "\n",
    "$\\beta=\\beta^-$ in centre of the (horizontally) defocusing quadrupole\n"
   ]
  },
  {
   "cell_type": "code",
   "execution_count": 35,
   "metadata": {},
   "outputs": [],
   "source": [
    "fodo_parameter=focal_length/quad_driftspace"
   ]
  },
  {
   "cell_type": "code",
   "execution_count": 36,
   "metadata": {},
   "outputs": [
    {
     "data": {
      "text/plain": [
       "100.65933799087286"
      ]
     },
     "execution_count": 36,
     "metadata": {},
     "output_type": "execute_result"
    }
   ],
   "source": [
    "beta_plus=quad_driftspace*fodo_parameter*(fodo_parameter+1)/np.sqrt(fodo_parameter**2-1)\n",
    "beta_plus_opt=quad_driftspace*(2+np.sqrt(2))\n",
    "beta_plus #== beta_plus_opt"
   ]
  },
  {
   "cell_type": "code",
   "execution_count": 37,
   "metadata": {},
   "outputs": [
    {
     "data": {
      "text/plain": [
       "17.270412040239123"
      ]
     },
     "execution_count": 37,
     "metadata": {},
     "output_type": "execute_result"
    }
   ],
   "source": [
    "beta_minus=quad_driftspace*fodo_parameter*(fodo_parameter-1)/np.sqrt(fodo_parameter**2-1)\n",
    "beta_minus_opt=quad_driftspace*(2-np.sqrt(2))\n",
    "beta_minus #== beta_minus_opt"
   ]
  },
  {
   "cell_type": "markdown",
   "metadata": {},
   "source": [
    "Vergleiche LHC:\n",
    "- Phase advance $90^°$\n",
    "- $\\beta^+\\approx 180\\,$m\n",
    "- $\\beta^-\\approx 30\\,$m"
   ]
  },
  {
   "cell_type": "code",
   "execution_count": 41,
   "metadata": {},
   "outputs": [
    {
     "data": {
      "text/plain": [
       "3.551936814893264e-05"
      ]
     },
     "execution_count": 41,
     "metadata": {},
     "output_type": "execute_result"
    }
   ],
   "source": [
    "# maximum emittance\n",
    "emittance_max=quad_aperture**2/(4*quad_driftspace)\n",
    "emittance_max"
   ]
  },
  {
   "cell_type": "code",
   "execution_count": 43,
   "metadata": {},
   "outputs": [
    {
     "data": {
      "text/plain": [
       "0.0005016456368565187"
      ]
     },
     "execution_count": 43,
     "metadata": {},
     "output_type": "execute_result"
    }
   ],
   "source": [
    "emittance=2.5e-9 #meter rad\n",
    "beam_envelope_max=np.sqrt(emittance*beta_plus_opt)\n",
    "beam_envelope_max"
   ]
  },
  {
   "cell_type": "code",
   "execution_count": 42,
   "metadata": {},
   "outputs": [
    {
     "data": {
      "text/plain": [
       "0.06472086376947288"
      ]
     },
     "execution_count": 42,
     "metadata": {},
     "output_type": "execute_result"
    }
   ],
   "source": [
    "quad_aperture"
   ]
  },
  {
   "cell_type": "code",
   "execution_count": null,
   "metadata": {},
   "outputs": [],
   "source": []
  }
 ],
 "metadata": {
  "kernelspec": {
   "display_name": "Python 3",
   "language": "python",
   "name": "python3"
  },
  "language_info": {
   "codemirror_mode": {
    "name": "ipython",
    "version": 3
   },
   "file_extension": ".py",
   "mimetype": "text/x-python",
   "name": "python",
   "nbconvert_exporter": "python",
   "pygments_lexer": "ipython3",
   "version": "3.7.8"
  }
 },
 "nbformat": 4,
 "nbformat_minor": 4
}
