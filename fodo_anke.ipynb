{
 "cells": [
  {
   "cell_type": "code",
   "execution_count": 115,
   "metadata": {},
   "outputs": [],
   "source": [
    "import numpy as np\n",
    "from scipy import constants \n",
    "import math"
   ]
  },
  {
   "cell_type": "code",
   "execution_count": 116,
   "metadata": {},
   "outputs": [],
   "source": [
    "c=constants.c\n",
    "e=constants.e"
   ]
  },
  {
   "cell_type": "code",
   "execution_count": 156,
   "metadata": {},
   "outputs": [
    {
     "name": "stdout",
     "output_type": "stream",
     "text": [
      "Total number of dipols: 288\n"
     ]
    }
   ],
   "source": [
    "length=6000 #meters\n",
    "dipole_length=14 #meters\n",
    "fill_factor=0.67\n",
    "number_dipols=length*0.67/dipole_length\n",
    "number_dipols=math.ceil(number_dipols)\n",
    "print('Total number of dipols:',number_dipols)"
   ]
  },
  {
   "cell_type": "markdown",
   "metadata": {},
   "source": [
    "<img src=\"./figures/LHC_cell.jpeg\" width=\"600\">"
   ]
  },
  {
   "cell_type": "code",
   "execution_count": 158,
   "metadata": {},
   "outputs": [
    {
     "name": "stdout",
     "output_type": "stream",
     "text": [
      "Distance between two quadrupols: 50.0 meter\n"
     ]
    }
   ],
   "source": [
    "fodo_cell_length=100 #meter\n",
    "number_fodo_cells=length/fodo_cell_length\n",
    "quad_driftspace=fodo_cell_length/2.\n",
    "print('Distance between two quadrupols:',quad_driftspace,'meter')"
   ]
  },
  {
   "cell_type": "code",
   "execution_count": 120,
   "metadata": {},
   "outputs": [],
   "source": [
    "dipols_per_driftspace=3\n",
    "dipols_per_cell=2*dipols_per_driftspace # -> 6 dipols per cell"
   ]
  },
  {
   "cell_type": "code",
   "execution_count": 160,
   "metadata": {},
   "outputs": [
    {
     "name": "stdout",
     "output_type": "stream",
     "text": [
      "Number of cells containing dipols: 48.0\n"
     ]
    }
   ],
   "source": [
    "cells_with_dipols=number_dipols/dipols_per_cell\n",
    "print('Number of cells containing dipols:',cells_with_dipols)"
   ]
  },
  {
   "cell_type": "code",
   "execution_count": 161,
   "metadata": {},
   "outputs": [
    {
     "name": "stdout",
     "output_type": "stream",
     "text": [
      "Number of cells in straight sections: 12.0\n"
     ]
    }
   ],
   "source": [
    "cells_straight_sections=number_fodo_cells-cells_with_dipols\n",
    "print('Number of cells in straight sections:',cells_straight_sections)"
   ]
  },
  {
   "cell_type": "code",
   "execution_count": 162,
   "metadata": {},
   "outputs": [
    {
     "name": "stdout",
     "output_type": "stream",
     "text": [
      "Dipole fill factor in dipole FODO cells: 84.0 %\n"
     ]
    }
   ],
   "source": [
    "fill_factor_in_fodo=6*dipole_length/(2*quad_driftspace)\n",
    "print('Dipole fill factor in dipole FODO cells:',fill_factor_in_fodo*100,'%')"
   ]
  },
  {
   "cell_type": "markdown",
   "metadata": {},
   "source": [
    "<img src=\"./figures/fodo_wiedemann.jpeg\" width=\"600\">"
   ]
  },
  {
   "cell_type": "markdown",
   "metadata": {},
   "source": [
    "- Stability: $|f|> \\frac{L}{2}$ with $L$ the drift space between two quads \n",
    "\n",
    "- Optimal phase advance for round beam (e.g. protons):\n",
    "$\\Psi\\overset{!}{=}90^\\circ$\n",
    "$\\rightarrow f\\overset{!}{=}\\sqrt{2}L$"
   ]
  },
  {
   "cell_type": "code",
   "execution_count": 159,
   "metadata": {},
   "outputs": [
    {
     "name": "stdout",
     "output_type": "stream",
     "text": [
      "Focal distance: 70.71067811865476 meter\n"
     ]
    }
   ],
   "source": [
    "focal_length=quad_driftspace*np.sqrt(2)\n",
    "print('Focal distance:',focal_length,'meter')"
   ]
  },
  {
   "cell_type": "code",
   "execution_count": 164,
   "metadata": {},
   "outputs": [
    {
     "name": "stdout",
     "output_type": "stream",
     "text": [
      "Phase advance: 90.0 degree\n"
     ]
    }
   ],
   "source": [
    "phase_advance=np.arccos(1-2*quad_driftspace**2/focal_length**2)\n",
    "print('Phase advance:',phase_advance/(2*np.pi)*360,'degree')"
   ]
  },
  {
   "cell_type": "markdown",
   "metadata": {},
   "source": [
    "### Quadrupole\n",
    "- Gradient: $g=\\frac{2\\mu_0 n I}{R^2}$\n",
    "- Strength: $k=\\frac{e}{p}g=0.2998\\frac{g[\\mathrm{T/m}]}{p[\\mathrm{Gev/c}]}$\n",
    "- Focal length $f=\\frac{1}{k\\cdot l}$ with $l$ length of the quad"
   ]
  },
  {
   "cell_type": "code",
   "execution_count": 165,
   "metadata": {},
   "outputs": [],
   "source": [
    "energy=3836/2. #GeV"
   ]
  },
  {
   "cell_type": "code",
   "execution_count": 166,
   "metadata": {},
   "outputs": [
    {
     "name": "stdout",
     "output_type": "stream",
     "text": [
      "Quadrupole strength k: 0.01414213562373095 m^-2\n"
     ]
    }
   ],
   "source": [
    "quad_length= 1 # meter (LHC: 3.1 meter magnetic length)\n",
    "quad_strength=1./(focal_length*quad_length)\n",
    "print('Quadrupole strength k:',quad_strength,'m^-2')"
   ]
  },
  {
   "cell_type": "code",
   "execution_count": 167,
   "metadata": {},
   "outputs": [
    {
     "name": "stdout",
     "output_type": "stream",
     "text": [
      "Quadrupole gradient g: 90.47570422386912 T/m (LHC: 220 T/m)\n"
     ]
    }
   ],
   "source": [
    "quad_gradient=quad_strength*energy/0.2998 \n",
    "print('Quadrupole gradient g:',quad_gradient,'T/m (LHC: 220 T/m)')"
   ]
  },
  {
   "cell_type": "code",
   "execution_count": 168,
   "metadata": {},
   "outputs": [],
   "source": [
    "quad_coil_current = 10000 # Ampere (LHC: 11470A)\n",
    "quad_n_turns = 20"
   ]
  },
  {
   "cell_type": "code",
   "execution_count": 170,
   "metadata": {},
   "outputs": [
    {
     "name": "stdout",
     "output_type": "stream",
     "text": [
      "Quadrupole aperture R: 74.536490719232 mm (LHC: 56mm)\n"
     ]
    }
   ],
   "source": [
    "quad_aperture=np.sqrt(2*constants.mu_0*quad_n_turns*quad_coil_current/quad_gradient)\n",
    "print('Quadrupole aperture R:',quad_aperture*1000,'mm (LHC: 56mm)')"
   ]
  },
  {
   "cell_type": "code",
   "execution_count": 171,
   "metadata": {},
   "outputs": [
    {
     "data": {
      "text/plain": [
       "matrix([[ 0.00000000e+00,  1.70710678e+02],\n",
       "        [-5.85786438e-03,  0.00000000e+00]])"
      ]
     },
     "execution_count": 171,
     "metadata": {},
     "output_type": "execute_result"
    }
   ],
   "source": [
    "mat_fodo=np.matrix([[0,2*quad_driftspace*(1+quad_driftspace/focal_length)],[-2*(1-quad_driftspace/focal_length)*quad_driftspace/(focal_length**2),0]])\n",
    "mat_fodo"
   ]
  },
  {
   "cell_type": "markdown",
   "metadata": {},
   "source": [
    "$\\beta=\\beta^+$ in centre of the (horizontally) focusing quadrupole\n",
    "\n",
    "$\\beta=\\beta^-$ in centre of the (horizontally) defocusing quadrupole\n"
   ]
  },
  {
   "cell_type": "code",
   "execution_count": 147,
   "metadata": {},
   "outputs": [],
   "source": [
    "fodo_parameter=focal_length/quad_driftspace"
   ]
  },
  {
   "cell_type": "code",
   "execution_count": 174,
   "metadata": {},
   "outputs": [
    {
     "name": "stdout",
     "output_type": "stream",
     "text": [
      "beta plus (=optimal/minimal beta plus):  170.71067811865473 meter\n"
     ]
    }
   ],
   "source": [
    "beta_plus=quad_driftspace*fodo_parameter*(fodo_parameter+1)/np.sqrt(fodo_parameter**2-1)\n",
    "beta_plus_opt=quad_driftspace*(2+np.sqrt(2))\n",
    "print('beta plus (=optimal/minimal beta plus): ',beta_plus,'meter')"
   ]
  },
  {
   "cell_type": "code",
   "execution_count": 175,
   "metadata": {},
   "outputs": [
    {
     "name": "stdout",
     "output_type": "stream",
     "text": [
      "beta minus:  29.28932188134525 meter\n"
     ]
    }
   ],
   "source": [
    "beta_minus=quad_driftspace*fodo_parameter*(fodo_parameter-1)/np.sqrt(fodo_parameter**2-1)\n",
    "beta_minus_opt=quad_driftspace*(2-np.sqrt(2))\n",
    "print('beta minus: ',beta_minus,'meter')"
   ]
  },
  {
   "cell_type": "markdown",
   "metadata": {},
   "source": [
    "Comparison with LHC:\n",
    "- Phase advance $90^°$\n",
    "- $\\beta^+\\approx 180\\,$m\n",
    "- $\\beta^-\\approx 30\\,$m"
   ]
  },
  {
   "cell_type": "code",
   "execution_count": 176,
   "metadata": {},
   "outputs": [
    {
     "name": "stdout",
     "output_type": "stream",
     "text": [
      "Maximum beam envelope with emittance of 2.5 nm rad: 0.6532814824381883 mm\n"
     ]
    }
   ],
   "source": [
    "emittance=2.5e-9 #meter rad\n",
    "beam_envelope_max=np.sqrt(emittance*beta_plus_opt)\n",
    "print('Maximum beam envelope with emittance of 2.5 nm rad:',beam_envelope_max*1000,'mm')"
   ]
  },
  {
   "cell_type": "markdown",
   "metadata": {},
   "source": [
    "$\\rightarrow$ more than enough space in quadrupole aperture ($74.5$ mm) to fit a beam screen of the needed 10 sigma of the beam size: $(10\\cdot 0.65)$ mm"
   ]
  },
  {
   "cell_type": "code",
   "execution_count": null,
   "metadata": {},
   "outputs": [],
   "source": []
  }
 ],
 "metadata": {
  "kernelspec": {
   "display_name": "Python 3",
   "language": "python",
   "name": "python3"
  },
  "language_info": {
   "codemirror_mode": {
    "name": "ipython",
    "version": 3
   },
   "file_extension": ".py",
   "mimetype": "text/x-python",
   "name": "python",
   "nbconvert_exporter": "python",
   "pygments_lexer": "ipython3",
   "version": "3.7.8"
  }
 },
 "nbformat": 4,
 "nbformat_minor": 4
}
