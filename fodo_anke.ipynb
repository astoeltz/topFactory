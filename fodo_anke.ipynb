{
 "cells": [
  {
   "cell_type": "code",
   "execution_count": 115,
   "metadata": {},
   "outputs": [],
   "source": [
    "import numpy as np\n",
    "from scipy import constants \n",
    "import math"
   ]
  },
  {
   "cell_type": "code",
   "execution_count": 116,
   "metadata": {},
   "outputs": [],
   "source": [
    "c=constants.c\n",
    "e=constants.e"
   ]
  },
  {
   "cell_type": "code",
   "execution_count": 117,
   "metadata": {},
   "outputs": [
    {
     "data": {
      "text/plain": [
       "288"
      ]
     },
     "execution_count": 117,
     "metadata": {},
     "output_type": "execute_result"
    }
   ],
   "source": [
    "length=6000 #meters\n",
    "dipole_length=14 #meters\n",
    "fill_factor=0.67\n",
    "number_dipols=length*0.67/dipole_length\n",
    "number_dipols=math.ceil(number_dipols)\n",
    "number_dipols"
   ]
  },
  {
   "cell_type": "markdown",
   "metadata": {},
   "source": [
    "<img src=\"./figures/LHC_cell.jpeg\" width=\"600\">"
   ]
  },
  {
   "cell_type": "code",
   "execution_count": 118,
   "metadata": {},
   "outputs": [
    {
     "data": {
      "text/plain": [
       "50.0"
      ]
     },
     "execution_count": 118,
     "metadata": {},
     "output_type": "execute_result"
    }
   ],
   "source": [
    "fodo_cell_length=100 #meter\n",
    "number_fodo_cells=length/fodo_cell_length\n",
    "quad_driftspace=fodo_cell_length/2.\n",
    "quad_driftspace"
   ]
  },
  {
   "cell_type": "code",
   "execution_count": 119,
   "metadata": {},
   "outputs": [
    {
     "data": {
      "text/plain": [
       "70.71067811865476"
      ]
     },
     "execution_count": 119,
     "metadata": {},
     "output_type": "execute_result"
    }
   ],
   "source": [
    "focal_length=quad_driftspace*np.sqrt(2)\n",
    "focal_length"
   ]
  },
  {
   "cell_type": "code",
   "execution_count": 120,
   "metadata": {},
   "outputs": [],
   "source": [
    "dipols_per_driftspace=3\n",
    "dipols_per_cell=2*dipols_per_driftspace # -> 6 dipols per cell"
   ]
  },
  {
   "cell_type": "code",
   "execution_count": 121,
   "metadata": {},
   "outputs": [
    {
     "data": {
      "text/plain": [
       "48.0"
      ]
     },
     "execution_count": 121,
     "metadata": {},
     "output_type": "execute_result"
    }
   ],
   "source": [
    "cells_with_dipols=number_dipols/dipols_per_cell\n",
    "cells_with_dipols"
   ]
  },
  {
   "cell_type": "code",
   "execution_count": 122,
   "metadata": {},
   "outputs": [
    {
     "data": {
      "text/plain": [
       "12.0"
      ]
     },
     "execution_count": 122,
     "metadata": {},
     "output_type": "execute_result"
    }
   ],
   "source": [
    "cells_straight_sections=number_fodo_cells-cells_with_dipols\n",
    "cells_straight_sections"
   ]
  },
  {
   "cell_type": "code",
   "execution_count": 123,
   "metadata": {},
   "outputs": [
    {
     "data": {
      "text/plain": [
       "0.84"
      ]
     },
     "execution_count": 123,
     "metadata": {},
     "output_type": "execute_result"
    }
   ],
   "source": [
    "fill_factor_in_fodo=6*dipole_length/(2*quad_driftspace)\n",
    "fill_factor_in_fodo"
   ]
  },
  {
   "cell_type": "markdown",
   "metadata": {},
   "source": [
    "<img src=\"./figures/fodo_wiedemann.jpeg\" width=\"600\">"
   ]
  },
  {
   "cell_type": "markdown",
   "metadata": {},
   "source": [
    "- Stability: $|f|> \\frac{L}{2}$ with $L$ the drift space between two quads \n",
    "\n",
    "- Optimal phase advance for round beam (e.g. protons):\n",
    "$\\Psi\\overset{!}{=}90^\\circ$\n",
    "$\\rightarrow f\\overset{!}{=}\\sqrt{2}L$"
   ]
  },
  {
   "cell_type": "code",
   "execution_count": 124,
   "metadata": {},
   "outputs": [
    {
     "data": {
      "text/plain": [
       "70.71067811865476"
      ]
     },
     "execution_count": 124,
     "metadata": {},
     "output_type": "execute_result"
    }
   ],
   "source": [
    "focal_length=np.sqrt(2)*quad_driftspace\n",
    "focal_length"
   ]
  },
  {
   "cell_type": "code",
   "execution_count": 131,
   "metadata": {},
   "outputs": [
    {
     "data": {
      "text/plain": [
       "90.0"
      ]
     },
     "execution_count": 131,
     "metadata": {},
     "output_type": "execute_result"
    }
   ],
   "source": [
    "phase_advance=np.arccos(1-2*quad_driftspace**2/focal_length**2)\n",
    "phase_advance/(2*np.pi)*360"
   ]
  },
  {
   "cell_type": "markdown",
   "metadata": {},
   "source": [
    "### Quadrupole\n",
    "- Gradient: $g=\\frac{2\\mu_0 n I}{R^2}$\n",
    "- Strength: $k=\\frac{e}{p}g=0.2998\\frac{g[\\mathrm{T/m}]}{p[\\mathrm{Gev/c}]}$\n",
    "- Focal length $f=\\frac{1}{k\\cdot l}$ with $l$ length of the quad"
   ]
  },
  {
   "cell_type": "code",
   "execution_count": 125,
   "metadata": {},
   "outputs": [],
   "source": [
    "energy=1900 #GeV"
   ]
  },
  {
   "cell_type": "code",
   "execution_count": 126,
   "metadata": {},
   "outputs": [
    {
     "data": {
      "text/plain": [
       "0.01414213562373095"
      ]
     },
     "execution_count": 126,
     "metadata": {},
     "output_type": "execute_result"
    }
   ],
   "source": [
    "quad_length= 1 # meter (LHC: 3.1 meter magnetic length)\n",
    "quad_strength=1./(focal_length*quad_length)\n",
    "quad_strength # meter^-2"
   ]
  },
  {
   "cell_type": "code",
   "execution_count": 127,
   "metadata": {},
   "outputs": [
    {
     "data": {
      "text/plain": [
       "89.62661002364511"
      ]
     },
     "execution_count": 127,
     "metadata": {},
     "output_type": "execute_result"
    }
   ],
   "source": [
    "quad_gradient=quad_strength*energy/0.2998 \n",
    "quad_gradient #T/m (LHC: 220 T/m)"
   ]
  },
  {
   "cell_type": "code",
   "execution_count": 128,
   "metadata": {},
   "outputs": [],
   "source": [
    "quad_coil_current = 10000 # Ampere (LHC: 11470A)\n",
    "quad_n_turns = 20"
   ]
  },
  {
   "cell_type": "code",
   "execution_count": 129,
   "metadata": {},
   "outputs": [
    {
     "data": {
      "text/plain": [
       "0.07488872603185057"
      ]
     },
     "execution_count": 129,
     "metadata": {},
     "output_type": "execute_result"
    }
   ],
   "source": [
    "quad_aperture=np.sqrt(2*constants.mu_0*quad_n_turns*quad_coil_current/quad_gradient)\n",
    "quad_aperture #(LHC: 56mm)"
   ]
  },
  {
   "cell_type": "code",
   "execution_count": 133,
   "metadata": {},
   "outputs": [
    {
     "data": {
      "text/plain": [
       "matrix([[ 0.00000000e+00,  1.70710678e+02],\n",
       "        [-5.85786438e-03,  0.00000000e+00]])"
      ]
     },
     "execution_count": 133,
     "metadata": {},
     "output_type": "execute_result"
    }
   ],
   "source": [
    "mat_fodo=np.matrix([[0,2*quad_driftspace*(1+quad_driftspace/focal_length)],[-2*(1-quad_driftspace/focal_length)*quad_driftspace/(focal_length**2),0]])\n",
    "mat_fodo"
   ]
  },
  {
   "cell_type": "markdown",
   "metadata": {},
   "source": [
    "$\\beta=\\beta^+$ in centre of the (horizontally) focusing quadrupole\n",
    "\n",
    "$\\beta=\\beta^-$ in centre of the (horizontally) defocusing quadrupole\n"
   ]
  },
  {
   "cell_type": "code",
   "execution_count": 134,
   "metadata": {},
   "outputs": [],
   "source": [
    "fodo_parameter=focal_length/quad_driftspace"
   ]
  },
  {
   "cell_type": "code",
   "execution_count": 135,
   "metadata": {},
   "outputs": [
    {
     "data": {
      "text/plain": [
       "170.71067811865473"
      ]
     },
     "execution_count": 135,
     "metadata": {},
     "output_type": "execute_result"
    }
   ],
   "source": [
    "beta_plus=quad_driftspace*fodo_parameter*(fodo_parameter+1)/np.sqrt(fodo_parameter**2-1)\n",
    "beta_plus_opt=quad_driftspace*(2+np.sqrt(2))\n",
    "beta_plus #== beta_plus_opt"
   ]
  },
  {
   "cell_type": "code",
   "execution_count": 136,
   "metadata": {},
   "outputs": [
    {
     "data": {
      "text/plain": [
       "29.28932188134525"
      ]
     },
     "execution_count": 136,
     "metadata": {},
     "output_type": "execute_result"
    }
   ],
   "source": [
    "beta_minus=quad_driftspace*fodo_parameter*(fodo_parameter-1)/np.sqrt(fodo_parameter**2-1)\n",
    "beta_minus_opt=quad_driftspace*(2-np.sqrt(2))\n",
    "beta_minus #== beta_minus_opt"
   ]
  },
  {
   "cell_type": "markdown",
   "metadata": {},
   "source": [
    "Comparison with LHC:\n",
    "- Phase advance $90^°$\n",
    "- $\\beta^+\\approx 180\\,$m\n",
    "- $\\beta^-\\approx 30\\,$m"
   ]
  },
  {
   "cell_type": "code",
   "execution_count": 137,
   "metadata": {},
   "outputs": [
    {
     "data": {
      "text/plain": [
       "2.8041606433367862e-05"
      ]
     },
     "execution_count": 137,
     "metadata": {},
     "output_type": "execute_result"
    }
   ],
   "source": [
    "# maximum emittance\n",
    "emittance_max=quad_aperture**2/(4*quad_driftspace)\n",
    "emittance_max"
   ]
  },
  {
   "cell_type": "code",
   "execution_count": 138,
   "metadata": {},
   "outputs": [
    {
     "data": {
      "text/plain": [
       "0.0006532814824381883"
      ]
     },
     "execution_count": 138,
     "metadata": {},
     "output_type": "execute_result"
    }
   ],
   "source": [
    "emittance=2.5e-9 #meter rad\n",
    "beam_envelope_max=np.sqrt(emittance*beta_plus_opt)\n",
    "beam_envelope_max"
   ]
  }
 ],
 "metadata": {
  "kernelspec": {
   "display_name": "Python 3",
   "language": "python",
   "name": "python3"
  },
  "language_info": {
   "codemirror_mode": {
    "name": "ipython",
    "version": 3
   },
   "file_extension": ".py",
   "mimetype": "text/x-python",
   "name": "python",
   "nbconvert_exporter": "python",
   "pygments_lexer": "ipython3",
   "version": "3.7.8"
  }
 },
 "nbformat": 4,
 "nbformat_minor": 4
}
