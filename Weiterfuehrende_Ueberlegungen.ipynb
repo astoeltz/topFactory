{
 "cells": [
  {
   "cell_type": "markdown",
   "metadata": {},
   "source": [
    "# Weitere Aspekte die beim Bau und Design von Beschleunigern betrachtet werden können\n"
   ]
  },
  {
   "cell_type": "markdown",
   "metadata": {},
   "source": [
    "- Weiterverwendung über eigentlichen Betriebshorizont hinaus\n",
    "- Standort (Erdbebensicherheit, etc.)\n",
    "- Infrastruktur(-anschluss)\n",
    "- Politische Stabilität\n",
    "- Nötige Neuentwicklungen\n",
    "- Nutzen der Anlage (Experimente, Physik)\n",
    "- Kommerzielle Bauelemente\n",
    "- Benötigter Platz"
   ]
  },
  {
   "cell_type": "code",
   "execution_count": null,
   "metadata": {},
   "outputs": [],
   "source": []
  }
 ],
 "metadata": {
  "kernelspec": {
   "display_name": "Python 3",
   "language": "python",
   "name": "python3"
  },
  "language_info": {
   "codemirror_mode": {
    "name": "ipython",
    "version": 3
   },
   "file_extension": ".py",
   "mimetype": "text/x-python",
   "name": "python",
   "nbconvert_exporter": "python",
   "pygments_lexer": "ipython3",
   "version": "3.7.8"
  }
 },
 "nbformat": 4,
 "nbformat_minor": 4
}
