{
 "cells": [
  {
   "cell_type": "markdown",
   "metadata": {},
   "source": [
    "# Anforderungen an Vorbeschleunigerstruktur\n",
    "\n",
    "Nachfolgend aufgeführt sind die Anforderungen, die der Hauptbeschleuniger für die $t\\bar{t}$-Produktion an die Vorbeschleuniger und die Teilchenquelle stellen. Dabei erfolgt eine Orientierung an der LHC-Vorbeschleunigerstruktur. Insbesonder bzgl. der Einschuss-/Extraktionsenergie der einzelnen Vorbeschleuniger. Diese wird u.a. durch Restmagnetisierung der Dipole etc. bestimmt.\n",
    "\n",
    "**Einschussenergie: 130 GeV  \n",
    "Einschussstrom: 0,5 A**"
   ]
  },
  {
   "cell_type": "markdown",
   "metadata": {},
   "source": [
    "Betrachte die Vorbeschleunigerstruktur rückwärts, also beginnend beim letzten Vorbeschleuniger. Dieser muss die oben angegebene Einschussenergie von 130 GeV und einen Einschussstrom von 0,5 A liefern."
   ]
  },
  {
   "cell_type": "code",
   "execution_count": 93,
   "metadata": {},
   "outputs": [],
   "source": [
    "import numpy as np\n",
    "from scipy import constants "
   ]
  },
  {
   "cell_type": "code",
   "execution_count": 94,
   "metadata": {},
   "outputs": [],
   "source": [
    "# Eingehende Groeßen von anderen Notebooks\n",
    "\n",
    "n_b = 4000  # Bunchanzahl pro Strahl im Hauptbeschleuniger\n",
    "N = 0.16*10**(11) # Anzahl Teilchen im Bunch\n",
    "\n",
    "# Vorgegeben\n",
    "Einschussenergie = 130 # GeV"
   ]
  },
  {
   "cell_type": "markdown",
   "metadata": {},
   "source": [
    "**Weiter unten befinden sich allgemeine Rechnungen, um die Vorbeschleunigerstruktur nach und nach zu erarbeiten. Der an diese Zelle angeschlossen Teil stellt die bisherige tatsächlich vorgeschlagene Vorbeschleunigerstruktur dar.**"
   ]
  },
  {
   "cell_type": "markdown",
   "metadata": {},
   "source": [
    "### Die Protonenquelle  \n",
    "\n",
    "Wasserstoffatomen wird durch e$^-$-Beschuss ihr eigenes Elektron entrissen. Die positiv geladenen Ionen (H$^+$) werden dann in die (Vor-)Bescleunigerstruktur extrahiert. Das Extrhieren führt bereits zu einer ersten (gerichteten) Beschleunigung der Ionen. Hier also der Protonen.  \n",
    "\n",
    "Evtl. Perveanz, Emittanz, Brillianz einbringen.\n",
    "Strom, Teilchenanzahl, etc. berechnen\n",
    "\n",
    "Bild einer Ionenquelle einfügen."
   ]
  },
  {
   "cell_type": "markdown",
   "metadata": {},
   "source": [
    "### Vorbeschleuniger 4 (nachfolgend Einspeisung in Hauptbeschl.): Synchrotron  \n",
    "\n",
    "$E_{max} \\approx recB$,  \n",
    "\n",
    "mit der Maximalenergie $E_{max}$ des Synchrotrons, dem Radius r, der Elektronladung e, der Lichtgeschwindigkeit c und der Magnetfeldstärke B. Der Umfang des Vorbeschleunigers sollte deutlich unter dem des Hauptbeschleunigers liegen. Auch die Magnete sollten geringere Feldstärken stellen müssen. -> Für B verschiedene Annahmen machen und schauen, welcher Radius bzw. Umfang sich daraus ergibt. Beachte gleichzeitig die Bunchanzahl (eingehend über harmonische Zahl h), um genügend Strahlstrom zu liefern: $$f_{RF} = hf_{rev}.$$"
   ]
  },
  {
   "cell_type": "markdown",
   "metadata": {},
   "source": [
    "Aufstellung Magnetfeldstärke, sich ergebender Radius und resultierender Umfang.\n",
    "\n",
    "| B[T] |  r[m]  |   U[m]  |\n",
    "|:----:|:------:|:-------:|\n",
    "|  0,5 | 867,26 | 5449,16 |\n",
    "|  1,0 | 466,53 | 2724,58 |\n",
    "|  1,5 | 289,06 | 1816,22 |\n",
    "|  2,0 | 216,81 | 1362,26 |\n",
    "|  2,5 | 173,45 | 1089,82 |\n",
    "|  3,0 | 144,54 |  908,17 |\n",
    "|  3,5 | 123,89 |  778,42 |\n",
    "|  4,0 |  108,4 |  681,1  |\n",
    "|  4,5 | 96,362 |  605,46 |\n",
    "|  5,0 | 86,726 |  544,92 |\n",
    "\n",
    "Bis ca. 2 T kann mit konventionellen Elektromagneten gearbeitet werden, SPS am CERN nutzt auch konventionelle Magnete. Da dies deutlich einfacher zu bauen und zu betreiben ist und gleichzeitig höhere Magnetfeldstärken verhältnismäßig wenig zu geringerem Umfang beitragen, sollte hier B = 1,5T oder B = 2,0 T gewählt werden.  -> weitere Entscheidungskriterien?"
   ]
  },
  {
   "cell_type": "code",
   "execution_count": 65,
   "metadata": {},
   "outputs": [],
   "source": [
    "# Pythoncode fuer obige Tabelle\n",
    "B_list = [0.5, 1.0, 1.5, 2.0, 2.5, 3.0, 3.5, 4.0, 4.5, 5.0]\n",
    "Radien = []\n",
    "for i in range(len(B_list)):\n",
    "    r = 130*10**9/(1*constants.c*B_list[i])\n",
    "    Radien.append(r)\n",
    "\n",
    "#print(\"Radius [m]:\", Radien)\n",
    "\n",
    "Umfang = [] \n",
    "for k in range(len(Radien)):\n",
    "    U = 2*constants.pi*Radien[k]\n",
    "    Umfang.append(U)\n",
    "\n",
    "#print(\"\\nUmfang [m]:\", Umfang)"
   ]
  },
  {
   "cell_type": "code",
   "execution_count": 3,
   "metadata": {},
   "outputs": [],
   "source": [
    "# Potentielle Magnetfeldstärken im Vorbeschleuniger \n",
    "B1 = 1.5  # Tesla\n",
    "B2 = 2.0  # Tesl"
   ]
  },
  {
   "cell_type": "markdown",
   "metadata": {},
   "source": [
    "CERN: Bei Injektion in den letzten Vorbeschleuniger (SPS) haben die Protonen  ca. 25 GeV -> v $\\approx$ c. Es folgt eine Umlauffrequenz"
   ]
  },
  {
   "cell_type": "code",
   "execution_count": 66,
   "metadata": {},
   "outputs": [],
   "source": [
    "# Potentieller Umfang des Vorbeschleunigers\n",
    "U1 = 1816.22 # in Metern, gilt fuer B1 = 1,5 T\n",
    "U2 = 1362.26 # in Metern, gilt fuer B1 = 2,0 T"
   ]
  },
  {
   "cell_type": "code",
   "execution_count": 95,
   "metadata": {},
   "outputs": [
    {
     "name": "stdout",
     "output_type": "stream",
     "text": [
      "Fuer den Vorbeschleuniger 4 ergibt sich eine Umlauffrequenz von:\n",
      "Bei 1,5T: 165.06395590842519 kHz \n",
      "Bei 2,0T: 220.06992644575925 kHz\n"
     ]
    }
   ],
   "source": [
    "# Umlauffrequenz: f_rev = v/s, für v ist c anzunehmen und für die Strecke s der aus obiger Tabelle entnommene Umfang des Synchrotrons\n",
    "\n",
    "f_revB1 = (constants.c/U1)/10**3    # in kHz gerechnet\n",
    "f_revB2 = (constants.c/U2)/10**3\n",
    "\n",
    "print(\"Fuer den Vorbeschleuniger 4 ergibt sich eine Umlauffrequenz von:\")\n",
    "print(\"Bei 1,5T:\",f_revB1,\"kHz\", \"\\nBei 2,0T:\", f_revB2, \"kHz\")"
   ]
  },
  {
   "cell_type": "markdown",
   "metadata": {},
   "source": [
    "Bei 1,5T -> 1816,22m Umfang -> 165,06kHz  \n",
    "Bei 2,0T -> 1362,26m Umfang -> 220,07kHz"
   ]
  },
  {
   "cell_type": "markdown",
   "metadata": {},
   "source": [
    "Um den Hauptbeschleuniger mit einer Füllung des letzten Vorbeschleunigers zu füllen, werden also 2x4000 = 8000 Bunche mit je 0,16*$10^{11}$ Teilchen benötigt. Für diese Anzahl Bunche benötigt dieser Vorbeschleuniger eine HF von:"
   ]
  },
  {
   "cell_type": "code",
   "execution_count": 96,
   "metadata": {},
   "outputs": [],
   "source": [
    "# Unter Betrachtung der gewuenschten Bucketanzahl im Beschleuniger ergeben sich die dafür benötigten RFs \n",
    "f_RFEinzelfuellung1 = 8000 * 165.06\n",
    "f_RFEinzelfuellung2 = 8000 * 220.07\n",
    "f_RF1 = 2000 * 165.06 \n",
    "f_RF2 = 2000 * 220.07\n",
    "f_RF3 = 1000 * 165.06\n",
    "f_RF4 = 1000 * 220.07"
   ]
  },
  {
   "cell_type": "code",
   "execution_count": 97,
   "metadata": {},
   "outputs": [
    {
     "name": "stdout",
     "output_type": "stream",
     "text": [
      "1320.48 MHz\n",
      "1760.56 MHz\n",
      "330.12 MHz\n",
      "440.14 MHz\n",
      "165.06 MHz\n",
      "220.07 MHz\n"
     ]
    }
   ],
   "source": [
    "print(f_RFEinzelfuellung1/10**3, \"MHz\")\n",
    "print(f_RFEinzelfuellung2/10**3, \"MHz\")\n",
    "#print(f_RF1, \"kHz\") \n",
    "print(f_RF1/10**3, \"MHz\")\n",
    "#print(f_RF2, \"kHz\") \n",
    "print(f_RF2/10**3, \"MHz\")\n",
    "#print(f_RF3, \"kHz\") \n",
    "print(f_RF3/10**3, \"MHz\")\n",
    "#print(f_RF4, \"kHz\") \n",
    "print(f_RF4/10**3, \"MHz\")"
   ]
  },
  {
   "cell_type": "markdown",
   "metadata": {},
   "source": [
    "Wähle darauf basierend die Bunchanzahl und den Beschleunigerumfang (durch f_rev)"
   ]
  },
  {
   "cell_type": "code",
   "execution_count": 98,
   "metadata": {},
   "outputs": [
    {
     "name": "stdout",
     "output_type": "stream",
     "text": [
      "Fuer 2000 Buckets und 165.06 Hz f_rev (1816,22m Umfang): 330.12 MHz\n",
      "Fuer 2000 Buckets und 220.07 Hz f_rev (1362,26m Umfang): 440.14 MHz\n"
     ]
    }
   ],
   "source": [
    "# Fuer 2000 Buckets und 165.06 Hz f_rev\n",
    "print(\"Fuer 2000 Buckets und 165.06 Hz f_rev (1816,22m Umfang):\", f_RF1/10**3, \"MHz\")\n",
    "\n",
    "#Fuer 2000 Buckets und 220.07 Hz f_rev\n",
    "print(\"Fuer 2000 Buckets und 220.07 Hz f_rev (1362,26m Umfang):\", f_RF2/10**3, \"MHz\")"
   ]
  },
  {
   "cell_type": "code",
   "execution_count": 104,
   "metadata": {},
   "outputs": [],
   "source": [
    "# Strahlstrom fuer alle Buckets gefuellt und fuer die Haelfte der Buckets gefuellt\n",
    "Strahlstrom1 = 2000*0.16*10**(11)*165.06*10**(3)*1.6*10**(-19) #in Ampere\n",
    "Strahlstrom2 = 1000*0.16*10**(11)*165.06*10**(3)*1.6*10**(-19) #in Ampere\n",
    "Strahlstrom3 = 2000*0.16*10**(11)*220.07*10**(3)*1.6*10**(-19) #in Ampere\n",
    "Strahlstrom4 = 1000*0.16*10**(11)*220.07*10**(3)*1.6*10**(-19) #in Ampere"
   ]
  },
  {
   "cell_type": "code",
   "execution_count": 105,
   "metadata": {},
   "outputs": [
    {
     "name": "stdout",
     "output_type": "stream",
     "text": [
      "Strahlstrom je nach Umlauffrequenz:\n",
      "2000 Bunche 165.06 kHz: 0.8451072 A\n",
      "1000 Bunche 165.06 kHz: 0.4225536 A\n",
      "2000 Bunche 220.0 kHz: 1.1267584 A\n",
      "1000 Bunche 220.0 kHz: 0.5633792 A\n"
     ]
    }
   ],
   "source": [
    "print(\"Strahlstrom je nach Umlauffrequenz:\")\n",
    "print(\"2000 Bunche\", 165.06, \"kHz:\", Strahlstrom1, \"A\")\n",
    "print(\"1000 Bunche\", 165.06, \"kHz:\", Strahlstrom2, \"A\")\n",
    "print(\"2000 Bunche\",220.0, \"kHz:\", Strahlstrom3, \"A\")\n",
    "print(\"1000 Bunche\",220.0, \"kHz:\", Strahlstrom4, \"A\")"
   ]
  },
  {
   "cell_type": "markdown",
   "metadata": {},
   "source": [
    "**Für den Vorbeschleuniger 4 (Injektor in den Hauptbeschleuniger) wird folgende Konfiguration gewählt:**\n",
    "- Magnete: konventionell, 2T\n",
    "- Umfang: 1362,26m\n",
    "- Buckets: 2000\n",
    "- Bunche: 1000\n",
    "- Umlauffrequenz: 220.07kHz\n",
    "- RF: 440.14 MHz\n",
    "- Füllungen für den Hauptbeschleuniger: 8\n",
    "- Strahlstrom: 0,56 A\n",
    "- Beschleunigung: 25GeV -> 130GeV (orientiert an CERN)"
   ]
  },
  {
   "cell_type": "markdown",
   "metadata": {},
   "source": [
    "Basierend auf den bisherigen Ergebnissen benötigt der Hauptbeschleuniger 8 Füllungen des Vorbeschleunigers 4.Bestimmend, welche Injektionsenergie benötigt wird, ist insbesondere das Magnetfeld des Beschleunigers. Aufgrund des Restmagnetfeldes im Joch muss eine gewisse Injektionsenergie bestehen, um die Teilchen auf einer stabilen Bahn zu halten. Am CERN kommt vor dem SPS das Proton-Synchrotron (PS). PS versorgt SPS mit Protonen der Energie 25 GeV -> dies soll auch hier der angenommene Wert sein, den der letzte Vorbeschleuniger noch benötigt."
   ]
  },
  {
   "cell_type": "markdown",
   "metadata": {},
   "source": [
    "Bestimmend, welche Injektionsenergie benötigt wird, ist insbesondere das Magnetfeld des Beschleunigers. Aufgrund des Restmagnetfeldes im Joch muss eine gewisse Injektionsenergie bestehen, um die Teilchen auf einer stabilen Bahn zu halten. Am CERN kommt vor dem SPS das Proton-Synchrotron (PS). PS versorgt SPS mit Protonen der Energie 25 GeV -> dies soll auch hier der angenommene Wert sein, den der letzte Vorbeschleuniger noch benötigt."
   ]
  },
  {
   "cell_type": "markdown",
   "metadata": {},
   "source": [
    "### Vorbeschleuniger 3: Synchrotron"
   ]
  },
  {
   "cell_type": "markdown",
   "metadata": {},
   "source": [
    "Gleiche Überlegungen wie zuvor:  \n",
    "\n",
    "\n",
    "| B[T] |  r[m]  |   U[m]  |\n",
    "|:----:|:------:|:-------:|\n",
    "|  0,5 | 166,78 | 1047,91 |\n",
    "|  1,0 | 83,391 |  523.96 |\n",
    "|  1,5 | 55,594 |  349,31 |\n",
    "|  2,0 | 41,695 |  261,98 |\n",
    "|  2,5 | 33,356 |  208,95 |\n",
    "|  3,0 | 27,797 |  174,65 |\n",
    "|  3,5 | 23,826 |  149,70 |\n",
    "|  4,0 | 20,847 |  130,99 |\n",
    "|  4,5 | 18,531 |  116,43 |\n",
    "|  5,0 | 16,678 |  104,79 |\n"
   ]
  },
  {
   "cell_type": "code",
   "execution_count": 106,
   "metadata": {},
   "outputs": [],
   "source": [
    "BS1 = 2.0  # Tesla\n",
    "BS2 = 1.5  # Tesla\n",
    "BS3 = 1.0  # Tesla\n",
    "BS4 = 0.5  # Tesla"
   ]
  },
  {
   "cell_type": "code",
   "execution_count": 107,
   "metadata": {},
   "outputs": [],
   "source": [
    "# Potentieller Umfang des Vorbeschleunigers\n",
    "US1 = 1047.91 # in Metern, gilt fuer B1 = 0,5 T\n",
    "US2 = 523.96 # in Metern, gilt fuer B1 = 1,0 T\n",
    "US3 = 349.31 # in Metern, gilt fuer B1 = 1,5 T\n",
    "US4 = 261.98 # in Metern, gilt fuer B1 = 2,0 T"
   ]
  },
  {
   "cell_type": "code",
   "execution_count": 108,
   "metadata": {},
   "outputs": [
    {
     "name": "stdout",
     "output_type": "stream",
     "text": [
      "Bei 0,5T: 286.08607418576025 kHz Bei 1,0 T: 572.1666882968166 kHz Bei 1,5 T: 858.2418424894793 kHz Bei 2,0 T: 1144.3333765936331 kHz\n"
     ]
    }
   ],
   "source": [
    "# Umlauffrequenz: f_rev = v/s, für v ist c anzunehmen und für die Strecke s der aus obiger Tabelle entnommene Umfang des Synchrotrons\n",
    "\n",
    "f_revBS1 = (constants.c/US1)/10**3\n",
    "f_revBS2 = (constants.c/US2)/10**3\n",
    "f_revBS3 = (constants.c/US3)/10**3\n",
    "f_revBS4 = (constants.c/US4)/10**3\n",
    "\n",
    "print(\"Bei 0,5T:\",f_revBS1,\"kHz\", \"Bei 1,0 T:\", f_revBS2, \"kHz\", \"Bei 1,5 T:\", f_revBS3,\"kHz\", \"Bei 2,0 T:\", f_revBS4, \"kHz\")"
   ]
  },
  {
   "cell_type": "code",
   "execution_count": 109,
   "metadata": {},
   "outputs": [],
   "source": [
    "f_RFS1 = 2000 * 858.242 # Für 2000 Buckets \n",
    "f_RFS2 = 2000 * 1144.333\n",
    "f_RFS3 = 2000 * 572.167\n",
    "f_RFS4 = 2000 * 286.086\n",
    "f_RFS5 = 1000 * 858.242 # Für 1000 Buckets \n",
    "f_RFS6 = 1000 * 1144.333\n",
    "f_RFS7 = 1000 * 572.167\n",
    "f_RFS8 = 1000 * 286.086"
   ]
  },
  {
   "cell_type": "code",
   "execution_count": 119,
   "metadata": {},
   "outputs": [
    {
     "name": "stdout",
     "output_type": "stream",
     "text": [
      "2000 Buckets\n",
      "Umlauffrequenz, RF\n",
      "286.08 kHz: 1716.484 MHz\n",
      "1144.333 kHz: 2288.666 MHz\n",
      "572.167 kHz: 1144.334 MHz\n",
      "286.086 kHz: 572.172 MHz\n",
      "\n",
      "1000 Buckets\n",
      "Umlauffrequenz, RF\n",
      "858.242 kHz: 858.242 MHz\n",
      "1144.333 kHz: 1144.333 MHz\n",
      "572.167 kHz: 572.167 MHz\n",
      "286.086 kHz: 286.086 MHz\n"
     ]
    }
   ],
   "source": [
    "#print(f_RFS1, \"kHz\") \n",
    "print(\"2000 Buckets\")\n",
    "print(\"Umlauffrequenz, RF\")\n",
    "print(\"286.08 kHz:\", f_RFS1/10**3, \"MHz\")\n",
    "#print(f_RFS2, \"kHz\") \n",
    "print(\"1144.333 kHz:\" ,f_RFS2/10**3, \"MHz\")\n",
    "#print(f_RFS3, \"kHz\") \n",
    "print(\"572.167 kHz:\", f_RFS3/10**3, \"MHz\")\n",
    "#print(f_RFS4, \"kHz\") \n",
    "print(\"286.086 kHz:\", f_RFS4/10**3, \"MHz\")\n",
    "print(\"\\n1000 Buckets\")\n",
    "print(\"Umlauffrequenz, RF\")\n",
    "#print(f_RFS5, \"kHz\") \n",
    "print(\"858.242 kHz:\", f_RFS5/10**3, \"MHz\")\n",
    "#print(f_RFS6, \"kHz\") \n",
    "print(\"1144.333 kHz:\", f_RFS6/10**3, \"MHz\")\n",
    "#print(f_RFS7, \"kHz\") \n",
    "print(\"572.167 kHz:\", f_RFS7/10**3, \"MHz\")\n",
    "#print(f_RFS8, \"kHz\") \n",
    "print(\"286.086 kHz:\", f_RFS8/10**3, \"MHz\")"
   ]
  },
  {
   "cell_type": "code",
   "execution_count": 115,
   "metadata": {},
   "outputs": [],
   "source": [
    "Strahlstrom_S1 = 2000*0.16*10**(11)*286.086*10**(3)*1.6*10**(-19) #in Ampere\n",
    "Strahlstrom_S2 = 1000*0.16*10**(11)*286.086*10**(3)*1.6*10**(-19) #in Ampere\n",
    "Strahlstrom_S3 = 500*0.16*10**(11)*286.086*10**(3)*1.6*10**(-19) #in Ampere"
   ]
  },
  {
   "cell_type": "code",
   "execution_count": 117,
   "metadata": {},
   "outputs": [
    {
     "name": "stdout",
     "output_type": "stream",
     "text": [
      "2000 Bunche, Umlauffrequenz 286,086 1.46476032 A \n",
      "1000 Bunche, Umlauffrequenz 286,086 0.73238016 A \n",
      "500 Bunche, Umlauffrequenz 286,086 0.36619008 A\n"
     ]
    }
   ],
   "source": [
    "print(\"2000 Bunche, Umlauffrequenz 286,086\", Strahlstrom_S1, \"A\", \"\\n1000 Bunche, Umlauffrequenz 286,086\", Strahlstrom_S2, \"A\", \"\\n500 Bunche, Umlauffrequenz 286,086\", Strahlstrom_S3, \"A\")"
   ]
  },
  {
   "cell_type": "markdown",
   "metadata": {},
   "source": [
    "**Für den Vorbeschleuniger 3 wird folgende Konfiguration gewählt:**\n",
    "- Magnete: konventionell, 0,5T\n",
    "- Umfang: 1047.91m\n",
    "- Buckets: 1000\n",
    "- Bunche: 500\n",
    "- Umlauffrequenz: 286.09kHz\n",
    "- RF: 286,086 MHz\n",
    "- Füllungen für den Hauptbeschleuniger: 16\n",
    "- Strahlstrom: 0,37 A\n",
    "- Beschleunigung: 1,4GeV -> 25GeV (orientiert an CERN)"
   ]
  },
  {
   "cell_type": "markdown",
   "metadata": {},
   "source": [
    "**Nachfolgend die zur Erarbeitung genutzten Code-Bausteine und Rechnungen**"
   ]
  },
  {
   "cell_type": "markdown",
   "metadata": {},
   "source": [
    "### Vorbeschleuniger 2"
   ]
  },
  {
   "cell_type": "markdown",
   "metadata": {},
   "source": [
    "Das CERN PS wird mit 1,4 GeV Protonen aus dem Protonen Booster versorgt. Entsprechend soll auch hier die Vorbeschleunigerstufe vor dem vorletzten Beschleuniger Protonen mit 1,4 GeV bereitstellen. ->Mehrere Synchrotronstrahlrohre übereinander.  \n",
    "#### Ab hier: nicht mehr mit c als Umlauffrequenz rechnen. Bei 1,4 GeV gilt v $\\approx$ 0,74*c = 221846418.92 m/s. Für Ringumfang wieder obige Formel verwendet."
   ]
  },
  {
   "cell_type": "markdown",
   "metadata": {},
   "source": [
    "| B[T] | r[m] | U[m]  |\n",
    "|------|------|-------|\n",
    "| 0,5  | 9,34 | 58,68 |\n",
    "| 1,0  | 4,67 | 29,34 |\n",
    "| 1,5  | 3,11 | 19,54 |\n",
    "| 2,0  | 2,33 | 14,64 |\n",
    "| 2,5  | 1,87 | 11,75 |"
   ]
  },
  {
   "cell_type": "code",
   "execution_count": 121,
   "metadata": {},
   "outputs": [
    {
     "name": "stdout",
     "output_type": "stream",
     "text": [
      "Bei 0,5T: 3780.6138193592365 kHz \n",
      "Bei 1,0T: 7561.227638718473 kHz \n",
      "Bei 1,5T: 11353.45030296827 kHz \n",
      "Bei 2,0T: 15153.443915300544 kHz\n"
     ]
    }
   ],
   "source": [
    "# Umlauffrequenz: f_rev = v/s, für v ist 0,74*c anzunehmen und für die Strecke s der aus obiger Tabelle entnommene Umfang des Synchrotrons\n",
    "\n",
    "f_revB1 = (0.74*constants.c/58.68)/10**3    # in kHz gerechnet\n",
    "f_revB2 = (0.74*constants.c/29.34)/10**3\n",
    "f_revB3 = (0.74*constants.c/19.54)/10**3\n",
    "f_revB4 = (0.74*constants.c/14.64)/10**3\n",
    "print(\"Bei 0,5T:\",f_revB1,\"kHz\", \"\\nBei 1,0T:\", f_revB2, \"kHz\",\"\\nBei 1,5T:\",f_revB3,\"kHz\", \"\\nBei 2,0T:\", f_revB4, \"kHz\")"
   ]
  },
  {
   "cell_type": "code",
   "execution_count": 132,
   "metadata": {},
   "outputs": [],
   "source": [
    "f_RF1 = 2000 * 3780.61 # Für 2000 Bunche je Füllung werden insgesamt ca. vier Füllungen des Hauptbeschleunigers benötigt\n",
    "f_RF2 = 2000 * 7561.23\n",
    "f_RF3 = 2000 * 11353.45 # Für 2000 Bunche je Füllung werden insgesamt ca. vier Füllungen des Hauptbeschleunigers benötigt\n",
    "f_RF4 = 2000 * 15153.44\n",
    "f_RF5 = 25 * 3780.61\n",
    "f_RF6 = 25 * 7561.23\n",
    "f_RF7 = 25 * 11353.45 # Für 2000 Bunche je Füllung werden insgesamt ca. vier Füllungen des Hauptbeschleunigers benötigt\n",
    "f_RF8 = 25 * 15153.44\n",
    "f_RF_1 = 2 * 3780.61"
   ]
  },
  {
   "cell_type": "code",
   "execution_count": 133,
   "metadata": {},
   "outputs": [
    {
     "name": "stdout",
     "output_type": "stream",
     "text": [
      "7561220.0 kHz\n",
      "7561.22 MHz\n",
      "15122460.0 kHz\n",
      "15122.46 MHz\n",
      "22706900.0 kHz\n",
      "22706.9 MHz\n",
      "30306880.0 kHz\n",
      "30306.88 MHz\n",
      "94515.25 kHz\n",
      "94.51525 MHz\n",
      "189030.75 kHz\n",
      "189.03075 MHz\n",
      "283836.25 kHz\n",
      "283.83625 MHz\n",
      "378836.0 kHz\n",
      "378.836 MHz\n",
      "7.5612200000000005 MHz\n"
     ]
    }
   ],
   "source": [
    "print(f_RF1, \"kHz\") \n",
    "print(f_RF1/10**3, \"MHz\")\n",
    "print(f_RF2, \"kHz\") \n",
    "print(f_RF2/10**3, \"MHz\")\n",
    "print(f_RF3, \"kHz\") \n",
    "print(f_RF3/10**3, \"MHz\")\n",
    "print(f_RF4, \"kHz\") \n",
    "print(f_RF4/10**3, \"MHz\")\n",
    "print(f_RF5, \"kHz\") \n",
    "print(f_RF5/10**3, \"MHz\")\n",
    "print(f_RF6, \"kHz\") \n",
    "print(f_RF6/10**3, \"MHz\")\n",
    "print(f_RF7, \"kHz\") \n",
    "print(f_RF7/10**3, \"MHz\")\n",
    "print(f_RF8, \"kHz\") \n",
    "print(f_RF8/10**3, \"MHz\")\n",
    "print(f_RF_1/10**3, \"MHz\")"
   ]
  },
  {
   "cell_type": "code",
   "execution_count": 134,
   "metadata": {},
   "outputs": [],
   "source": [
    "Strahlstrom1 = 25*0.16*10**(11)*3780.61*10**(3)*1.6*10**(-19) #in Ampere\n",
    "Strahlstrom2 = 25*0.16*10**(11)*7561.23*10**(3)*1.6*10**(-19) #in Ampere\n",
    "Strahlstrom3 = 25*0.16*10**(11)*11353.45*10**(3)*1.6*10**(-19) #in Ampere\n",
    "Strahlstrom4 = 25*0.16*10**(11)*15153.44*10**(3)*1.6*10**(-19) #in Ampere\n",
    "Strahlstrom5 = 1*0.16*10**(11)*3780.61*10**(3)*1.6*10**(-19) #in Ampere"
   ]
  },
  {
   "cell_type": "code",
   "execution_count": 135,
   "metadata": {},
   "outputs": [
    {
     "name": "stdout",
     "output_type": "stream",
     "text": [
      "0.24195904 A\n",
      "0.48391871999999997 A\n",
      "0.7266208 A\n",
      "0.9698201599999999 A\n",
      "0.0096783616 A\n"
     ]
    }
   ],
   "source": [
    "print(Strahlstrom1, \"A\")\n",
    "print(Strahlstrom2, \"A\")\n",
    "print(Strahlstrom3, \"A\")\n",
    "print(Strahlstrom4, \"A\")\n",
    "print(Strahlstrom5, \"A\")"
   ]
  },
  {
   "cell_type": "code",
   "execution_count": 136,
   "metadata": {},
   "outputs": [
    {
     "name": "stdout",
     "output_type": "stream",
     "text": [
      "0.96783616 A\n",
      "1.9356748799999999 A\n",
      "2.9064832 A\n",
      "3.8792806399999997 A\n",
      "0.0387134464 A\n"
     ]
    }
   ],
   "source": [
    "# Für vier Strahlrohre wie beim Protonen Booster am LHC\n",
    "print(4*Strahlstrom1, \"A\")\n",
    "print(4*Strahlstrom2, \"A\")\n",
    "print(4*Strahlstrom3, \"A\")\n",
    "print(4*Strahlstrom4, \"A\")\n",
    "print(4*Strahlstrom5, \"A\")"
   ]
  },
  {
   "cell_type": "markdown",
   "metadata": {},
   "source": [
    "**Für den Vorbeschleuniger 2 wird folgende Konfiguration gewählt:**\n",
    "- Magnete: konventionell, 0,5T\n",
    "- Umfang: 58.68m\n",
    "- Buckets: 2 pro Strahlrohr\n",
    "- Bunche: 1 pro Strahlrohr\n",
    "- 4 Strahlrohre\n",
    "- Umlauffrequenz: 3780.61kHz\n",
    "- RF: 7.56 MHz\n",
    "- Füllungen für den Hauptbeschleuniger: 2000\n",
    "- Strahlstrom: 0,0097 A pro Rohr, 0,039 A für 4 Rohre\n",
    "- Beschleunigung: 50MeV -> 1,4GeV (orientiert an CERN)\n"
   ]
  },
  {
   "cell_type": "markdown",
   "metadata": {},
   "source": [
    "### Erster Vorbeschleuniger: Linac  \n",
    "Orientiert amLinac 2 am CERN"
   ]
  },
  {
   "cell_type": "markdown",
   "metadata": {},
   "source": [
    "Protonenquelle (CERN) liefert Protonen mit 90 keV, der Linac 2 beschleunigt sie auf 50 MeV. Zur Berechnung wird wie in Übungsblatt 2 vorgegangen: Beschleunigungsstrecke -> 75 mm, Beschleunigungsspannung 100 kV (hier ggf. angepasst), Frequenz 200MHz, Beschleunigung auf 0,314 % der Lichtgeschwindigkeit, Start bei 90 keV (gem. CERN)\n"
   ]
  },
  {
   "cell_type": "code",
   "execution_count": 137,
   "metadata": {},
   "outputs": [
    {
     "name": "stdout",
     "output_type": "stream",
     "text": [
      "Fuer Protonen\n",
      "Anzahl Beschleunigungen: 249\n",
      "Der Beschleuniger benoetigt eine Laenge von 58.7257138038766 m\n"
     ]
    }
   ],
   "source": [
    "import scipy.constants as sci\n",
    "\n",
    "# Fuer die Fallstudie\n",
    "\n",
    "# Ruhenergie Proton in MeV\n",
    "m = sci.physical_constants[\"proton mass energy equivalent in MeV\"]\n",
    "#print(m[0])\n",
    "# Lichtgeschwindigkeit\n",
    "c = sci.c\n",
    "#print(c)\n",
    "\n",
    "\n",
    "# Laenge einer Driftroehre, Fkt. von Beta-Faktor aus separater Fkt. abh.\n",
    "# Formel aus Vorlesung, c/200000000 isst Wellenlaenge der RF\n",
    "def LDrift(b):\n",
    "    L = 0.5*(c/200000000)*b\n",
    "    return L\n",
    " \n",
    "# Beta-Faktor in Abh. der Ruheenergie und der n-fach erhoehten Ekin,\n",
    "#Erhoehung bei jedem Durchgang durch die Beschleunigungsstrecke\n",
    "def Beta(n, m):\n",
    "    B = (1 - ((m*(10**6))**2/(((90*(10**3) + n*200*(10**3)) + m*(10**6))**2)))**(0.5)\n",
    "    return B\n",
    "\n",
    "\n",
    "# Fuer Protonen\n",
    "print(\"Fuer Protonen\")\n",
    "# Anzahl noetiger Driftroehren: Liegt Beta bei ungefaehr 1, kann Laenge der\n",
    "# Roehren gleich bleiben\n",
    "Zaehler = 0\n",
    "n = 1 # Annahme, dass zuerst eine Beschleunigung durchgefuehrt wird\n",
    "beta = Beta(n, m[0]) # Startwert fuer Beta, nach Vorbeschl. u. erste Beschl.\n",
    "#print(beta)\n",
    "\n",
    "# Schleife laueft, bis Beta zum ersten mal knapp an 0,314 liegt (Geschw. bei 50MeV), \n",
    "# solange wird\n",
    "# mit dem n die Anzahl Beschleunigungsdrchgaenge gezaehlt und mit Zaehler\n",
    "# die Anzahl durchlaufener Driftroehren\n",
    "while beta < 0.314:\n",
    "    Zaehler = Zaehler + 1\n",
    "    n = n + 1\n",
    "    beta = Beta(n, m[0])\n",
    "    \n",
    "print(\"Anzahl Beschleunigungen:\", Zaehler)  \n",
    "\n",
    "# Laenge der Roehren kann ab Zaehler (nach w-Schleife) plus 1 konstant gehalten\n",
    "# werden, plus 1 ist die dann konstant haltbare Roehrenlaenge  \n",
    "    \n",
    "#print(LDrift(0.9))\n",
    " \n",
    "Rohr = 0\n",
    "n = 1\n",
    "\n",
    "# Driftroehrenlaengen berechnen und Addieren\n",
    "for i in range(Zaehler + 1):\n",
    "    DL = LDrift(Beta(n, m[0]))\n",
    "    Rohr = Rohr + DL\n",
    "    n = n + 1\n",
    "    #if i > 57120: print(i, DL, Rohr)\n",
    "    #elif i< 2: print(i, DL, Rohr)\n",
    " \n",
    "#print(Rohr)\n",
    "#print(DL)\n",
    "# Laenge des Beschleunigers bis Driftroehrenlaenge konstant sein kann, hier ist\n",
    "# die entsprechend oft durchlaufene Beschleunigungsstrecke einzurechnen\n",
    "print(\"Der Beschleuniger benoetigt eine Laenge von\", Rohr + Zaehler*0.075, \"m\")   \n",
    "  "
   ]
  },
  {
   "cell_type": "markdown",
   "metadata": {},
   "source": [
    "**Für den Vorbeschleuniger 1 wird folgende Konfiguration gewählt:**\n",
    "- RF: 200 MHz\n",
    "- Länge: 58,73m\n",
    "- Füllungen für den Hauptbeschleuniger: 8000\n",
    "- Beschleunigung: 90keV -> 50MeV (orientiert an CERN)"
   ]
  },
  {
   "cell_type": "code",
   "execution_count": null,
   "metadata": {},
   "outputs": [],
   "source": []
  }
 ],
 "metadata": {
  "kernelspec": {
   "display_name": "Python 3",
   "language": "python",
   "name": "python3"
  },
  "language_info": {
   "codemirror_mode": {
    "name": "ipython",
    "version": 3
   },
   "file_extension": ".py",
   "mimetype": "text/x-python",
   "name": "python",
   "nbconvert_exporter": "python",
   "pygments_lexer": "ipython3",
   "version": "3.7.8"
  }
 },
 "nbformat": 4,
 "nbformat_minor": 4
}
