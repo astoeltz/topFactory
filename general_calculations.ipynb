{
 "cells": [
  {
   "cell_type": "markdown",
   "metadata": {},
   "source": [
    "# Formelsammlung\n",
    "## Kenngroessen der Maschine\n",
    "* Maximalenergie $E_{max}$\n",
    "* Minimalenergie/Injektionsenergie $E_{min}$\n",
    "* Luminositaet $\\mathscr{L}$\n",
    "\n",
    "## Parameter der Maschine\n",
    "* max/min Flussdichte der Ablenkdipole $B_z$\n",
    "* Umfang des Rings (hier bereits gegeben)\n",
    "* Frequenz der Beschleunigungskavitaet $f_{rf}$\n",
    "* anzahl der teilchen in einem Bunch $N_b$\n",
    "* maximal zulaessige emmittanz $\\epsilon$\n",
    "* FODO-Zellenauslegung magnetische Struktur am interaktionspunkt.\n",
    "\n",
    "# Anforderungen an die Maschine\n",
    "* $10^6$ ttbar events in 75% eines Jahres\n",
    "* Strahlenergie von maximal 50 MJ\n",
    "* Stahlstrom von Maximal 1 A\n",
    "* Tunnellaenge von 6km\n",
    "\n",
    "Der Markannteste Parameter der Maschine ist wohl die Teilchenenergie. Die Teilchenenergie bestimmt den Wirkungsquerschnitt des Prozesses, und damit auch die notwendige Luminositaet der Maschine um die geforderte Eventrate zu erreichen. In unserem Fall gilt, je hoeher die Energie, desto groesser der Wirkungsquerschnitt des ttbar prozess. Mit steigender Energie steigt auch die abgestrahlte Synchrotronstrahlungsleistung, welche fuer einen wirtschaftlichen Betrieb der Maschine nicht zu gross werden sollte. Gleichzeitig sollte die Stahlungsleistung moeglichst klein gehalten werden, da bei steigender Strahlungsleistung die Kuehlung des Strahlrohrs zu einem Problem werden kann, gleichzeitig werden von der Synchrotronstrahlung elektronen aus der Strahlrohrwand ausgeschlagen die den Strahl destabilisieren koennen.\n",
    "\n",
    "Hier ist also die erste Abschaetzung notwendig, auf der einen seite sollte die Strahlenergie moeglichst klein gehalten werden um den Beschleuniger zuverlaessig und moeglichst guenstig betreiben zu koennen, jedoch muss gleichzeitig die Strahlenergie fuer einen grossen wirkungsquerschnitt moeglichst gross sein um die Anforderungen an die Luminositaet zu senken.\n",
    "\n",
    "Die Energie des Strahls ist durch die Flussdichte der Magneten limitiert. Der LHC setzt aktuell Magneten mit einer Feldstaerke von 8 Tesla ein, somit kann als erste naeherung Die Energie bei 6km umfang und 8T Dipolmagnetstaerke berechnet werden. Von da koennen dann die weiteren relevanten Parameter berechnet werden.\n",
    "\n",
    "Die Teilchenenergie kann mit folgender Formel berechnen:\n",
    "\n",
    "$\\frac{1}{\\rho [m]} = 0.2998 \\frac{B [T]}{p [GeV/c]}$\n",
    "\n",
    "wobei $B$ das Magnetfeld, $p$ der Teilchenimpuls und $\\rho$ der Radius des Rings ist. Umgestellt nach der Teilchenenergie ergibt dies:\n",
    "\n",
    "$p [GeV/c] = 0.2998 B [T] \\rho [m] $\n",
    "\n",
    "Mithilfe der Energie der Teilchen kann nun die Schwerpunktsenergie und daraus der Wirkungsquerschnitt berechnet werden. Bei der Berechnung der Strahlenergie muss darauf geachtet werden, dass nicht der ganze Ring mit Dipolen ausgekleidet sein kann, da sowohl Fokusierung, kuehlung und natuerlich auch das Experiment untergebracht werden koennen. Dementsprechend ist der 'effektive Umfang um den entsprechenden, nicht mit magneten ausgekleideten Teil der Strahlfuehrung vermindert. Es soll ein Fuellfaktor von ca $0.6$ angenommen werden. "
   ]
  },
  {
   "cell_type": "markdown",
   "metadata": {},
   "source": [
    "<img src=\"./figures/plot.jpg\" width=\"700\">"
   ]
  },
  {
   "cell_type": "code",
   "execution_count": 1,
   "metadata": {},
   "outputs": [],
   "source": [
    "import numpy as np\n",
    "from scipy.constants import e, c, pi"
   ]
  },
  {
   "cell_type": "code",
   "execution_count": 2,
   "metadata": {},
   "outputs": [
    {
     "data": {
      "text/plain": [
       "1534.503208110065"
      ]
     },
     "execution_count": 2,
     "metadata": {},
     "output_type": "execute_result"
    }
   ],
   "source": [
    "machine_length = 6000\n",
    "fillfaktor = 0.67\n",
    "approximate_bending_radius = machine_length * fillfaktor / (2 * 3.14159265)\n",
    "magnetic_flux = 8 # tesla\n",
    "def particle_energy(magnetic_flux):\n",
    "     return 0.2998 * magnetic_flux * approximate_bending_radius # particle energy in TeV\n",
    "particle_energy(magnetic_flux)"
   ]
  },
  {
   "cell_type": "markdown",
   "metadata": {},
   "source": [
    "Die Teilchenenergie ist allerdings nicht die Energie im Wechselwirkungspunkt, da hier zwei strahlen gleicher Energie aufeinander treffen."
   ]
  },
  {
   "cell_type": "code",
   "execution_count": 3,
   "metadata": {},
   "outputs": [],
   "source": [
    "def rest_frame_energy(magnetic_flux):\n",
    "    return 2 * particle_energy(magnetic_flux)"
   ]
  },
  {
   "cell_type": "code",
   "execution_count": 4,
   "metadata": {},
   "outputs": [
    {
     "data": {
      "text/plain": [
       "3069.00641622013"
      ]
     },
     "execution_count": 4,
     "metadata": {},
     "output_type": "execute_result"
    }
   ],
   "source": [
    "rest_frame_energy(8)"
   ]
  },
  {
   "cell_type": "code",
   "execution_count": 5,
   "metadata": {},
   "outputs": [
    {
     "data": {
      "text/plain": [
       "3452.632218247646"
      ]
     },
     "execution_count": 5,
     "metadata": {},
     "output_type": "execute_result"
    }
   ],
   "source": [
    "rest_frame_energy(9)"
   ]
  },
  {
   "cell_type": "code",
   "execution_count": 6,
   "metadata": {},
   "outputs": [
    {
     "data": {
      "text/plain": [
       "3836.258020275163"
      ]
     },
     "execution_count": 6,
     "metadata": {},
     "output_type": "execute_result"
    }
   ],
   "source": [
    "rest_frame_energy(10)"
   ]
  },
  {
   "cell_type": "code",
   "execution_count": 7,
   "metadata": {},
   "outputs": [
    {
     "data": {
      "text/plain": [
       "4219.883822302679"
      ]
     },
     "execution_count": 7,
     "metadata": {},
     "output_type": "execute_result"
    }
   ],
   "source": [
    "rest_frame_energy(11)"
   ]
  },
  {
   "cell_type": "code",
   "execution_count": 8,
   "metadata": {},
   "outputs": [
    {
     "data": {
      "text/plain": [
       "4603.509624330195"
      ]
     },
     "execution_count": 8,
     "metadata": {},
     "output_type": "execute_result"
    }
   ],
   "source": [
    "rest_frame_energy(12)"
   ]
  },
  {
   "cell_type": "markdown",
   "metadata": {},
   "source": [
    "Die Sollluminositaet kann nun mithilfe der benoetigten Eventrate und dem zu erwartenden Wirkungsquerschnitt berechnet werden.\n",
    "Die Formel fuer die Luminositaet ist:\n",
    "\n",
    "$\\mathscr{L}_{soll} = \\frac{1}{\\sigma} \\cdot \\frac{\\mathrm{d}N}{\\mathrm{d}t}$\n",
    "\n",
    "Die rate wird pro sekunde angegeben und betraegt:"
   ]
  },
  {
   "cell_type": "code",
   "execution_count": 9,
   "metadata": {},
   "outputs": [
    {
     "data": {
      "text/plain": [
       "0.043348592037730616"
      ]
     },
     "execution_count": 9,
     "metadata": {},
     "output_type": "execute_result"
    }
   ],
   "source": [
    "events_per_sec_min = 10**6 / (356*24*60*60*.75)\n",
    "events_per_sec_min"
   ]
  },
  {
   "cell_type": "markdown",
   "metadata": {},
   "source": [
    "Bei den betrachteten magnetischen Flussdichten sind die Wirkungsquerschnitte zwischen 8 pb und 35 pb fuer eine Proton-Proton maschine und 17pb und 50pb fuer eine Proton-Antiproton maschine.\n",
    "\n",
    "\n",
    "|$B_D$|$\\sqrt{s}$| $\\sigma_{pp}$ |$\\sigma_{p\\bar{p}}$|\n",
    "|---|---|:-:|:-:|\n",
    "|8 T | 2748 GeV | 8 pb | 17 pb|\n",
    "|9 T | 3091 GeV | 11 pb | 21 pb |\n",
    "|10 T | 3435 GeV | 20 pb | 28 pb |\n",
    "|11 T | 3779 GeV | 28 pb | 35 pb |\n",
    "|12 T | 4112 GeV | 35 pb | 50 pb |\n",
    "\n",
    "wobei $B_D$ die Flussdichte der ablenkungs-Dipole ist\n",
    "\n",
    "Im folgenden werden noch alle zahlen in SI einheiten umgerechnet."
   ]
  },
  {
   "cell_type": "code",
   "execution_count": 10,
   "metadata": {},
   "outputs": [
    {
     "data": {
      "text/plain": [
       "[(8, 3069.00641622013, 8e-40, 1.7e-39),\n",
       " (9, 3452.632218247646, 1.0999999999999998e-39, 2.1e-39),\n",
       " (10, 3836.258020275163, 2e-39, 2.7999999999999998e-39),\n",
       " (11, 4219.883822302679, 2.7999999999999998e-39, 3.5e-39),\n",
       " (12, 4603.509624330195, 3.5e-39, 5e-39)]"
      ]
     },
     "execution_count": 10,
     "metadata": {},
     "output_type": "execute_result"
    }
   ],
   "source": [
    "pp_crossections = [8, 11, 20, 28, 35]\n",
    "ppbar_crossections = [17, 21, 28, 35, 50]\n",
    "def pb_to_square_meters(pb):\n",
    "    return 10**-40 * pb\n",
    "\n",
    "def square_cm_to_square_meters(cm2):\n",
    "    return 10**-4 * cm2\n",
    "\n",
    "fluxes = [8, 9, 10, 11, 12]\n",
    "flux_dependent_crosssections = [(flux, rest_frame_energy(flux), pb_to_square_meters(pp), pb_to_square_meters(ppbar)) for flux, pp, ppbar in zip(fluxes, pp_crossections, ppbar_crossections)]\n",
    "flux_dependent_crosssections"
   ]
  },
  {
   "cell_type": "markdown",
   "metadata": {},
   "source": [
    "Bei den unterschiedlichen Energien kann nun die minimal notwendige (mittlere) Luminositaet berechnet werden."
   ]
  },
  {
   "cell_type": "code",
   "execution_count": 11,
   "metadata": {},
   "outputs": [
    {
     "data": {
      "text/plain": [
       "[(8, 5.4185740047163275e+37, 2.549917178690036e+37),\n",
       " (9, 3.9407810943391476e+37, 2.0642186684633627e+37),\n",
       " (10, 2.167429601886531e+37, 1.5481640013475223e+37),\n",
       " (11, 1.5481640013475223e+37, 1.2385312010780177e+37),\n",
       " (12, 1.2385312010780177e+37, 8.669718407546123e+36)]"
      ]
     },
     "execution_count": 11,
     "metadata": {},
     "output_type": "execute_result"
    }
   ],
   "source": [
    "def calc_needed_lumi(crosssection):\n",
    "    return 1 / crosssection * events_per_sec_min\n",
    "\n",
    "flux_dependent_min_lumi = [(c[0], calc_needed_lumi(c[2]), calc_needed_lumi(c[3])) for c in flux_dependent_crosssections]\n",
    "flux_dependent_min_lumi"
   ]
  },
  {
   "cell_type": "markdown",
   "metadata": {},
   "source": [
    "## Berechnung der ist-Luminositaet\n",
    "Die ist-Luminositaet kann mithilfe folgender Formel berechnet werden.\n",
    "    \n",
    "$\\mathscr{L}=\\frac{N_1 N_2 f_{rev} n_b}{4 \\pi {\\sigma_u}^2}=\\frac{I^2}{e^2 n_b f_{rev}4 \\pi {\\sigma_u}^2}$"
   ]
  },
  {
   "cell_type": "markdown",
   "metadata": {},
   "source": [
    "wird ein Strahlstrom von 1A und eine Standardabweichung am interaktionspunkt von $\\sigma_p$ angenommen, so kann eine erste abschaetzung fuer die Luminositaet gemacht werden.\n",
    "\n",
    "Um komplikationen zu vermeiden wird des weiteren ein einziger bunch angenommen, welcher sich mit Lichtgeschwindigkeit durch die Maschine bewegt. Es muss also die Teilchenzahl in abhaengigkeit des Strahlstroms ausgerechnet werden."
   ]
  },
  {
   "cell_type": "code",
   "execution_count": 12,
   "metadata": {},
   "outputs": [
    {
     "name": "stdout",
     "output_type": "stream",
     "text": [
      "49965.40966666667\n",
      "particles per beam:1249.165996256136 x 10^11\n"
     ]
    }
   ],
   "source": [
    "# die umlauffrequenz\n",
    "frev = c/machine_length\n",
    "print(frev)\n",
    "def particles_from_beam_current(I, frev):\n",
    "    return I/(e*frev)\n",
    "print(\"particles per beam:{} x 10^11\".format(particles_from_beam_current(1, frev)/10**11))"
   ]
  },
  {
   "cell_type": "code",
   "execution_count": 13,
   "metadata": {},
   "outputs": [
    {
     "data": {
      "text/plain": [
       "2.481760610253364e+40"
      ]
     },
     "execution_count": 13,
     "metadata": {},
     "output_type": "execute_result"
    }
   ],
   "source": [
    "sigma_p = 50e-6\n",
    "I = 1\n",
    "# in this scenario we approximate the beam to only consist of one bunch\n",
    "nb = 1\n",
    "def actual_luminosity(sigma, N, frev, nb):\n",
    "    return N**2*frev*nb/(4*pi*sigma**2)\n",
    "\n",
    "def actual_luminosity_from_current(sigma, I, frev, nb):\n",
    "    return I**2/(e**2*nb*frev*4*pi*sigma**2)\n",
    "\n",
    "# so as an estimate we get\n",
    "machine_lumi = actual_luminosity(sigma_p, particles_from_beam_current(I, frev), frev, nb)\n",
    "machine_lumi"
   ]
  },
  {
   "cell_type": "code",
   "execution_count": 14,
   "metadata": {},
   "outputs": [
    {
     "data": {
      "text/plain": [
       "2.4817606102533647e+40"
      ]
     },
     "execution_count": 14,
     "metadata": {},
     "output_type": "execute_result"
    }
   ],
   "source": [
    "actual_luminosity_from_current(sigma_p, I, frev, 1)"
   ]
  },
  {
   "cell_type": "markdown",
   "metadata": {},
   "source": [
    "Wie an folgender Tabelle gesehen werden kann, ist diese Luminositaet ziemlich hoch im Vergleich zu existierenden Beschleunigern. Dies ist wahrscheinlich aufgrund des hohen Strahlstroms der Fall. Im Folgenden sollen also realistische Werte fuer die Anzahl an Teilchen und Anzahl an \"Bunsches\" gemacht werden."
   ]
  },
  {
   "cell_type": "markdown",
   "metadata": {},
   "source": [
    "<img src=\"./figures/luminosity_comparison.jpg\" width=\"300\">"
   ]
  },
  {
   "cell_type": "markdown",
   "metadata": {},
   "source": [
    "Laut Vorlesung sind pro Bunch $10^{11}$ Teilchen eine Erreichbare Groesse. Ebenfalls wird fuer die Frequenz der Beschleunigungsspannung $400$ MHz angenommen. Diese Annahmen fuehren zu folgenden Berechnungen"
   ]
  },
  {
   "cell_type": "code",
   "execution_count": 15,
   "metadata": {},
   "outputs": [
    {
     "data": {
      "text/plain": [
       "8005.538284755649"
      ]
     },
     "execution_count": 15,
     "metadata": {},
     "output_type": "execute_result"
    }
   ],
   "source": [
    "fhf = 400000000\n",
    "bunches = fhf/frev\n",
    "bunches"
   ]
  },
  {
   "cell_type": "markdown",
   "metadata": {},
   "source": [
    "Die Ereignisrate kann dann mithilfe der Luminositaet wie folgt berechnet werden:\n",
    "\n",
    "$\\dot{N_p}=\\mathscr{L} \\sigma_p$"
   ]
  },
  {
   "cell_type": "code",
   "execution_count": 16,
   "metadata": {},
   "outputs": [
    {
     "ename": "NameError",
     "evalue": "name 'L' is not defined",
     "output_type": "error",
     "traceback": [
      "\u001b[0;31m---------------------------------------------------------------------------\u001b[0m",
      "\u001b[0;31mNameError\u001b[0m                                 Traceback (most recent call last)",
      "\u001b[0;32m<ipython-input-16-082ae30e82d6>\u001b[0m in \u001b[0;36m<module>\u001b[0;34m\u001b[0m\n\u001b[0;32m----> 1\u001b[0;31m \u001b[0mL\u001b[0m\u001b[0;34m*\u001b[0m\u001b[0;36m1.e-4\u001b[0m \u001b[0;31m# in cm^-2*s^-1\u001b[0m\u001b[0;34m\u001b[0m\u001b[0;34m\u001b[0m\u001b[0m\n\u001b[0m",
      "\u001b[0;31mNameError\u001b[0m: name 'L' is not defined"
     ]
    }
   ],
   "source": [
    "L*1.e-4 # in cm^-2*s^-1"
   ]
  },
  {
   "cell_type": "code",
   "execution_count": null,
   "metadata": {},
   "outputs": [],
   "source": [
    "L"
   ]
  },
  {
   "cell_type": "markdown",
   "metadata": {},
   "source": [
    "Untere Grenze der instantanen Luminosität"
   ]
  },
  {
   "cell_type": "code",
   "execution_count": null,
   "metadata": {},
   "outputs": [],
   "source": [
    "# Umlauffrequenz\n",
    "f_rev=c/(l*1e3)"
   ]
  },
  {
   "cell_type": "code",
   "execution_count": null,
   "metadata": {},
   "outputs": [],
   "source": [
    "f_rev/1.e3"
   ]
  },
  {
   "cell_type": "markdown",
   "metadata": {},
   "source": [
    "Umlauffrequenz $f_{rev}\\approx 50\\,\\text{kHz}$"
   ]
  },
  {
   "cell_type": "markdown",
   "metadata": {},
   "source": [
    "Maximaler Strahlstrom $I=e N f_{\\text{rev}}=1\\,\\text{A}$"
   ]
  },
  {
   "cell_type": "code",
   "execution_count": null,
   "metadata": {},
   "outputs": [],
   "source": [
    "# Strahlstrom in A\n",
    "current=1"
   ]
  },
  {
   "cell_type": "code",
   "execution_count": null,
   "metadata": {},
   "outputs": [],
   "source": [
    "# Teilchenzahl pro Strahl\n",
    "N=current/(e*f_rev)"
   ]
  },
  {
   "cell_type": "code",
   "execution_count": null,
   "metadata": {},
   "outputs": [],
   "source": [
    "N/1.E12"
   ]
  },
  {
   "cell_type": "markdown",
   "metadata": {},
   "source": [
    "$\\dot{N_p}=(N^2 f_{\\text{rev}}/A) \\sigma_p=\\mathscr{L} \\sigma_p$"
   ]
  },
  {
   "cell_type": "code",
   "execution_count": null,
   "metadata": {},
   "outputs": [],
   "source": [
    "# Querschnittsfläche der Bunches im Kollisionspunkt\n",
    "A=(N**2)*f_rev/L"
   ]
  },
  {
   "cell_type": "code",
   "execution_count": null,
   "metadata": {},
   "outputs": [],
   "source": [
    "A # in m^2"
   ]
  },
  {
   "cell_type": "code",
   "execution_count": null,
   "metadata": {},
   "outputs": [],
   "source": [
    "stored_energy=energy*1.E12*e*N"
   ]
  },
  {
   "cell_type": "code",
   "execution_count": null,
   "metadata": {},
   "outputs": [],
   "source": [
    "stored_energy/1.E6 # in MJ"
   ]
  },
  {
   "cell_type": "markdown",
   "metadata": {},
   "source": [
    "# Fragen\n",
    "- sinnvoller Strahlquerschnitt im Interactionspunkt\n",
    "- Events, Kollisionen?"
   ]
  },
  {
   "cell_type": "markdown",
   "metadata": {},
   "source": [
    "$\\rightarrow$ RF-Frequenz $400\\,\\text{MHz}$"
   ]
  },
  {
   "cell_type": "code",
   "execution_count": null,
   "metadata": {},
   "outputs": [],
   "source": [
    "f_rf=400.E6"
   ]
  },
  {
   "cell_type": "code",
   "execution_count": null,
   "metadata": {},
   "outputs": [],
   "source": [
    "f_rf"
   ]
  },
  {
   "cell_type": "markdown",
   "metadata": {},
   "source": [
    "Bunchanzahl $n_b$"
   ]
  },
  {
   "cell_type": "code",
   "execution_count": null,
   "metadata": {},
   "outputs": [],
   "source": [
    "n_b=f_rf/f_rev"
   ]
  },
  {
   "cell_type": "code",
   "execution_count": null,
   "metadata": {},
   "outputs": [],
   "source": [
    "n_b"
   ]
  },
  {
   "cell_type": "code",
   "execution_count": null,
   "metadata": {},
   "outputs": [],
   "source": [
    "# Teilchen pro Bunch in 10^11\n",
    "N/n_b/1.E11"
   ]
  },
  {
   "cell_type": "code",
   "execution_count": null,
   "metadata": {},
   "outputs": [],
   "source": [
    "rho1=10/2.998*1*energy*1.e3/B"
   ]
  },
  {
   "cell_type": "code",
   "execution_count": null,
   "metadata": {},
   "outputs": [],
   "source": [
    "rho1"
   ]
  },
  {
   "cell_type": "code",
   "execution_count": null,
   "metadata": {},
   "outputs": [],
   "source": [
    "# arc length lm in meter\n",
    "lm=l*1e3*0.67\n",
    "# bending radius rho in meter\n",
    "rho=lm/(2*np.pi)"
   ]
  },
  {
   "cell_type": "code",
   "execution_count": null,
   "metadata": {},
   "outputs": [],
   "source": [
    "rho"
   ]
  },
  {
   "cell_type": "code",
   "execution_count": null,
   "metadata": {},
   "outputs": [],
   "source": [
    "# beam rigidity in Tesla meter\n",
    "B*rho"
   ]
  }
 ],
 "metadata": {
  "kernelspec": {
   "display_name": "Python 3",
   "language": "python",
   "name": "python3"
  },
  "language_info": {
   "codemirror_mode": {
    "name": "ipython",
    "version": 3
   },
   "file_extension": ".py",
   "mimetype": "text/x-python",
   "name": "python",
   "nbconvert_exporter": "python",
   "pygments_lexer": "ipython3",
   "version": "3.7.8"
  }
 },
 "nbformat": 4,
 "nbformat_minor": 4
}
