{
 "cells": [
  {
   "cell_type": "markdown",
   "metadata": {},
   "source": [
    "# Formelsammlung\n",
    "## Kenngroessen der Maschine\n",
    "* Maximalenergie $E_{max}$\n",
    "* Minimalenergie/Injektionsenergie $E_{min}$\n",
    "* Luminositaet $\\mathscr{L}$\n",
    "\n",
    "## Parameter der Maschine\n",
    "* max/min Flussdichte der Ablenkdipole $B_z$\n",
    "* Umfang des Rings (hier bereits gegeben)\n",
    "* Frequenz der Beschleunigungskavitaet $f_{rf}$\n",
    "* anzahl der teilchen in einem Bunch $N_b$\n",
    "* maximal zulaessige emmittanz $\\epsilon$\n",
    "* FODO-Zellenauslegung magnetische Struktur am interaktionspunkt.\n",
    "\n",
    "# Anforderungen an die Maschine\n",
    "* $10^6$ ttbar events in 75% eines Jahres\n",
    "* Strahlenergie von maximal 50 MJ\n",
    "* Stahlstrom von Maximal 1 A\n",
    "* Tunnellaenge von 6km\n",
    "\n",
    "Der Markannteste Parameter der Maschine ist wohl die Teilchenenergie. Die Teilchenenergie bestimmt den Wirkungsquerschnitt des Prozesses, und damit auch die notwendige Luminositaet der Maschine um die geforderte Eventrate zu erreichen. In unserem Fall gilt, je hoeher die Energie, desto groesser der Wirkungsquerschnitt des ttbar prozess. Mit steigender Energie steigt auch die abgestrahlte Synchrotronstrahlungsleistung, welche fuer einen wirtschaftlichen Betrieb der Maschine nicht zu gross werden sollte. Gleichzeitig sollte die Stahlungsleistung moeglichst klein gehalten werden, da bei steigender Strahlungsleistung die Kuehlung des Strahlrohrs zu einem Problem werden kann, gleichzeitig werden von der Synchrotronstrahlung elektronen aus der Strahlrohrwand ausgeschlagen die den Strahl destabilisieren koennen.\n",
    "\n",
    "Hier ist also die erste Abschaetzung notwendig, auf der einen seite sollte die Strahlenergie moeglichst klein gehalten werden um den Beschleuniger zuverlaessig und moeglichst guenstig betreiben zu koennen, jedoch muss gleichzeitig die Strahlenergie fuer einen grossen wirkungsquerschnitt moeglichst gross sein um die Anforderungen an die Luminositaet zu senken.\n",
    "\n",
    "Die Energie des Strahls ist durch die Flussdichte der Magneten limitiert. Der LHC setzt aktuell Magneten mit einer Feldstaerke von 8 Tesla ein, somit kann als erste naeherung Die Energie bei 6km umfang und 8T Dipolmagnetstaerke berechnet werden. Von da koennen dann die weiteren relevanten Parameter berechnet werden.\n",
    "\n",
    "Die Teilchenenergie kann mit folgender Formel berechnen:\n",
    "\n",
    "$\\frac{1}{\\rho [m]} = 0.2998 \\frac{B [T]}{p [GeV/c]}$\n",
    "\n",
    "wobei $B$ das Magnetfeld, $p$ der Teilchenimpuls und $\\rho$ der Radius des Rings ist. Umgestellt nach der Teilchenenergie ergibt dies:\n",
    "\n",
    "$p [GeV/c] = 0.2998 B [T] \\rho [m] $\n",
    "\n",
    "Mithilfe der Energie der Teilchen kann nun die Schwerpunktsenergie und daraus der Wirkungsquerschnitt berechnet werden. Bei der Berechnung der Strahlenergie muss darauf geachtet werden, dass nicht der ganze Ring mit Dipolen ausgekleidet sein kann, da sowohl Fokusierung, kuehlung und natuerlich auch das Experiment untergebracht werden koennen. Dementsprechend ist der 'effektive Umfang um den entsprechenden, nicht mit magneten ausgekleideten Teil der Strahlfuehrung vermindert. Es soll ein Fuellfaktor von ca $0.6$ angenommen werden. "
   ]
  },
  {
   "cell_type": "markdown",
   "metadata": {},
   "source": [
    "<img src=\"./figures/plot.jpg\" width=\"700\">"
   ]
  },
  {
   "cell_type": "code",
   "execution_count": 1,
   "metadata": {},
   "outputs": [
    {
     "data": {
      "text/plain": [
       "1374.1819774119983"
      ]
     },
     "execution_count": 1,
     "metadata": {},
     "output_type": "execute_result"
    }
   ],
   "source": [
    "fillfaktor = 0.6\n",
    "approximate_bending_radius = 6000 * fillfaktor / (2 * 3.14159265)\n",
    "magnetic_flux = 8 # tesla\n",
    "def particle_energy(magnetic_flux):\n",
    "     return 0.2998 * magnetic_flux * approximate_bending_radius # particle energy in TeV\n",
    "particle_energy(magnetic_flux)"
   ]
  },
  {
   "cell_type": "markdown",
   "metadata": {},
   "source": [
    "Die Teilchenenergie ist allerdings nicht die Energie im Wechselwirkungspunkt, da hier zwei strahlen gleicher Energie aufeinander treffen."
   ]
  },
  {
   "cell_type": "code",
   "execution_count": 2,
   "metadata": {},
   "outputs": [],
   "source": [
    "def rest_frame_energy(magnetic_flux):\n",
    "    return 2 * particle_energy(magnetic_flux)"
   ]
  },
  {
   "cell_type": "code",
   "execution_count": 3,
   "metadata": {},
   "outputs": [
    {
     "data": {
      "text/plain": [
       "2748.3639548239967"
      ]
     },
     "execution_count": 3,
     "metadata": {},
     "output_type": "execute_result"
    }
   ],
   "source": [
    "rest_frame_energy(8)"
   ]
  },
  {
   "cell_type": "code",
   "execution_count": 4,
   "metadata": {},
   "outputs": [
    {
     "data": {
      "text/plain": [
       "3091.909449176996"
      ]
     },
     "execution_count": 4,
     "metadata": {},
     "output_type": "execute_result"
    }
   ],
   "source": [
    "rest_frame_energy(9)"
   ]
  },
  {
   "cell_type": "code",
   "execution_count": 5,
   "metadata": {},
   "outputs": [
    {
     "data": {
      "text/plain": [
       "3435.454943529996"
      ]
     },
     "execution_count": 5,
     "metadata": {},
     "output_type": "execute_result"
    }
   ],
   "source": [
    "rest_frame_energy(10)"
   ]
  },
  {
   "cell_type": "code",
   "execution_count": 6,
   "metadata": {},
   "outputs": [
    {
     "data": {
      "text/plain": [
       "3779.0004378829954"
      ]
     },
     "execution_count": 6,
     "metadata": {},
     "output_type": "execute_result"
    }
   ],
   "source": [
    "rest_frame_energy(11)"
   ]
  },
  {
   "cell_type": "code",
   "execution_count": 7,
   "metadata": {},
   "outputs": [
    {
     "data": {
      "text/plain": [
       "4122.545932235995"
      ]
     },
     "execution_count": 7,
     "metadata": {},
     "output_type": "execute_result"
    }
   ],
   "source": [
    "rest_frame_energy(12)"
   ]
  },
  {
   "cell_type": "markdown",
   "metadata": {},
   "source": [
    "Die Sollluminositaet kann nun mithilfe der benoetigten Eventrate und dem zu erwartenden Wirkungsquerschnitt berechnet werden.\n",
    "Die Formel fuer die Luminositaet ist:\n",
    "\n",
    "$\\mathscr{L}_{soll} = \\frac{1}{\\sigma} \\cdot \\frac{\\mathrm{d}N}{\\mathrm{d}t}$\n",
    "\n",
    "Die rate wird pro sekunde angegeben und betraegt:"
   ]
  },
  {
   "cell_type": "code",
   "execution_count": 8,
   "metadata": {},
   "outputs": [
    {
     "data": {
      "text/plain": [
       "0.043348592037730616"
      ]
     },
     "execution_count": 8,
     "metadata": {},
     "output_type": "execute_result"
    }
   ],
   "source": [
    "events_per_sec_min = 10**6 / (356*24*60*60*.75)\n",
    "events_per_sec_min"
   ]
  },
  {
   "cell_type": "markdown",
   "metadata": {},
   "source": [
    "Bei den betrachteten magnetischen Flussdichten sind die Wirkungsquerschnitte zwischen 8 pb und 35 pb fuer eine Proton-Proton maschine und 17pb und 50pb fuer eine Proton-Antiproton maschine.\n",
    "\n",
    "\n",
    "|$B_D$|$\\sqrt{s}$| $\\sigma_{pp}$ |$\\sigma_{p\\bar{p}}$|\n",
    "|---|---|:-:|:-:|\n",
    "|8 T | 2748 GeV | 8 pb | 17 pb|\n",
    "|9 T | 3091 GeV | 11 pb | 21 pb |\n",
    "|10 T | 3435 GeV | 20 pb | 28 pb |\n",
    "|11 T | 3779 GeV | 28 pb | 35 pb |\n",
    "|12 T | 4112 GeV | 35 pb | 50 pb |\n",
    "\n",
    "wobei $B_D$ die Flussdichte der ablenkungs-Dipole ist\n",
    "\n",
    "Im folgenden werden noch alle zahlen in SI einheiten umgerechnet."
   ]
  },
  {
   "cell_type": "code",
   "execution_count": 9,
   "metadata": {},
   "outputs": [
    {
     "data": {
      "text/plain": [
       "[(8, 2748.3639548239967, 8e-40, 1.7e-39),\n",
       " (9, 3091.909449176996, 1.0999999999999998e-39, 2.1e-39),\n",
       " (10, 3435.454943529996, 2e-39, 2.7999999999999998e-39),\n",
       " (11, 3779.0004378829954, 2.7999999999999998e-39, 3.5e-39),\n",
       " (12, 4122.545932235995, 3.5e-39, 5e-39)]"
      ]
     },
     "execution_count": 9,
     "metadata": {},
     "output_type": "execute_result"
    }
   ],
   "source": [
    "pp_crossections = [8, 11, 20, 28, 35]\n",
    "ppbar_crossections = [17, 21, 28, 35, 50]\n",
    "def pb_to_square_meters(pb):\n",
    "    return 10**-40 * pb\n",
    "\n",
    "def square_cm_to_square_meters(cm2):\n",
    "    return 10**-4 * cm2\n",
    "\n",
    "fluxes = [8, 9, 10, 11, 12]\n",
    "flux_dependent_crosssections = [(flux, rest_frame_energy(flux), pb_to_square_meters(pp), pb_to_square_meters(ppbar)) for flux, pp, ppbar in zip(fluxes, pp_crossections, ppbar_crossections)]\n",
    "flux_dependent_crosssections"
   ]
  },
  {
   "cell_type": "markdown",
   "metadata": {},
   "source": [
    "Bei den unterschiedlichen Energien kann nun die minimal notwendige (mittlere) Luminositaet berechnet werden."
   ]
  },
  {
   "cell_type": "code",
   "execution_count": 10,
   "metadata": {},
   "outputs": [
    {
     "data": {
      "text/plain": [
       "[(8, 5.4185740047163275e+37, 2.549917178690036e+37),\n",
       " (9, 3.9407810943391476e+37, 2.0642186684633627e+37),\n",
       " (10, 2.167429601886531e+37, 1.5481640013475223e+37),\n",
       " (11, 1.5481640013475223e+37, 1.2385312010780177e+37),\n",
       " (12, 1.2385312010780177e+37, 8.669718407546123e+36)]"
      ]
     },
     "execution_count": 10,
     "metadata": {},
     "output_type": "execute_result"
    }
   ],
   "source": [
    "def calc_needed_lumi(crosssection):\n",
    "    return 1 / crosssection * events_per_sec_min\n",
    "\n",
    "flux_dependent_min_lumi = [(c[0], calc_needed_lumi(c[2]), calc_needed_lumi(c[3])) for c in flux_dependent_crosssections]\n",
    "flux_dependent_min_lumi"
   ]
  },
  {
   "cell_type": "markdown",
   "metadata": {},
   "source": [
    "Da die Luminositaet von de\n",
    "$N^2 \\sigma_p /A$ mit $A$ der Strahlquerschnittsfläche\n",
    "\n",
    "Luminosität:\n",
    "\n",
    "$ \\mathscr{L}=\\frac{I_+ I_-}{4\\pi e^2 f_{\\text{fev}} n_b \\sigma_x \\sigma_y} = \\frac{N_1 N_2 f_{\\text{rev}}}{n_b A}=\\dot{N_p}\\frac{1}{\\sigma_p}$\n",
    "\n",
    "mit:\n",
    "- $n_b$ der Anzahl der Bunche im Strahl\n",
    "- $N_1, N_2$ der Teilchen in Bunch 1 und 2\n",
    "- $\\sigma_{x,y}$ der Stahlgröße am Wechselwirkungspunkt\n",
    "- $N$ der Gesamtteilchenzahl in einem Strahl\n",
    "- $I=e N f_{\\text{rev}}$ dem Strahlstrom\n",
    "- $A=4\\pi\\sigma_x\\sigma_y$ bei Gaußverteilten Paketen\n",
    "\n",
    "Ereignisrate:\n",
    "\n",
    "$\\dot{N_p}=(N^2 f_{\\text{rev}}/A) \\sigma_p=\\mathscr{L} \\sigma_p$"
   ]
  },
  {
   "cell_type": "markdown",
   "metadata": {},
   "source": [
    "Rahmenbedingungen:\n",
    "- mindestens $10^6$ Events pro Jahr bei 75\\% Verfügbarkeit der Maschine $\\rightarrow$ 0.042279722645019446 Paare pro Sekunde\n",
    "- Pro Kollision nicht mehr als 5 $t\\bar{t}$-Paare \n",
    "- Im Strahl gespeicherte Energie $\\leq 50\\,$MJ $\\rightarrow$ Energie im Strahl $=N\\cdot \\frac{\\sqrt{s}}{2}$ oder?!\n",
    "- Strahlstrom $I\\leq1\\,\\text{A}$\n",
    "- Umfang 6km"
   ]
  },
  {
   "cell_type": "code",
   "execution_count": 11,
   "metadata": {},
   "outputs": [],
   "source": [
    "import numpy as np\n",
    "from scipy import constants "
   ]
  },
  {
   "cell_type": "code",
   "execution_count": 12,
   "metadata": {},
   "outputs": [
    {
     "data": {
      "text/plain": [
       "1.602176634e-19"
      ]
     },
     "execution_count": 12,
     "metadata": {},
     "output_type": "execute_result"
    }
   ],
   "source": [
    "c=constants.c\n",
    "e=constants.e\n",
    "e"
   ]
  },
  {
   "cell_type": "code",
   "execution_count": 13,
   "metadata": {},
   "outputs": [],
   "source": [
    "# Länge des Beschleunigers in km\n",
    "l=6\n",
    "# Radius in m\n",
    "r=l*1.E3/(2*np.pi)\n",
    "# Magnetstärke in Tesla\n",
    "B=8\n",
    "# Dipolfüllfaktor\n",
    "a=0.67\n",
    "# Ablenkradius im Dipol\n",
    "r_bending=r*a"
   ]
  },
  {
   "cell_type": "code",
   "execution_count": 14,
   "metadata": {},
   "outputs": [],
   "source": [
    "# Energy in TeV\n",
    "energy=r_bending*c*B*1.E-12\n",
    "E_cm=2*energy"
   ]
  },
  {
   "cell_type": "code",
   "execution_count": 15,
   "metadata": {},
   "outputs": [
    {
     "data": {
      "text/plain": [
       "3.0689292064212017"
      ]
     },
     "execution_count": 15,
     "metadata": {},
     "output_type": "execute_result"
    }
   ],
   "source": [
    "E_cm"
   ]
  },
  {
   "cell_type": "markdown",
   "metadata": {},
   "source": [
    "Lese Wirkungsquerschnitt aus Diagramm ab: $\\sigma\\sim 20\\,$pb\n",
    "\n"
   ]
  },
  {
   "cell_type": "code",
   "execution_count": 16,
   "metadata": {},
   "outputs": [],
   "source": [
    "sigma_ttbar=10"
   ]
  },
  {
   "cell_type": "code",
   "execution_count": 17,
   "metadata": {},
   "outputs": [],
   "source": [
    "# Events pro Sekunde\n",
    "events_per_s=1e6/(0.75*365*24*60*60)\n",
    "events_per_bunchcrossing=5"
   ]
  },
  {
   "cell_type": "markdown",
   "metadata": {},
   "source": [
    "5 Paare pro Bunchcrossing,  0.042279722645019446 Paare pro Sekunde"
   ]
  },
  {
   "cell_type": "markdown",
   "metadata": {},
   "source": [
    "Luminosität $\\mathscr{L}=\\dot{N} \\cdot \\frac{1}{\\sigma}$"
   ]
  },
  {
   "cell_type": "code",
   "execution_count": 18,
   "metadata": {},
   "outputs": [],
   "source": [
    "# Luminosität in m^-2*s^-1\n",
    "L=events_per_s/(sigma_ttbar*1E-40) "
   ]
  },
  {
   "cell_type": "code",
   "execution_count": 19,
   "metadata": {},
   "outputs": [
    {
     "data": {
      "text/plain": [
       "4.2279722645019453e+33"
      ]
     },
     "execution_count": 19,
     "metadata": {},
     "output_type": "execute_result"
    }
   ],
   "source": [
    "L*1.e-4 # in cm^-2*s^-1"
   ]
  },
  {
   "cell_type": "code",
   "execution_count": 20,
   "metadata": {},
   "outputs": [
    {
     "data": {
      "text/plain": [
       "4.227972264501945e+37"
      ]
     },
     "execution_count": 20,
     "metadata": {},
     "output_type": "execute_result"
    }
   ],
   "source": [
    "L"
   ]
  },
  {
   "cell_type": "markdown",
   "metadata": {},
   "source": [
    "Untere Grenze der instantanen Luminosität"
   ]
  },
  {
   "cell_type": "markdown",
   "metadata": {},
   "source": [
    "<img src=\"./figures/luminosity_comparison.jpg\" width=\"300\">"
   ]
  },
  {
   "cell_type": "code",
   "execution_count": 21,
   "metadata": {},
   "outputs": [],
   "source": [
    "# Umlauffrequenz\n",
    "f_rev=c/(l*1e3)"
   ]
  },
  {
   "cell_type": "code",
   "execution_count": 22,
   "metadata": {},
   "outputs": [
    {
     "data": {
      "text/plain": [
       "49.965409666666666"
      ]
     },
     "execution_count": 22,
     "metadata": {},
     "output_type": "execute_result"
    }
   ],
   "source": [
    "f_rev/1.e3"
   ]
  },
  {
   "cell_type": "markdown",
   "metadata": {},
   "source": [
    "Umlauffrequenz $f_{rev}\\approx 50\\,\\text{kHz}$"
   ]
  },
  {
   "cell_type": "markdown",
   "metadata": {},
   "source": [
    "Maximaler Strahlstrom $I=e N f_{\\text{rev}}=1\\,\\text{A}$"
   ]
  },
  {
   "cell_type": "code",
   "execution_count": 23,
   "metadata": {},
   "outputs": [],
   "source": [
    "# Strahlstrom in A\n",
    "current=1"
   ]
  },
  {
   "cell_type": "code",
   "execution_count": 24,
   "metadata": {},
   "outputs": [],
   "source": [
    "# Teilchenzahl pro Strahl\n",
    "N=current/(e*f_rev)"
   ]
  },
  {
   "cell_type": "code",
   "execution_count": 25,
   "metadata": {},
   "outputs": [
    {
     "data": {
      "text/plain": [
       "124.9165996256136"
      ]
     },
     "execution_count": 25,
     "metadata": {},
     "output_type": "execute_result"
    }
   ],
   "source": [
    "N/1.E12"
   ]
  },
  {
   "cell_type": "markdown",
   "metadata": {},
   "source": [
    "$\\dot{N_p}=(N^2 f_{\\text{rev}}/A) \\sigma_p=\\mathscr{L} \\sigma_p$"
   ]
  },
  {
   "cell_type": "code",
   "execution_count": 26,
   "metadata": {},
   "outputs": [],
   "source": [
    "# Querschnittsfläche der Bunches im Kollisionspunkt\n",
    "A=(N**2)*f_rev/L"
   ]
  },
  {
   "cell_type": "code",
   "execution_count": 27,
   "metadata": {},
   "outputs": [
    {
     "data": {
      "text/plain": [
       "1.844070966737749e-05"
      ]
     },
     "execution_count": 27,
     "metadata": {},
     "output_type": "execute_result"
    }
   ],
   "source": [
    "A # in m^2"
   ]
  },
  {
   "cell_type": "code",
   "execution_count": 28,
   "metadata": {},
   "outputs": [],
   "source": [
    "stored_energy=energy*1.E12*e*N"
   ]
  },
  {
   "cell_type": "code",
   "execution_count": 29,
   "metadata": {},
   "outputs": [
    {
     "data": {
      "text/plain": [
       "30.710537819012128"
      ]
     },
     "execution_count": 29,
     "metadata": {},
     "output_type": "execute_result"
    }
   ],
   "source": [
    "stored_energy/1.E6 # in MJ"
   ]
  },
  {
   "cell_type": "markdown",
   "metadata": {},
   "source": [
    "# Fragen\n",
    "- sinnvoller Strahlquerschnitt im Interactionspunkt\n",
    "- Events, Kollisionen?"
   ]
  },
  {
   "cell_type": "markdown",
   "metadata": {},
   "source": [
    "$\\rightarrow$ RF-Frequenz $400\\,\\text{MHz}$"
   ]
  },
  {
   "cell_type": "code",
   "execution_count": 30,
   "metadata": {},
   "outputs": [],
   "source": [
    "f_rf=400.E6"
   ]
  },
  {
   "cell_type": "code",
   "execution_count": 31,
   "metadata": {},
   "outputs": [
    {
     "data": {
      "text/plain": [
       "400000000.0"
      ]
     },
     "execution_count": 31,
     "metadata": {},
     "output_type": "execute_result"
    }
   ],
   "source": [
    "f_rf"
   ]
  },
  {
   "cell_type": "markdown",
   "metadata": {},
   "source": [
    "Bunchanzahl $n_b$"
   ]
  },
  {
   "cell_type": "code",
   "execution_count": 32,
   "metadata": {},
   "outputs": [],
   "source": [
    "n_b=f_rf/f_rev"
   ]
  },
  {
   "cell_type": "code",
   "execution_count": 33,
   "metadata": {},
   "outputs": [
    {
     "data": {
      "text/plain": [
       "8005.538284755649"
      ]
     },
     "execution_count": 33,
     "metadata": {},
     "output_type": "execute_result"
    }
   ],
   "source": [
    "n_b"
   ]
  },
  {
   "cell_type": "code",
   "execution_count": 34,
   "metadata": {},
   "outputs": [
    {
     "data": {
      "text/plain": [
       "0.15603772686151907"
      ]
     },
     "execution_count": 34,
     "metadata": {},
     "output_type": "execute_result"
    }
   ],
   "source": [
    "# Teilchen pro Bunch in 10^11\n",
    "N/n_b/1.E11"
   ]
  },
  {
   "cell_type": "markdown",
   "metadata": {},
   "source": [
    "# Magnetstruktur\n",
    "\n",
    "- maximale Transportlänge 14 Meter"
   ]
  },
  {
   "cell_type": "markdown",
   "metadata": {},
   "source": [
    "# Antiproton-Erzeugung\n",
    "Rate der Erzeugung, wie lange dauert es, den Ring zu füllen"
   ]
  },
  {
   "cell_type": "code",
   "execution_count": 35,
   "metadata": {},
   "outputs": [],
   "source": [
    "rho1=10/2.998*1*energy*1.e3/B"
   ]
  },
  {
   "cell_type": "code",
   "execution_count": 36,
   "metadata": {},
   "outputs": [
    {
     "data": {
      "text/plain": [
       "639.786775854987"
      ]
     },
     "execution_count": 36,
     "metadata": {},
     "output_type": "execute_result"
    }
   ],
   "source": [
    "rho1"
   ]
  },
  {
   "cell_type": "code",
   "execution_count": 37,
   "metadata": {},
   "outputs": [],
   "source": [
    "# arc length lm in meter\n",
    "lm=l*1e3*0.67\n",
    "# bending radius rho in meter\n",
    "rho=lm/(2*np.pi)"
   ]
  },
  {
   "cell_type": "code",
   "execution_count": 38,
   "metadata": {},
   "outputs": [
    {
     "data": {
      "text/plain": [
       "639.8028712294193"
      ]
     },
     "execution_count": 38,
     "metadata": {},
     "output_type": "execute_result"
    }
   ],
   "source": [
    "rho"
   ]
  },
  {
   "cell_type": "code",
   "execution_count": 39,
   "metadata": {},
   "outputs": [
    {
     "data": {
      "text/plain": [
       "5118.422969835355"
      ]
     },
     "execution_count": 39,
     "metadata": {},
     "output_type": "execute_result"
    }
   ],
   "source": [
    "# beam rigidity in Tesla meter\n",
    "B*rho"
   ]
  },
  {
   "cell_type": "markdown",
   "metadata": {},
   "source": [
    "# Synchrotronstrahlung und Energieverlust\n",
    "- abgestrahlte Leistung --> Kühlung\n",
    "- Energieverlust muss wieder zugeführt werden über RF-Cavity\n",
    "- Synchrotronverluste im Quad\n"
   ]
  },
  {
   "attachments": {
    "4e5f9895-e2f2-4548-a7ad-86ac3c486d00.png": {
     "image/png": "[encoded data removed]"
    }
   },
   "cell_type": "markdown",
   "metadata": {},
   "source": [
    "![synchrotron_quad.png](attachment:4e5f9895-e2f2-4548-a7ad-86ac3c486d00.png)"
   ]
  },
  {
   "cell_type": "markdown",
   "metadata": {},
   "source": [
    "# Quadrupol\n",
    "- Gradient: $g=2\\mu_0 n I /R^2$ mit $n$ der Anzahl an Windungen und $R$ dem Abstand der Pole vom Zentrum\n",
    "- Stärke: $k[m^{-2}]=0.2998\\frac{g [T/m]}{p [GeV/c]}$\n",
    "- Brennweite: $f=-\\frac{1}{k\\cdot l}$ mit $l$ der Länge des Quad"
   ]
  },
  {
   "cell_type": "markdown",
   "metadata": {},
   "source": [
    "### Anmerkung Fr. Müller\n",
    "Keine Dispersion im Experiment -> Achromat, Dispersionssupressor"
   ]
  },
  {
   "cell_type": "markdown",
   "metadata": {},
   "source": [
    "# FODO"
   ]
  },
  {
   "cell_type": "markdown",
   "metadata": {},
   "source": [
    "<img src=\"./figures/beta_function.jpeg\" width=\"700\">"
   ]
  },
  {
   "cell_type": "markdown",
   "metadata": {},
   "source": [
    "<img src=\"./figures/fodo.jpeg\" width=\"700\">"
   ]
  },
  {
   "cell_type": "code",
   "execution_count": null,
   "metadata": {},
   "outputs": [],
   "source": []
  }
 ],
 "metadata": {
  "kernelspec": {
   "display_name": "Python 3",
   "language": "python",
   "name": "python3"
  },
  "language_info": {
   "codemirror_mode": {
    "name": "ipython",
    "version": 3
   },
   "file_extension": ".py",
   "mimetype": "text/x-python",
   "name": "python",
   "nbconvert_exporter": "python",
   "pygments_lexer": "ipython3",
   "version": "3.7.8"
  }
 },
 "nbformat": 4,
 "nbformat_minor": 4
}
