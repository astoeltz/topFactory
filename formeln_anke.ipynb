{
 "cells": [
  {
   "cell_type": "markdown",
   "metadata": {},
   "source": [
    "5.532212900213248e-085.532212900213248e-08Wahrscheinlichkeit für Kollision für N Teilchen pro Strahl: \n",
    "\n",
    "$N^2 \\sigma_p /A$ mit $A$ der Strahlquerschnittsfläche\n",
    "\n",
    "Luminosität:\n",
    "\n",
    "$ \\mathscr{L}=\\frac{I_+ I_-}{4\\pi e^2 f_{\\text{fev}} n_b \\sigma_x \\sigma_y} = \\frac{N_1 N_2 f_{\\text{rev}}}{n_b A}=\\dot{N_p}\\frac{1}{\\sigma_p}$\n",
    "\n",
    "mit:\n",
    "- $n_b$ der Anzahl der Bunche im Strahl\n",
    "- $N_1, N_2$ der Teilchen in Bunch 1 und 2\n",
    "- $\\sigma_{x,y}$ der Stahlgröße am Wechselwirkungspunkt\n",
    "- $N$ der Gesamtteilchenzahl in einem Strahl\n",
    "- $I=e N f_{\\text{rev}}$ dem Strahlstrom\n",
    "- $A=4\\pi\\sigma_x\\sigma_y$ bei Gaußverteilten Paketen\n",
    "\n",
    "Ereignisrate:\n",
    "\n",
    "$\\dot{N_p}=(N^2 f_{\\text{rev}}/A) \\sigma_p=\\mathscr{L} \\sigma_p$"
   ]
  },
  {
   "cell_type": "markdown",
   "metadata": {},
   "source": [
    "Rahmenbedingungen:\n",
    "- mindestens $10^6$ Events pro Jahr bei 75\\% Verfügbarkeit der Maschine $\\rightarrow$ 0.042279722645019446 Paare pro Sekunde\n",
    "- Pro Kollision nicht mehr als 5 $t\\bar{t}$-Paare \n",
    "- Im Strahl gespeicherte Energie $\\leq 50\\,$MJ $\\rightarrow$ Energie im Strahl $=N\\cdot \\frac{\\sqrt{s}}{2}$ oder?!\n",
    "- Strahlstrom $I\\leq1\\,\\text{A}$\n",
    "- Umfang 6km"
   ]
  },
  {
   "cell_type": "code",
   "execution_count": 2,
   "metadata": {},
   "outputs": [],
   "source": [
    "import numpy as np\n",
    "from scipy import constants "
   ]
  },
  {
   "cell_type": "code",
   "execution_count": 3,
   "metadata": {},
   "outputs": [
    {
     "data": {
      "text/plain": [
       "1.602176634e-19"
      ]
     },
     "execution_count": 3,
     "metadata": {},
     "output_type": "execute_result"
    }
   ],
   "source": [
    "c=constants.c\n",
    "e=constants.e\n",
    "e"
   ]
  },
  {
   "cell_type": "code",
   "execution_count": 4,
   "metadata": {},
   "outputs": [],
   "source": [
    "# Länge des Beschleunigers in km\n",
    "l=6\n",
    "# Radius in m\n",
    "r=l*1.E3/(2*np.pi)\n",
    "# Magnetstärke in Tesla\n",
    "B=8\n",
    "# Dipolfüllfaktor\n",
    "a=0.67\n",
    "# Ablenkradius im Dipol\n",
    "r_bending=r*a"
   ]
  },
  {
   "cell_type": "code",
   "execution_count": 5,
   "metadata": {},
   "outputs": [],
   "source": [
    "# Energy in TeV\n",
    "energy=r_bending*c*B*1.E-12\n",
    "E_cm=2*energy"
   ]
  },
  {
   "cell_type": "code",
   "execution_count": 6,
   "metadata": {},
   "outputs": [
    {
     "data": {
      "text/plain": [
       "3.0689292064212017"
      ]
     },
     "execution_count": 6,
     "metadata": {},
     "output_type": "execute_result"
    }
   ],
   "source": [
    "E_cm"
   ]
  },
  {
   "cell_type": "markdown",
   "metadata": {},
   "source": [
    "<img src=\"./plot.jpg\" width=\"700\">"
   ]
  },
  {
   "cell_type": "markdown",
   "metadata": {},
   "source": [
    "Lese Wirkungsquerschnitt aus Diagramm ab: $\\sigma\\sim 20\\,$pb\n",
    "\n"
   ]
  },
  {
   "cell_type": "code",
   "execution_count": 49,
   "metadata": {},
   "outputs": [],
   "source": [
    "sigma_ttbar=10"
   ]
  },
  {
   "cell_type": "code",
   "execution_count": 44,
   "metadata": {},
   "outputs": [],
   "source": [
    "# Events pro Sekunde\n",
    "events_per_s=1e6/(0.75*365*24*60*60)\n",
    "events_per_bunchcrossing=5"
   ]
  },
  {
   "cell_type": "markdown",
   "metadata": {},
   "source": [
    "5 Paare pro Bunchcrossing,  0.042279722645019446 Paare pro Sekunde"
   ]
  },
  {
   "cell_type": "markdown",
   "metadata": {},
   "source": [
    "Luminosität $\\mathscr{L}=\\dot{N} \\cdot \\frac{1}{\\sigma}$"
   ]
  },
  {
   "cell_type": "code",
   "execution_count": 50,
   "metadata": {},
   "outputs": [],
   "source": [
    "# Luminosität in m^-2*s^-1\n",
    "L=events_per_s/(sigma_ttbar*1E-40) "
   ]
  },
  {
   "cell_type": "code",
   "execution_count": 51,
   "metadata": {},
   "outputs": [
    {
     "data": {
      "text/plain": [
       "4.2279722645019453e+33"
      ]
     },
     "execution_count": 51,
     "metadata": {},
     "output_type": "execute_result"
    }
   ],
   "source": [
    "L*1.e-4 # in cm^-2*s^-1"
   ]
  },
  {
   "cell_type": "code",
   "execution_count": 52,
   "metadata": {},
   "outputs": [
    {
     "data": {
      "text/plain": [
       "4.227972264501945e+37"
      ]
     },
     "execution_count": 52,
     "metadata": {},
     "output_type": "execute_result"
    }
   ],
   "source": [
    "L"
   ]
  },
  {
   "cell_type": "markdown",
   "metadata": {},
   "source": [
    "Untere Grenze der instantanen Luminosität"
   ]
  },
  {
   "cell_type": "markdown",
   "metadata": {},
   "source": [
    "<img src=\"./luminosity_comparison.jpg\" width=\"300\">"
   ]
  },
  {
   "cell_type": "code",
   "execution_count": 14,
   "metadata": {},
   "outputs": [],
   "source": [
    "# Umlauffrequenz\n",
    "f_rev=c/(l*1e3)"
   ]
  },
  {
   "cell_type": "code",
   "execution_count": 24,
   "metadata": {},
   "outputs": [
    {
     "data": {
      "text/plain": [
       "49.965409666666666"
      ]
     },
     "execution_count": 24,
     "metadata": {},
     "output_type": "execute_result"
    }
   ],
   "source": [
    "f_rev/1.e3"
   ]
  },
  {
   "cell_type": "markdown",
   "metadata": {},
   "source": [
    "Umlauffrequenz $f_{rev}\\approx 50\\,\\text{kHz}$"
   ]
  },
  {
   "cell_type": "markdown",
   "metadata": {},
   "source": [
    "Maximaler Strahlstrom $I=e N f_{\\text{rev}}=1\\,\\text{A}$"
   ]
  },
  {
   "cell_type": "code",
   "execution_count": 16,
   "metadata": {},
   "outputs": [],
   "source": [
    "# Strahlstrom in A\n",
    "current=1"
   ]
  },
  {
   "cell_type": "code",
   "execution_count": 17,
   "metadata": {},
   "outputs": [],
   "source": [
    "# Teilchenzahl pro Strahl\n",
    "N=current/(e*f_rev)"
   ]
  },
  {
   "cell_type": "code",
   "execution_count": 18,
   "metadata": {},
   "outputs": [
    {
     "data": {
      "text/plain": [
       "124.9165996256136"
      ]
     },
     "execution_count": 18,
     "metadata": {},
     "output_type": "execute_result"
    }
   ],
   "source": [
    "N/1.E12"
   ]
  },
  {
   "cell_type": "markdown",
   "metadata": {},
   "source": [
    "$\\dot{N_p}=(N^2 f_{\\text{rev}}/A) \\sigma_p=\\mathscr{L} \\sigma_p$"
   ]
  },
  {
   "cell_type": "code",
   "execution_count": 53,
   "metadata": {},
   "outputs": [],
   "source": [
    "# Querschnittsfläche der Bunches im Kollisionspunkt\n",
    "A=(N**2)*f_rev/L"
   ]
  },
  {
   "cell_type": "code",
   "execution_count": 54,
   "metadata": {},
   "outputs": [
    {
     "data": {
      "text/plain": [
       "1.844070966737749e-05"
      ]
     },
     "execution_count": 54,
     "metadata": {},
     "output_type": "execute_result"
    }
   ],
   "source": [
    "A # in m^2"
   ]
  },
  {
   "cell_type": "code",
   "execution_count": 55,
   "metadata": {},
   "outputs": [],
   "source": [
    "stored_energy=energy*1.E12*e*N"
   ]
  },
  {
   "cell_type": "code",
   "execution_count": 56,
   "metadata": {},
   "outputs": [
    {
     "data": {
      "text/plain": [
       "30.710537819012128"
      ]
     },
     "execution_count": 56,
     "metadata": {},
     "output_type": "execute_result"
    }
   ],
   "source": [
    "stored_energy/1.E6 # in MJ"
   ]
  },
  {
   "cell_type": "markdown",
   "metadata": {},
   "source": [
    "# Fragen\n",
    "- sinnvoller Strahlquerschnitt im Interactionspunkt\n",
    "- Events, Kollisionen?"
   ]
  },
  {
   "cell_type": "markdown",
   "metadata": {},
   "source": [
    "$\\rightarrow$ RF-Frequenz $400\\,\\text{MHz}$"
   ]
  },
  {
   "cell_type": "code",
   "execution_count": 39,
   "metadata": {},
   "outputs": [],
   "source": [
    "f_rf=400.E6"
   ]
  },
  {
   "cell_type": "code",
   "execution_count": 40,
   "metadata": {},
   "outputs": [
    {
     "data": {
      "text/plain": [
       "400000000.0"
      ]
     },
     "execution_count": 40,
     "metadata": {},
     "output_type": "execute_result"
    }
   ],
   "source": [
    "f_rf"
   ]
  },
  {
   "cell_type": "markdown",
   "metadata": {},
   "source": [
    "Bunchanzahl $n_b$"
   ]
  },
  {
   "cell_type": "code",
   "execution_count": 41,
   "metadata": {},
   "outputs": [],
   "source": [
    "n_b=f_rf/f_rev"
   ]
  },
  {
   "cell_type": "code",
   "execution_count": 42,
   "metadata": {},
   "outputs": [
    {
     "data": {
      "text/plain": [
       "8005.538284755649"
      ]
     },
     "execution_count": 42,
     "metadata": {},
     "output_type": "execute_result"
    }
   ],
   "source": [
    "n_b"
   ]
  },
  {
   "cell_type": "code",
   "execution_count": 43,
   "metadata": {},
   "outputs": [
    {
     "data": {
      "text/plain": [
       "0.15603772686151907"
      ]
     },
     "execution_count": 43,
     "metadata": {},
     "output_type": "execute_result"
    }
   ],
   "source": [
    "N/n_b/1.E11"
   ]
  },
  {
   "cell_type": "markdown",
   "metadata": {},
   "source": [
    "# Magnetstruktur\n",
    "\n",
    "- maximale Transportlänge 14 Meter"
   ]
  },
  {
   "cell_type": "markdown",
   "metadata": {},
   "source": [
    "# Antiproton-Erzeugung\n",
    "Rate der Erzeugung, wie lange dauert es, den Ring zu füllen"
   ]
  },
  {
   "cell_type": "code",
   "execution_count": null,
   "metadata": {},
   "outputs": [],
   "source": []
  }
 ],
 "metadata": {
  "kernelspec": {
   "display_name": "Python 3",
   "language": "python",
   "name": "python3"
  },
  "language_info": {
   "codemirror_mode": {
    "name": "ipython",
    "version": 3
   },
   "file_extension": ".py",
   "mimetype": "text/x-python",
   "name": "python",
   "nbconvert_exporter": "python",
   "pygments_lexer": "ipython3",
   "version": "3.7.8"
  }
 },
 "nbformat": 4,
 "nbformat_minor": 4
}
