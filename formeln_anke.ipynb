{
 "cells": [
  {
   "cell_type": "markdown",
   "metadata": {},
   "source": [
    "Wahrscheinlichkeit für Kollision für N Teilchen pro Strahl: \n",
    "\n",
    "$N^2 \\sigma_p /A$ mit $A$ der Strahlquerschnittsfläche\n",
    "\n",
    "Luminosität:\n",
    "\n",
    "$ \\mathscr{L}=\\frac{I_+ I_-}{4\\pi e^2 f_{\\text{fev}} n_b \\sigma_x \\sigma_y} = \\frac{N_1 N_2 f_{\\text{rev}}}{n_b A}=\\dot{N_p}\\frac{1}{\\sigma_p}$\n",
    "\n",
    "mit:\n",
    "- $n_b$ der Anzahl der Bunche im Strahl\n",
    "- $\\sigma_{x,y}$ der Stahlgröße am Wechselwirkungspunkt\n",
    "- $I=e N f_{\\text{rev}}$ dem Strahlstrom\n",
    "- $A=4\\pi\\sigma_x\\sigma_y$ bei Gaußverteilten Paketen\n",
    "\n",
    "Ereignisrate:\n",
    "\n",
    "$\\dot{N_p}=(N^2 f_{\\text{rev}}/A) \\sigma_p=\\mathscr{L} \\sigma_p$"
   ]
  },
  {
   "cell_type": "markdown",
   "metadata": {},
   "source": [
    "Rahmenbedingungen:\n",
    "- mindestens $10^6$ Events pro Jahr bei 75\\% Verfügbarkeit der Maschine $\\rightarrow$ 0.042279722645019446 Paare pro Sekunde\n",
    "- Pro Kollision nicht mehr als 5 $t\\bar{t}$-Paare \n",
    "- Im Strahl gespeicherte Energie $\\leq 50\\,$MJ $\\rightarrow$ Energie im Strahl $=N\\cdot n_b\\cdot \\sqrt{s}$ oder?!\n",
    "- Strahlstrom $I\\leq1\\,$A\n",
    "- Umfang 6km"
   ]
  },
  {
   "cell_type": "code",
   "execution_count": 7,
   "metadata": {},
   "outputs": [
    {
     "data": {
      "text/plain": [
       "0.042279722645019446"
      ]
     },
     "execution_count": 7,
     "metadata": {},
     "output_type": "execute_result"
    }
   ],
   "source": [
    "1e6/(0.75*365*24*60*60)"
   ]
  },
  {
   "cell_type": "markdown",
   "metadata": {},
   "source": [
    "5 Paare pro Kollision,  0.042279722645019446 Paare pro Sekunde\n",
    "\n",
    "$\\rightarrow$\n",
    "Kollisionen pro Sekunde: $\\dot{N_p} = 0.042279722645019446/5$ 1/s $= 0.00845594452900389 $ 1/s"
   ]
  },
  {
   "cell_type": "code",
   "execution_count": 9,
   "metadata": {},
   "outputs": [
    {
     "data": {
      "text/plain": [
       "0.00845594452900389"
      ]
     },
     "execution_count": 9,
     "metadata": {},
     "output_type": "execute_result"
    }
   ],
   "source": [
    "0.042279722645019446/5"
   ]
  },
  {
   "cell_type": "markdown",
   "metadata": {},
   "source": [
    "Luminosität $\\mathscr{L}=\\dot{N_p} \\cdot \\sigma_p$"
   ]
  },
  {
   "cell_type": "markdown",
   "metadata": {},
   "source": [
    "<img src=\"./plot.jpg\" width=\"700\">"
   ]
  },
  {
   "cell_type": "code",
   "execution_count": 1,
   "metadata": {},
   "outputs": [],
   "source": [
    "import numpy as np\n",
    "from scipy import constants "
   ]
  },
  {
   "cell_type": "code",
   "execution_count": 5,
   "metadata": {},
   "outputs": [],
   "source": [
    "c=constants.c\n",
    "e=constants.e"
   ]
  },
  {
   "cell_type": "code",
   "execution_count": 2,
   "metadata": {},
   "outputs": [],
   "source": [
    "# Länge des Beschleunigers in km\n",
    "l=6\n",
    "# Radius in m\n",
    "r=l*1.E3/(2*np.pi)\n",
    "# Magnetstärke in Tesla\n",
    "B=8\n",
    "# Dipolfüllfaktor\n",
    "a=1\n"
   ]
  },
  {
   "cell_type": "code",
   "execution_count": 11,
   "metadata": {},
   "outputs": [],
   "source": [
    "# Energy in TeV\n",
    "energy=r*c*B*1.E-12"
   ]
  },
  {
   "cell_type": "code",
   "execution_count": 12,
   "metadata": {},
   "outputs": [
    {
     "data": {
      "text/plain": [
       "2.2902456764337322"
      ]
     },
     "execution_count": 12,
     "metadata": {},
     "output_type": "execute_result"
    }
   ],
   "source": [
    "energy"
   ]
  },
  {
   "cell_type": "code",
   "execution_count": null,
   "metadata": {},
   "outputs": [],
   "source": []
  }
 ],
 "metadata": {
  "kernelspec": {
   "display_name": "Python 3",
   "language": "python",
   "name": "python3"
  },
  "language_info": {
   "codemirror_mode": {
    "name": "ipython",
    "version": 3
   },
   "file_extension": ".py",
   "mimetype": "text/x-python",
   "name": "python",
   "nbconvert_exporter": "python",
   "pygments_lexer": "ipython3",
   "version": "3.7.8"
  }
 },
 "nbformat": 4,
 "nbformat_minor": 4
}
