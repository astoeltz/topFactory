{
 "cells": [
  {
   "cell_type": "markdown",
   "metadata": {},
   "source": [
    "# Synchrotron lattice"
   ]
  },
  {
   "cell_type": "markdown",
   "metadata": {},
   "source": [
    "- Only two quadrupole families: focussing QF and defocussing QD. So all FODO cells are equal.\n",
    "- Betatron function: periodic function, not significantly affected by whether it is a cell with or without dipoles (if they are assumed to have negligible edge focussing).\n",
    "- **Dispersion** depends on the distribution of bending magnets (as only dipols can cause dispersion) and needs to be controlled in dipole free sections.\n",
    "    The dispersion in magnet free cells should be zero or very small to simplify injection or avoid instabilities.\\\n",
    "    Dispersion in a dipole:\n",
    "    \n",
    "    $D(z)=\\rho_0\\cdot\\left(1-\\cos(\\frac{1}{\\rho}z)\\right)$\n",
    "    \n",
    "    $D'(z)=\\sin(\\frac{1}{\\rho}z)$\n",
    "- **Achromat** or first order achromat: Both the dispersion and its derivative vanish, meaning the dispersion stays 0 from that point on downstream until the next dipolecreates a dispersion function. $\\rightarrow$ Position and slope of a particles trajectory is independent of its energy.\n",
    "    + **Linear Achromat**: achromat consisting only of dipols and quadrupoles.\n",
    "    + **Double bend achromat DBA**: linear achromat two bending magnets with quadrupole in the center. The first dipole causes dispersion, then a second dipole is placed half a betatron oscillation downstream from the first which compensates the first dipole and the particle moves at the ideal path.\\\n",
    "        Phase advance between the vertix points of the bending magnet needs to be $180^\\circ$.\\\n",
    "        This structure only focuses only in the deflecting plane and defocuses in the nondeflecting plane. So external quadrupoles are needed to compensate this.\n",
    "        <img src=\"./figures/double_bend_achromat.png\" width=\"500\">\n",
    "    \n",
    "- Phase space matching: For joining of different lattice segments the lattice functions ($\\beta, \\alpha, \\eta, \\eta'$) have to match."
   ]
  },
  {
   "cell_type": "markdown",
   "metadata": {},
   "source": [
    "# The FODO cell\n"
   ]
  },
  {
   "cell_type": "code",
   "execution_count": null,
   "metadata": {},
   "outputs": [],
   "source": [
    "import numpy as np\n",
    "from scipy import constants \n",
    "import math"
   ]
  },
  {
   "cell_type": "code",
   "execution_count": null,
   "metadata": {},
   "outputs": [],
   "source": [
    "c=constants.c\n",
    "e=constants.e"
   ]
  },
  {
   "cell_type": "markdown",
   "metadata": {},
   "source": [
    "## Dipoles"
   ]
  },
  {
   "cell_type": "code",
   "execution_count": null,
   "metadata": {},
   "outputs": [],
   "source": [
    "length=6000 #meters\n",
    "dipole_length=14 #meters\n",
    "fill_factor=0.67\n",
    "number_dipols=length*0.67/dipole_length\n",
    "number_dipols=math.ceil(number_dipols)\n",
    "print('Total number of dipols:',number_dipols)"
   ]
  },
  {
   "cell_type": "code",
   "execution_count": null,
   "metadata": {},
   "outputs": [],
   "source": [
    "l=6000 #meter\n",
    "# arc length lm in meter\n",
    "fill_factor=0.67\n",
    "lm=l*fill_factor\n",
    "# bending radius rho in meter\n",
    "rho=lm/(2*np.pi)\n",
    "print('Bending radius:',rho,'meter')"
   ]
  },
  {
   "cell_type": "markdown",
   "metadata": {},
   "source": [
    "## Cell"
   ]
  },
  {
   "cell_type": "markdown",
   "metadata": {},
   "source": [
    "<img src=\"./figures/LHC_cell.jpeg\" width=\"600\">"
   ]
  },
  {
   "cell_type": "code",
   "execution_count": null,
   "metadata": {},
   "outputs": [],
   "source": [
    "fodo_cell_length=100 #meter\n",
    "number_fodo_cells=length/fodo_cell_length\n",
    "quad_driftspace=fodo_cell_length/2.\n",
    "print('Distance between two quadrupols:',quad_driftspace,'meter')"
   ]
  },
  {
   "cell_type": "code",
   "execution_count": null,
   "metadata": {},
   "outputs": [],
   "source": [
    "dipols_per_driftspace=3\n",
    "dipols_per_cell=2*dipols_per_driftspace # -> 6 dipols per cell"
   ]
  },
  {
   "cell_type": "code",
   "execution_count": null,
   "metadata": {},
   "outputs": [],
   "source": [
    "cells_with_dipols=number_dipols/dipols_per_cell\n",
    "print('Number of cells containing dipols:',cells_with_dipols)"
   ]
  },
  {
   "cell_type": "code",
   "execution_count": null,
   "metadata": {},
   "outputs": [],
   "source": [
    "cells_straight_sections=number_fodo_cells-cells_with_dipols\n",
    "print('Number of cells with straight sections:',cells_straight_sections)"
   ]
  },
  {
   "cell_type": "code",
   "execution_count": null,
   "metadata": {},
   "outputs": [],
   "source": [
    "fill_factor_in_fodo=6*dipole_length/(2*quad_driftspace)\n",
    "print('Dipole fill factor in dipole FODO cells:',fill_factor_in_fodo*100,'%')"
   ]
  },
  {
   "cell_type": "markdown",
   "metadata": {},
   "source": [
    "## FODO transformation matrix for $x,x'$ or $y,y'$\n",
    "- $\\begin{pmatrix}u(z)\\\\u'(z)\\end{pmatrix}=M_{\\mathrm{FODO}}\\cdot\\begin{pmatrix}u(z_0)\\\\u'(z_0)\\end{pmatrix}$\n",
    "- $M_{\\mathrm{FODO}}=\\begin{pmatrix}1-2\\frac{L^2}{f^2}&2L(1+\\frac{L}{f})\\\\-\\frac{1}{f^*}&1-2\\frac{L^2}{f^2}\\\\\\end{pmatrix}$\n",
    "\n",
    "    with $\\frac{1}{f^*}=2(1-\\frac{L}{f})\\frac{L}{f^2}$ and $f_F=-f_D=f$\n",
    "\n",
    "- Stability: $|f|> \\frac{L}{2}$ with $L$ the drift space between two quads \n",
    "\n",
    "- Optimal phase advance for round beam (e.g. protons):\n",
    "$\\Phi\\overset{!}{=}90^\\circ$\n",
    "$\\rightarrow f\\overset{!}{=}\\sqrt{2}L$"
   ]
  },
  {
   "cell_type": "code",
   "execution_count": null,
   "metadata": {},
   "outputs": [],
   "source": [
    "focal_length=quad_driftspace*np.sqrt(2)\n",
    "print('Focal distance:',focal_length,'meter')"
   ]
  },
  {
   "cell_type": "code",
   "execution_count": null,
   "metadata": {},
   "outputs": [],
   "source": [
    "phase_advance=np.arccos(1-2*quad_driftspace**2/focal_length**2)\n",
    "print('Phase advance:',phase_advance/(2*np.pi)*360,'degree')"
   ]
  },
  {
   "cell_type": "markdown",
   "metadata": {},
   "source": [
    "## Quadrupole parameters\n",
    "- Gradient: $g=\\frac{2\\mu_0 n I}{R^2}$\n",
    "- Strength: $k=\\frac{e}{p}g=0.2998\\frac{g[\\mathrm{T/m}]}{p[\\mathrm{Gev/c}]}$\n",
    "- Focal length $f=\\frac{1}{k\\cdot l}$ with $l$ length of the quad"
   ]
  },
  {
   "cell_type": "code",
   "execution_count": null,
   "metadata": {},
   "outputs": [],
   "source": [
    "# Beam energy\n",
    "energy=3836/2. #GeV"
   ]
  },
  {
   "cell_type": "code",
   "execution_count": null,
   "metadata": {},
   "outputs": [],
   "source": [
    "quad_length= 1 # meter (LHC: 3.1 meter magnetic length)\n",
    "quad_strength=1./(focal_length*quad_length)\n",
    "print('Quadrupole strength k:',quad_strength,'m^-2')"
   ]
  },
  {
   "cell_type": "code",
   "execution_count": null,
   "metadata": {},
   "outputs": [],
   "source": [
    "quad_gradient=quad_strength*energy/0.2998 \n",
    "print('Quadrupole gradient g:',quad_gradient,'T/m (LHC: 220 T/m)')"
   ]
  },
  {
   "cell_type": "code",
   "execution_count": null,
   "metadata": {},
   "outputs": [],
   "source": [
    "quad_coil_current = 10000 # Ampere (LHC: 11470A)\n",
    "quad_n_turns = 20"
   ]
  },
  {
   "cell_type": "code",
   "execution_count": null,
   "metadata": {},
   "outputs": [],
   "source": [
    "quad_aperture=np.sqrt(2*constants.mu_0*quad_n_turns*quad_coil_current/quad_gradient)\n",
    "print('Quadrupole aperture R:',quad_aperture*1000,'mm (LHC: 56mm)')"
   ]
  },
  {
   "cell_type": "code",
   "execution_count": null,
   "metadata": {},
   "outputs": [],
   "source": [
    "mat_fodo=np.matrix([[0,2*quad_driftspace*(1+quad_driftspace/focal_length)],[-2*(1-quad_driftspace/focal_length)*quad_driftspace/(focal_length**2),0]])\n",
    "mat_fodo"
   ]
  },
  {
   "cell_type": "markdown",
   "metadata": {},
   "source": [
    "### Betatron function\n",
    "$\\beta=\\beta^+$ in centre of the (horizontally) focusing quadrupole\n",
    "\n",
    "$\\beta=\\beta^-$ in centre of the (horizontally) defocusing quadrupole\n"
   ]
  },
  {
   "cell_type": "code",
   "execution_count": null,
   "metadata": {},
   "outputs": [],
   "source": [
    "fodo_parameter=focal_length/quad_driftspace"
   ]
  },
  {
   "cell_type": "code",
   "execution_count": null,
   "metadata": {},
   "outputs": [],
   "source": [
    "beta_plus=quad_driftspace*fodo_parameter*(fodo_parameter+1)/np.sqrt(fodo_parameter**2-1)\n",
    "beta_plus_opt=quad_driftspace*(2+np.sqrt(2))\n",
    "print('beta plus (=optimal/minimal beta plus): ',beta_plus,'meter')"
   ]
  },
  {
   "cell_type": "code",
   "execution_count": null,
   "metadata": {},
   "outputs": [],
   "source": [
    "beta_minus=quad_driftspace*fodo_parameter*(fodo_parameter-1)/np.sqrt(fodo_parameter**2-1)\n",
    "beta_minus_opt=quad_driftspace*(2-np.sqrt(2))\n",
    "print('beta minus: ',beta_minus,'meter')"
   ]
  },
  {
   "cell_type": "markdown",
   "metadata": {},
   "source": [
    "<img src=\"./figures/beta_in_fodo.png\" width=\"500\">\n",
    "\n",
    "Comparison with LHC:\n",
    "- Phase advance $90^°$\n",
    "- $\\beta^+\\approx 180\\,$m\n",
    "- $\\beta^-\\approx 30\\,$m"
   ]
  },
  {
   "cell_type": "code",
   "execution_count": null,
   "metadata": {},
   "outputs": [],
   "source": [
    "emittance=2.5e-9 #meter rad\n",
    "beam_envelope_max=np.sqrt(emittance*beta_plus_opt)\n",
    "beam_envelope_min=np.sqrt(emittance*beta_minus_opt)\n",
    "print('Maximum (or x-direction in middle of QF) beam envelope with emittance of 2.5 nm rad: +-',beam_envelope_max*1000,'mm')\n",
    "print('Minimum (or y-direction in middle of QF) beam envelope with emittance of 2.5 nm rad: +-',beam_envelope_min*1000,'mm')"
   ]
  },
  {
   "cell_type": "markdown",
   "metadata": {},
   "source": [
    "$\\rightarrow$ more than enough space in quadrupole aperture ($74.5$ mm) to fit a beam screen of the needed 10 sigma of the beam size: $(10\\cdot 0.65)$ mm"
   ]
  },
  {
   "cell_type": "markdown",
   "metadata": {},
   "source": [
    "## Phase space ellipse parameters $\\alpha, \\beta, \\gamma$\n",
    "- Transfomation matrix for one lattice period: \n",
    "    $M=\\begin{pmatrix}\\cos\\Phi+\\alpha\\sin\\Phi & \\beta\\sin\\Phi\\\\-\\gamma\\sin\\Phi & \\cos\\Phi-\\alpha\\sin\\Phi\\\\\\end{pmatrix}$\n",
    "    \n",
    "    with stability criterion $Tr(M^N)=2\\cos(N\\Phi)\\leq2 $,   \n",
    "    and the trace and phase advance being invariant under changing the startig point.\n",
    "\n",
    "- $\\beta=\\frac{M_{12}}{\\sin\\Phi}=M_{12}=2L(1+\\frac{f}{L})$\n",
    "- $\\alpha=\\frac{M_{11}-M_{22}}{2\\sin\\Phi}=\\frac{M_{11}-M_{22}}{2\\sin\\Phi}=\\frac{M_{11}-M_{22}}{2}$\n",
    "\n",
    "#### In the middle of the focussing defocussing quad:\n",
    "\n",
    "- $ \\beta_{F/D}=\\frac{2L(1\\pm\\sin\\frac{\\Phi}{2})}{\\sin\\Phi}=2L(1 \\pm \\frac{1}{ \\sqrt{2}})=L (2 \\pm \\sqrt{2})=\\beta^\\pm$\n",
    "- $\\alpha_{F/D}=0$"
   ]
  },
  {
   "cell_type": "markdown",
   "metadata": {},
   "source": [
    "## Dispersion in the FODO cell with dipols\n",
    "- Dispersion: change of position $\\Delta x,y$ due to deviation from nominal momentum $\\Delta p/p_0$: $\\rightarrow D_{x,y}=\\frac{\\Delta u}{\\Delta p/p_0}$\n",
    "- in FODO cells: periodic dispersion function $D(z)\\rightarrow \\eta(z)$\n",
    "- Chromatic transformation matrix through half a cell ($\\frac{1}{2}QF - 3 \\times B - \\frac{1}{2} QD$) with thin lense and small bending angle $\\theta$-approximation:\n",
    "<img src=\"./figures/dispersion_fodo_1.png\" width=\"500\">\n",
    "\n",
    "<img src=\"./figures/dispersion_fodo_2.png\" width=\"500\">\n",
    "\n",
    "$\\rightarrow$\n",
    "The dispersion function in the middle of the focussing and defocussing quadrupole become the following respectively:\n",
    "- $\\eta^+=\\frac{f^2}{\\rho_0}(1+\\frac{L}{2f})=\\eta_{max}$\n",
    "- $\\eta^-=\\frac{f^2}{\\rho_0}(1+\\frac{L}{2f})=\\eta_{min}$\n",
    "\n",
    "    with the bending radius $\\rho_0$."
   ]
  },
  {
   "cell_type": "code",
   "execution_count": null,
   "metadata": {},
   "outputs": [],
   "source": [
    "import matplotlib.pyplot as plt\n",
    "\n",
    "epsilon=0.2\n",
    "phi=np.linspace(epsilon,np.pi-epsilon,100)\n",
    "beta_max=2*(1+np.sin(phi/2))/np.sin(phi)\n",
    "eta_max=(np.sin(phi/2)+2)/2/np.sin(phi/2)/np.sin(phi/2)\n",
    "beta_min=2*(1-np.sin(phi/2))/np.sin(phi)\n",
    "eta_min=(-np.sin(phi/2)+2)/2/np.sin(phi/2)/np.sin(phi/2)\n",
    "fig,ax=plt.subplots(figsize=(8,6))\n",
    "ax_m=ax.twinx()\n",
    "ax.set_xlabel(\"Phase advance [rad]\")\n",
    "ax.set_ylabel(r\"$\\beta$ [in unit of $L$]\")\n",
    "ax_m.set_ylabel(r\"$\\eta$ [in unit of $L\\theta$]\")\n",
    "ax.set_ylim(0,10)\n",
    "ax.set_xlim(0,np.pi)\n",
    "ax_m.set_ylim(-0,10)\n",
    "l1=ax.plot(phi,beta_max,c='b',label=r'$\\beta^+$')\n",
    "l2=ax.plot(phi,beta_min,c='c',label=r'$\\beta^-$')\n",
    "l3=ax_m.plot(phi,eta_max, c='y', label=r'$\\eta^+$')\n",
    "l4=ax_m.plot(phi,eta_min, c='r', label=r'$\\eta^-$')\n",
    "lns = l1+l2+l3+l4\n",
    "labs = [l.get_label() for l in lns]\n",
    "ax.legend(lns,labs,loc='right')\n",
    "ax.set_xticks(np.linspace(0,1,5,)*np.pi)\n",
    "ax.set_xticklabels([\"$0$\", r\"$\\frac{\\pi}{4}$\", r\"$\\frac{\\pi}{2}$\",\n",
    "                    r\"$\\frac{3\\pi}{4}$\", r\"$\\pi$\",\n",
    "                     ])\n",
    "\n",
    "fig.tight_layout()\n",
    "\n"
   ]
  },
  {
   "cell_type": "markdown",
   "metadata": {},
   "source": [
    "For the chosen phase advance $\\Phi=\\frac{\\pi}{2}$, the dispersion functions maximum and minium become:"
   ]
  },
  {
   "cell_type": "code",
   "execution_count": null,
   "metadata": {},
   "outputs": [],
   "source": [
    "eta_max=quad_driftspace**2/(2*rho)*fodo_parameter*(2*fodo_parameter+1)\n",
    "print('Maximum dispersion:',eta_max,'meter')"
   ]
  },
  {
   "cell_type": "code",
   "execution_count": null,
   "metadata": {},
   "outputs": [],
   "source": [
    "eta_min=quad_driftspace**2/(2*rho)*fodo_parameter*(2*fodo_parameter-1)\n",
    "print('Minimum dispersion:',eta_min,'meter')"
   ]
  },
  {
   "cell_type": "code",
   "execution_count": null,
   "metadata": {},
   "outputs": [],
   "source": []
  },
  {
   "cell_type": "markdown",
   "metadata": {},
   "source": [
    "# Achromatic Lattices\n"
   ]
  },
  {
   "cell_type": "markdown",
   "metadata": {},
   "source": [
    "# Collision point\n",
    "- Dispersion should be 0\n",
    "- Betatron function should be minimal to maximize the luminosity"
   ]
  },
  {
   "cell_type": "code",
   "execution_count": null,
   "metadata": {},
   "outputs": [],
   "source": []
  },
  {
   "cell_type": "markdown",
   "metadata": {},
   "source": [
    "# Synchrotron radiation"
   ]
  },
  {
   "cell_type": "markdown",
   "metadata": {},
   "source": [
    "## Energy loss per turn\n",
    "- Synchrotron radiation power per turn:\n",
    "    * $P_\\mathrm{Proton}=\\frac{P_e}{1836^4}$\n",
    "    * $\\langle P_e\\rangle=\\frac{c}{2\\pi}C_\\gamma E^4\\langle\\frac{1}{\\rho^2}\\rangle$ mit $C_\\gamma=8.8463\\cdot 10^{-5}\\,\\mathrm{\\frac{m}{GeV^3}}$\n",
    "\n",
    "- Energy loss per turn and proton:\n",
    "    * $U_0=P_\\gamma \\frac{2\\pi\\rho}{\\beta c}$\n",
    "    * Isomagnetisches Lattice: $U_{0,\\mathrm{iso}}(\\mathrm{GeV})=\\frac{1}{1836^4}C_\\gamma\\frac{E^4(\\mathrm{GeV}^4)}{\\rho(\\mathrm{m})}$\n",
    "\n",
    "- Average radiation power per beam of current $I=ef_{rev}N=1\\,\\mathrm{A}$:\n",
    "    * $\\langle P_s\\rangle= U_0\\frac{I}{e}$"
   ]
  },
  {
   "cell_type": "code",
   "execution_count": null,
   "metadata": {},
   "outputs": [],
   "source": [
    "C_gamma=8.8463e-5 #m/GeV^3\n",
    "u_0iso=1e9/(1836**4)*C_gamma*energy**4/rho #eV\n",
    "current=1 #Ampere\n",
    "p_s=u_0iso*current #Watt\n",
    "print('Energy loss per turn:',u_0iso,'eV')\n",
    "print('Average radiation power of each beam of 1A:',p_s,'W')"
   ]
  },
  {
   "cell_type": "markdown",
   "metadata": {},
   "source": [
    "$\\rightarrow$ This radiation power is absorbed by the beam screen and needs to be cooled away to protect the superconducting magnets."
   ]
  },
  {
   "cell_type": "code",
   "execution_count": null,
   "metadata": {},
   "outputs": [],
   "source": []
  }
 ],
 "metadata": {
  "kernelspec": {
   "display_name": "Python 3",
   "language": "python",
   "name": "python3"
  },
  "language_info": {
   "codemirror_mode": {
    "name": "ipython",
    "version": 3
   },
   "file_extension": ".py",
   "mimetype": "text/x-python",
   "name": "python",
   "nbconvert_exporter": "python",
   "pygments_lexer": "ipython3",
   "version": "3.7.8"
  }
 },
 "nbformat": 4,
 "nbformat_minor": 4
}
