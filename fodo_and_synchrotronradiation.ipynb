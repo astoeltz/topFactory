{
 "cells": [
  {
   "cell_type": "code",
   "execution_count": 1,
   "metadata": {},
   "outputs": [],
   "source": [
    "import numpy as np\n",
    "from scipy import constants \n",
    "import math"
   ]
  },
  {
   "cell_type": "code",
   "execution_count": 2,
   "metadata": {},
   "outputs": [],
   "source": [
    "c=constants.c\n",
    "e=constants.e"
   ]
  },
  {
   "cell_type": "code",
   "execution_count": 3,
   "metadata": {},
   "outputs": [
    {
     "name": "stdout",
     "output_type": "stream",
     "text": [
      "Total number of dipols: 288\n"
     ]
    }
   ],
   "source": [
    "length=6000 #meters\n",
    "dipole_length=14 #meters\n",
    "fill_factor=0.67\n",
    "number_dipols=length*0.67/dipole_length\n",
    "number_dipols=math.ceil(number_dipols)\n",
    "print('Total number of dipols:',number_dipols)"
   ]
  },
  {
   "cell_type": "markdown",
   "metadata": {},
   "source": [
    "<img src=\"./figures/LHC_cell.jpeg\" width=\"600\">"
   ]
  },
  {
   "cell_type": "code",
   "execution_count": 4,
   "metadata": {},
   "outputs": [
    {
     "name": "stdout",
     "output_type": "stream",
     "text": [
      "Distance between two quadrupols: 50.0 meter\n"
     ]
    }
   ],
   "source": [
    "fodo_cell_length=100 #meter\n",
    "number_fodo_cells=length/fodo_cell_length\n",
    "quad_driftspace=fodo_cell_length/2.\n",
    "print('Distance between two quadrupols:',quad_driftspace,'meter')"
   ]
  },
  {
   "cell_type": "code",
   "execution_count": 5,
   "metadata": {},
   "outputs": [],
   "source": [
    "dipols_per_driftspace=3\n",
    "dipols_per_cell=2*dipols_per_driftspace # -> 6 dipols per cell"
   ]
  },
  {
   "cell_type": "code",
   "execution_count": 6,
   "metadata": {},
   "outputs": [
    {
     "name": "stdout",
     "output_type": "stream",
     "text": [
      "Number of cells containing dipols: 48.0\n"
     ]
    }
   ],
   "source": [
    "cells_with_dipols=number_dipols/dipols_per_cell\n",
    "print('Number of cells containing dipols:',cells_with_dipols)"
   ]
  },
  {
   "cell_type": "code",
   "execution_count": 7,
   "metadata": {},
   "outputs": [
    {
     "name": "stdout",
     "output_type": "stream",
     "text": [
      "Number of cells in straight sections: 12.0\n"
     ]
    }
   ],
   "source": [
    "cells_straight_sections=number_fodo_cells-cells_with_dipols\n",
    "print('Number of cells in straight sections:',cells_straight_sections)"
   ]
  },
  {
   "cell_type": "code",
   "execution_count": 8,
   "metadata": {},
   "outputs": [
    {
     "name": "stdout",
     "output_type": "stream",
     "text": [
      "Dipole fill factor in dipole FODO cells: 84.0 %\n"
     ]
    }
   ],
   "source": [
    "fill_factor_in_fodo=6*dipole_length/(2*quad_driftspace)\n",
    "print('Dipole fill factor in dipole FODO cells:',fill_factor_in_fodo*100,'%')"
   ]
  },
  {
   "cell_type": "markdown",
   "metadata": {},
   "source": [
    "## FODO transformation matrix for $x,x'$ or $y,y'$\n",
    "- $\\begin{pmatrix}u(z)\\\\u'(z)\\end{pmatrix}=M_{\\mathrm{FODO}}\\cdot\\begin{pmatrix}u(z_0)\\\\u'(z_0)\\end{pmatrix}$\n",
    "- $M_{\\mathrm{FODO}}=\\begin{pmatrix}1-2\\frac{L^2}{f^2}&2L(1+\\frac{L}{f})\\\\-\\frac{1}{f^*}&1-2\\frac{L^2}{f^2}\\\\\\end{pmatrix}$\n",
    "\n",
    "    with $\\frac{1}{f^*}=2(1-\\frac{L}{f})\\frac{L}{f^2}$ and $f_F=-f_D=f$\n",
    "\n",
    "- Stability: $|f|> \\frac{L}{2}$ with $L$ the drift space between two quads \n",
    "\n",
    "- Optimal phase advance for round beam (e.g. protons):\n",
    "$\\Phi\\overset{!}{=}90^\\circ$\n",
    "$\\rightarrow f\\overset{!}{=}\\sqrt{2}L$"
   ]
  },
  {
   "cell_type": "code",
   "execution_count": 9,
   "metadata": {},
   "outputs": [
    {
     "name": "stdout",
     "output_type": "stream",
     "text": [
      "Focal distance: 70.71067811865476 meter\n"
     ]
    }
   ],
   "source": [
    "focal_length=quad_driftspace*np.sqrt(2)\n",
    "print('Focal distance:',focal_length,'meter')"
   ]
  },
  {
   "cell_type": "code",
   "execution_count": 10,
   "metadata": {},
   "outputs": [
    {
     "name": "stdout",
     "output_type": "stream",
     "text": [
      "Phase advance: 90.0 degree\n"
     ]
    }
   ],
   "source": [
    "phase_advance=np.arccos(1-2*quad_driftspace**2/focal_length**2)\n",
    "print('Phase advance:',phase_advance/(2*np.pi)*360,'degree')"
   ]
  },
  {
   "cell_type": "markdown",
   "metadata": {},
   "source": [
    "### Quadrupole\n",
    "- Gradient: $g=\\frac{2\\mu_0 n I}{R^2}$\n",
    "- Strength: $k=\\frac{e}{p}g=0.2998\\frac{g[\\mathrm{T/m}]}{p[\\mathrm{Gev/c}]}$\n",
    "- Focal length $f=\\frac{1}{k\\cdot l}$ with $l$ length of the quad"
   ]
  },
  {
   "cell_type": "code",
   "execution_count": 11,
   "metadata": {},
   "outputs": [],
   "source": [
    "energy=3836/2. #GeV"
   ]
  },
  {
   "cell_type": "code",
   "execution_count": 12,
   "metadata": {},
   "outputs": [
    {
     "name": "stdout",
     "output_type": "stream",
     "text": [
      "Quadrupole strength k: 0.01414213562373095 m^-2\n"
     ]
    }
   ],
   "source": [
    "quad_length= 1 # meter (LHC: 3.1 meter magnetic length)\n",
    "quad_strength=1./(focal_length*quad_length)\n",
    "print('Quadrupole strength k:',quad_strength,'m^-2')"
   ]
  },
  {
   "cell_type": "code",
   "execution_count": 13,
   "metadata": {},
   "outputs": [
    {
     "name": "stdout",
     "output_type": "stream",
     "text": [
      "Quadrupole gradient g: 90.47570422386912 T/m (LHC: 220 T/m)\n"
     ]
    }
   ],
   "source": [
    "quad_gradient=quad_strength*energy/0.2998 \n",
    "print('Quadrupole gradient g:',quad_gradient,'T/m (LHC: 220 T/m)')"
   ]
  },
  {
   "cell_type": "code",
   "execution_count": 14,
   "metadata": {},
   "outputs": [],
   "source": [
    "quad_coil_current = 10000 # Ampere (LHC: 11470A)\n",
    "quad_n_turns = 20"
   ]
  },
  {
   "cell_type": "code",
   "execution_count": 15,
   "metadata": {},
   "outputs": [
    {
     "name": "stdout",
     "output_type": "stream",
     "text": [
      "Quadrupole aperture R: 74.536490719232 mm (LHC: 56mm)\n"
     ]
    }
   ],
   "source": [
    "quad_aperture=np.sqrt(2*constants.mu_0*quad_n_turns*quad_coil_current/quad_gradient)\n",
    "print('Quadrupole aperture R:',quad_aperture*1000,'mm (LHC: 56mm)')"
   ]
  },
  {
   "cell_type": "code",
   "execution_count": 16,
   "metadata": {},
   "outputs": [
    {
     "data": {
      "text/plain": [
       "matrix([[ 0.00000000e+00,  1.70710678e+02],\n",
       "        [-5.85786438e-03,  0.00000000e+00]])"
      ]
     },
     "execution_count": 16,
     "metadata": {},
     "output_type": "execute_result"
    }
   ],
   "source": [
    "mat_fodo=np.matrix([[0,2*quad_driftspace*(1+quad_driftspace/focal_length)],[-2*(1-quad_driftspace/focal_length)*quad_driftspace/(focal_length**2),0]])\n",
    "mat_fodo"
   ]
  },
  {
   "cell_type": "markdown",
   "metadata": {},
   "source": [
    "$\\beta=\\beta^+$ in centre of the (horizontally) focusing quadrupole\n",
    "\n",
    "$\\beta=\\beta^-$ in centre of the (horizontally) defocusing quadrupole\n"
   ]
  },
  {
   "cell_type": "code",
   "execution_count": 17,
   "metadata": {},
   "outputs": [],
   "source": [
    "fodo_parameter=focal_length/quad_driftspace"
   ]
  },
  {
   "cell_type": "code",
   "execution_count": 18,
   "metadata": {},
   "outputs": [
    {
     "name": "stdout",
     "output_type": "stream",
     "text": [
      "beta plus (=optimal/minimal beta plus):  170.71067811865473 meter\n"
     ]
    }
   ],
   "source": [
    "beta_plus=quad_driftspace*fodo_parameter*(fodo_parameter+1)/np.sqrt(fodo_parameter**2-1)\n",
    "beta_plus_opt=quad_driftspace*(2+np.sqrt(2))\n",
    "print('beta plus (=optimal/minimal beta plus): ',beta_plus,'meter')"
   ]
  },
  {
   "cell_type": "code",
   "execution_count": 19,
   "metadata": {},
   "outputs": [
    {
     "name": "stdout",
     "output_type": "stream",
     "text": [
      "beta minus:  29.28932188134525 meter\n"
     ]
    }
   ],
   "source": [
    "beta_minus=quad_driftspace*fodo_parameter*(fodo_parameter-1)/np.sqrt(fodo_parameter**2-1)\n",
    "beta_minus_opt=quad_driftspace*(2-np.sqrt(2))\n",
    "print('beta minus: ',beta_minus,'meter')"
   ]
  },
  {
   "cell_type": "markdown",
   "metadata": {},
   "source": [
    "<img src=\"./figures/beta_in_fodo.png\" width=\"500\">\n",
    "\n",
    "Comparison with LHC:\n",
    "- Phase advance $90^°$\n",
    "- $\\beta^+\\approx 180\\,$m\n",
    "- $\\beta^-\\approx 30\\,$m"
   ]
  },
  {
   "cell_type": "code",
   "execution_count": 40,
   "metadata": {},
   "outputs": [
    {
     "name": "stdout",
     "output_type": "stream",
     "text": [
      "Maximum (or x-direction in middle of QF) beam envelope with emittance of 2.5 nm rad: +- 0.6532814824381883 mm\n",
      "Minimum (or y-direction in middle of QF) beam envelope with emittance of 2.5 nm rad: +- 0.2705980500730985 mm\n"
     ]
    }
   ],
   "source": [
    "emittance=2.5e-9 #meter rad\n",
    "beam_envelope_max=np.sqrt(emittance*beta_plus_opt)\n",
    "beam_envelope_min=np.sqrt(emittance*beta_minus_opt)\n",
    "print('Maximum (or x-direction in middle of QF) beam envelope with emittance of 2.5 nm rad: +-',beam_envelope_max*1000,'mm')\n",
    "print('Minimum (or y-direction in middle of QF) beam envelope with emittance of 2.5 nm rad: +-',beam_envelope_min*1000,'mm')"
   ]
  },
  {
   "cell_type": "markdown",
   "metadata": {},
   "source": [
    "$\\rightarrow$ more than enough space in quadrupole aperture ($74.5$ mm) to fit a beam screen of the needed 10 sigma of the beam size: $(10\\cdot 0.65)$ mm"
   ]
  },
  {
   "cell_type": "markdown",
   "metadata": {},
   "source": [
    "## Phase space ellipse parameters $\\alpha, \\beta, \\gamma$\n",
    "- Transfomation matrix for one lattice period: \n",
    "    $M=\\begin{pmatrix}\\cos\\Phi+\\alpha\\sin\\Phi & \\beta\\sin\\Phi\\\\-\\gamma\\sin\\Phi & \\cos\\Phi-\\alpha\\sin\\Phi\\\\\\end{pmatrix}$\n",
    "    \n",
    "    with stability criterion $Tr(M^N)=2\\cos(N\\Phi)\\leq2 $,   \n",
    "    and the trace and phase advance being invariant under changing the startig point.\n",
    "\n",
    "- $\\beta=\\frac{M_{12}}{\\sin\\Phi}=M_{12}=2L(1+\\frac{f}{L})$\n",
    "- $\\alpha=\\frac{M_{11}-M_{22}}{2\\sin\\Phi}=\\frac{M_{11}-M_{22}}{2\\sin\\Phi}=\\frac{M_{11}-M_{22}}{2}$\n",
    "\n",
    "### In the middle of the focussing defocussing quad:\n",
    "\n",
    "- $ \\beta_{F/D}=\\frac{2L(1\\pm\\sin\\frac{\\Phi}{2})}{\\sin\\Phi}=2L(1 \\pm \\frac{1}{ \\sqrt{2}})=L (2 \\pm \\sqrt{2})=\\beta^\\pm$\n",
    "- $\\alpha_{F/D}=0$"
   ]
  },
  {
   "cell_type": "markdown",
   "metadata": {},
   "source": [
    "## Dispersion in the FODO cell with dipols\n",
    "- Dispersion: change of position $\\Delta x,y$ due to deviation from nominal momentum $\\Delta p/p_0$: $\\rightarrow D_{x,y}=\\frac{\\Delta u}{\\Delta p/p_0}$\n",
    "- in FODO cells: periodic dispersion function $D(z)\\rightarrow \\eta(z)$\n",
    "- Chromatic transformation matrix through half a cell ($\\frac{1}{2}QF - 3 \\times B - \\frac{1}{2} QD$) with thin lense and small bending angle $\\theta$-approximation:\n",
    "<img src=\"./figures/dispersion_fodo_1.png\" width=\"500\">\n",
    "<img src=\"./figures/dispersion_fodo_2.png\" width=\"500\">\n",
    "\n",
    "$\\rightarrow$\n",
    "The dispersion function in the middle of the focussing and defocussing quadrupole become the following respectively:\n",
    "- $\\eta^+=\\frac{f^2}{\\rho_0}(1+\\frac{L}{2f})=\\eta_{max}$\n",
    "- $\\eta^-=\\frac{f^2}{\\rho_0}(1+\\frac{L}{2f})=\\eta_{min}$\n",
    "\n",
    "    with the bending radius $\\rho_0$."
   ]
  },
  {
   "cell_type": "code",
   "execution_count": 33,
   "metadata": {},
   "outputs": [
    {
     "data": {
      "image/png": "[encoded data removed]",
      "text/plain": [
       "<Figure size 576x432 with 2 Axes>"
      ]
     },
     "metadata": {
      "needs_background": "light"
     },
     "output_type": "display_data"
    }
   ],
   "source": [
    "import matplotlib.pyplot as plt\n",
    "\n",
    "epsilon=0.2\n",
    "phi=np.linspace(epsilon,np.pi-epsilon,100)\n",
    "beta_max=2*(1+np.sin(phi/2))/np.sin(phi)\n",
    "eta_max=(np.sin(phi/2)+2)/2/np.sin(phi/2)/np.sin(phi/2)\n",
    "beta_min=2*(1-np.sin(phi/2))/np.sin(phi)\n",
    "eta_min=(-np.sin(phi/2)+2)/2/np.sin(phi/2)/np.sin(phi/2)\n",
    "fig,ax=plt.subplots(figsize=(8,6))\n",
    "ax_m=ax.twinx()\n",
    "ax.set_xlabel(\"Phase advance [rad]\")\n",
    "ax.set_ylabel(r\"$\\beta$ [in unit of $L$]\")\n",
    "ax_m.set_ylabel(r\"$\\eta$ [in unit of $L\\theta$]\")\n",
    "ax.set_ylim(0,10)\n",
    "ax.set_xlim(0,np.pi)\n",
    "ax_m.set_ylim(-0,10)\n",
    "l1=ax.plot(phi,beta_max,c='b',label=r'$\\beta^+$')\n",
    "l2=ax.plot(phi,beta_min,c='c',label=r'$\\beta^-$')\n",
    "l3=ax_m.plot(phi,eta_max, c='y', label=r'$\\eta^+$')\n",
    "l4=ax_m.plot(phi,eta_min, c='r', label=r'$\\eta^-$')\n",
    "lns = l1+l2+l3+l4\n",
    "labs = [l.get_label() for l in lns]\n",
    "ax.legend(lns,labs,loc='right')\n",
    "ax.set_xticks(np.linspace(0,1,5,)*np.pi)\n",
    "ax.set_xticklabels([\"$0$\", r\"$\\frac{\\pi}{4}$\", r\"$\\frac{\\pi}{2}$\",\n",
    "                    r\"$\\frac{3\\pi}{4}$\", r\"$\\pi$\",\n",
    "                     ])\n",
    "\n",
    "fig.tight_layout()\n",
    "\n"
   ]
  },
  {
   "cell_type": "code",
   "execution_count": 36,
   "metadata": {},
   "outputs": [
    {
     "name": "stdout",
     "output_type": "stream",
     "text": [
      "Bending radius: 639.8028712294193 meter\n"
     ]
    }
   ],
   "source": [
    "l=6\n",
    "# arc length lm in meter\n",
    "lm=l*1e3*0.67\n",
    "# bending radius rho in meter\n",
    "rho=lm/(2*np.pi)\n",
    "print('Bending radius:',rho,'meter')"
   ]
  },
  {
   "cell_type": "markdown",
   "metadata": {},
   "source": [
    "For the chosen phase advance $\\Phi=\\frac{\\pi}{2}$, the dispersion functions maximum and minium become:"
   ]
  },
  {
   "cell_type": "code",
   "execution_count": 37,
   "metadata": {},
   "outputs": [
    {
     "name": "stdout",
     "output_type": "stream",
     "text": [
      "Maximum dispersion: 10.577894000321852 meter\n"
     ]
    }
   ],
   "source": [
    "eta_max=quad_driftspace**2/(2*rho)*fodo_parameter*(2*fodo_parameter+1)\n",
    "print('Maximum dispersion:',eta_max,'meter')"
   ]
  },
  {
   "cell_type": "code",
   "execution_count": 41,
   "metadata": {},
   "outputs": [
    {
     "name": "stdout",
     "output_type": "stream",
     "text": [
      "Minimum dispersion: 5.051920196642293 meter\n"
     ]
    }
   ],
   "source": [
    "eta_min=quad_driftspace**2/(2*rho)*fodo_parameter*(2*fodo_parameter-1)\n",
    "print('Minimum dispersion:',eta_min,'meter')"
   ]
  },
  {
   "cell_type": "markdown",
   "metadata": {},
   "source": [
    "# Synchrotron radiation"
   ]
  },
  {
   "cell_type": "markdown",
   "metadata": {},
   "source": [
    "## Energy loss per turn\n",
    "- Synchrotron radiation power per turn:\n",
    "    * $P_\\mathrm{Proton}=\\frac{P_e}{1836^4}$\n",
    "    * $\\langle P_e\\rangle=\\frac{c}{2\\pi}C_\\gamma E^4\\langle\\frac{1}{\\rho^2}\\rangle$ mit $C_\\gamma=8.8463\\cdot 10^{-5}\\,\\mathrm{\\frac{m}{GeV^3}}$\n",
    "\n",
    "- Energy loss per turn and proton:\n",
    "    * $U_0=P_\\gamma \\frac{2\\pi\\rho}{\\beta c}$\n",
    "    * Isomagnetisches Lattice: $U_{0,\\mathrm{iso}}(\\mathrm{GeV})=\\frac{1}{1836^4}C_\\gamma\\frac{E^4(\\mathrm{GeV}^4)}{\\rho(\\mathrm{m})}$\n",
    "\n",
    "- Average radiation power per beam of current $I=ef_{rev}N=1\\,\\mathrm{A}$:\n",
    "    * $\\langle P_s\\rangle= U_0\\frac{I}{e}$"
   ]
  },
  {
   "cell_type": "code",
   "execution_count": 62,
   "metadata": {},
   "outputs": [
    {
     "name": "stdout",
     "output_type": "stream",
     "text": [
      "Energy loss per turn: 164.6717809319344 eV\n",
      "Average radiation power of each beam of 1A: 164.6717809319344 W\n"
     ]
    }
   ],
   "source": [
    "C_gamma=8.8463e-5 #m/GeV^3\n",
    "u_0iso=1e9/(1836**4)*C_gamma*energy**4/rho #eV\n",
    "current=1 #Ampere\n",
    "p_s=u_0iso*current #Watt\n",
    "print('Energy loss per turn:',u_0iso,'eV')\n",
    "print('Average radiation power of each beam of 1A:',p_s,'W')"
   ]
  }
 ],
 "metadata": {
  "kernelspec": {
   "display_name": "Python 3",
   "language": "python",
   "name": "python3"
  },
  "language_info": {
   "codemirror_mode": {
    "name": "ipython",
    "version": 3
   },
   "file_extension": ".py",
   "mimetype": "text/x-python",
   "name": "python",
   "nbconvert_exporter": "python",
   "pygments_lexer": "ipython3",
   "version": "3.7.8"
  }
 },
 "nbformat": 4,
 "nbformat_minor": 4
}
